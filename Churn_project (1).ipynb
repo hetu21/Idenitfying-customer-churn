{
 "cells": [
  {
   "cell_type": "code",
   "execution_count": 37,
   "id": "3412d1f3",
   "metadata": {},
   "outputs": [],
   "source": [
    "import pandas as pd\n",
    "import numpy as np \n",
    "import matplotlib.pyplot as plt  \n",
    "from sklearn.model_selection import train_test_split \n",
    "from sklearn.linear_model import LinearRegression\n",
    "from sklearn import metrics\n",
    "%matplotlib inline\n",
    "import seaborn as sns"
   ]
  },
  {
   "cell_type": "code",
   "execution_count": 3,
   "id": "66b325b9",
   "metadata": {},
   "outputs": [],
   "source": [
    "df = pd.read_csv('churn.csv')"
   ]
  },
  {
   "cell_type": "code",
   "execution_count": 4,
   "id": "eb4b40ea",
   "metadata": {},
   "outputs": [
    {
     "data": {
      "text/html": [
       "<div>\n",
       "<style scoped>\n",
       "    .dataframe tbody tr th:only-of-type {\n",
       "        vertical-align: middle;\n",
       "    }\n",
       "\n",
       "    .dataframe tbody tr th {\n",
       "        vertical-align: top;\n",
       "    }\n",
       "\n",
       "    .dataframe thead th {\n",
       "        text-align: right;\n",
       "    }\n",
       "</style>\n",
       "<table border=\"1\" class=\"dataframe\">\n",
       "  <thead>\n",
       "    <tr style=\"text-align: right;\">\n",
       "      <th></th>\n",
       "      <th>State</th>\n",
       "      <th>Account Length</th>\n",
       "      <th>Area Code</th>\n",
       "      <th>Phone</th>\n",
       "      <th>Intl_Plan</th>\n",
       "      <th>Vmail_Plan</th>\n",
       "      <th>Vmail_Message</th>\n",
       "      <th>Day_Mins</th>\n",
       "      <th>Day_Calls</th>\n",
       "      <th>Day_Charge</th>\n",
       "      <th>...</th>\n",
       "      <th>Night_Calls</th>\n",
       "      <th>Night_Charge</th>\n",
       "      <th>Intl_Mins</th>\n",
       "      <th>Intl_Calls</th>\n",
       "      <th>Intl_Charge</th>\n",
       "      <th>CustServ_Calls</th>\n",
       "      <th>Churn?</th>\n",
       "      <th>Total_Calls</th>\n",
       "      <th>Total_Mins</th>\n",
       "      <th>Total_Charge</th>\n",
       "    </tr>\n",
       "  </thead>\n",
       "  <tbody>\n",
       "    <tr>\n",
       "      <th>0</th>\n",
       "      <td>KS</td>\n",
       "      <td>128</td>\n",
       "      <td>415</td>\n",
       "      <td>382-4657</td>\n",
       "      <td>no</td>\n",
       "      <td>yes</td>\n",
       "      <td>25</td>\n",
       "      <td>265.1</td>\n",
       "      <td>110</td>\n",
       "      <td>45.07</td>\n",
       "      <td>...</td>\n",
       "      <td>91.0</td>\n",
       "      <td>11.01</td>\n",
       "      <td>10.0</td>\n",
       "      <td>3</td>\n",
       "      <td>2.70</td>\n",
       "      <td>1</td>\n",
       "      <td>False.</td>\n",
       "      <td>303.0</td>\n",
       "      <td>717.2</td>\n",
       "      <td>75.56</td>\n",
       "    </tr>\n",
       "    <tr>\n",
       "      <th>1</th>\n",
       "      <td>OH</td>\n",
       "      <td>107</td>\n",
       "      <td>415</td>\n",
       "      <td>371-7191</td>\n",
       "      <td>no</td>\n",
       "      <td>yes</td>\n",
       "      <td>26</td>\n",
       "      <td>161.6</td>\n",
       "      <td>123</td>\n",
       "      <td>27.47</td>\n",
       "      <td>...</td>\n",
       "      <td>103.0</td>\n",
       "      <td>11.45</td>\n",
       "      <td>13.7</td>\n",
       "      <td>3</td>\n",
       "      <td>3.70</td>\n",
       "      <td>1</td>\n",
       "      <td>False.</td>\n",
       "      <td>332.0</td>\n",
       "      <td>625.2</td>\n",
       "      <td>59.24</td>\n",
       "    </tr>\n",
       "    <tr>\n",
       "      <th>2</th>\n",
       "      <td>NJ</td>\n",
       "      <td>137</td>\n",
       "      <td>415</td>\n",
       "      <td>358-1921</td>\n",
       "      <td>no</td>\n",
       "      <td>no</td>\n",
       "      <td>0</td>\n",
       "      <td>243.4</td>\n",
       "      <td>114</td>\n",
       "      <td>41.38</td>\n",
       "      <td>...</td>\n",
       "      <td>104.0</td>\n",
       "      <td>7.32</td>\n",
       "      <td>12.2</td>\n",
       "      <td>5</td>\n",
       "      <td>3.29</td>\n",
       "      <td>0</td>\n",
       "      <td>False.</td>\n",
       "      <td>333.0</td>\n",
       "      <td>539.4</td>\n",
       "      <td>62.29</td>\n",
       "    </tr>\n",
       "    <tr>\n",
       "      <th>3</th>\n",
       "      <td>OH</td>\n",
       "      <td>84</td>\n",
       "      <td>408</td>\n",
       "      <td>375-9999</td>\n",
       "      <td>yes</td>\n",
       "      <td>no</td>\n",
       "      <td>0</td>\n",
       "      <td>299.4</td>\n",
       "      <td>71</td>\n",
       "      <td>50.90</td>\n",
       "      <td>...</td>\n",
       "      <td>89.0</td>\n",
       "      <td>8.86</td>\n",
       "      <td>6.6</td>\n",
       "      <td>7</td>\n",
       "      <td>1.78</td>\n",
       "      <td>2</td>\n",
       "      <td>False.</td>\n",
       "      <td>255.0</td>\n",
       "      <td>564.8</td>\n",
       "      <td>66.80</td>\n",
       "    </tr>\n",
       "    <tr>\n",
       "      <th>4</th>\n",
       "      <td>OK</td>\n",
       "      <td>75</td>\n",
       "      <td>415</td>\n",
       "      <td>330-6626</td>\n",
       "      <td>yes</td>\n",
       "      <td>no</td>\n",
       "      <td>0</td>\n",
       "      <td>166.7</td>\n",
       "      <td>113</td>\n",
       "      <td>28.34</td>\n",
       "      <td>...</td>\n",
       "      <td>121.0</td>\n",
       "      <td>8.41</td>\n",
       "      <td>10.1</td>\n",
       "      <td>3</td>\n",
       "      <td>2.73</td>\n",
       "      <td>3</td>\n",
       "      <td>False.</td>\n",
       "      <td>359.0</td>\n",
       "      <td>512.0</td>\n",
       "      <td>52.09</td>\n",
       "    </tr>\n",
       "  </tbody>\n",
       "</table>\n",
       "<p>5 rows × 24 columns</p>\n",
       "</div>"
      ],
      "text/plain": [
       "  State  Account Length  Area Code     Phone Intl_Plan Vmail_Plan  \\\n",
       "0    KS             128        415  382-4657        no        yes   \n",
       "1    OH             107        415  371-7191        no        yes   \n",
       "2    NJ             137        415  358-1921        no         no   \n",
       "3    OH              84        408  375-9999       yes         no   \n",
       "4    OK              75        415  330-6626       yes         no   \n",
       "\n",
       "   Vmail_Message  Day_Mins  Day_Calls  Day_Charge  ...  Night_Calls  \\\n",
       "0             25     265.1        110       45.07  ...         91.0   \n",
       "1             26     161.6        123       27.47  ...        103.0   \n",
       "2              0     243.4        114       41.38  ...        104.0   \n",
       "3              0     299.4         71       50.90  ...         89.0   \n",
       "4              0     166.7        113       28.34  ...        121.0   \n",
       "\n",
       "   Night_Charge  Intl_Mins  Intl_Calls  Intl_Charge  CustServ_Calls  Churn?  \\\n",
       "0         11.01       10.0           3         2.70               1  False.   \n",
       "1         11.45       13.7           3         3.70               1  False.   \n",
       "2          7.32       12.2           5         3.29               0  False.   \n",
       "3          8.86        6.6           7         1.78               2  False.   \n",
       "4          8.41       10.1           3         2.73               3  False.   \n",
       "\n",
       "   Total_Calls  Total_Mins  Total_Charge  \n",
       "0        303.0       717.2         75.56  \n",
       "1        332.0       625.2         59.24  \n",
       "2        333.0       539.4         62.29  \n",
       "3        255.0       564.8         66.80  \n",
       "4        359.0       512.0         52.09  \n",
       "\n",
       "[5 rows x 24 columns]"
      ]
     },
     "execution_count": 4,
     "metadata": {},
     "output_type": "execute_result"
    }
   ],
   "source": [
    "df.head(5)"
   ]
  },
  {
   "cell_type": "code",
   "execution_count": 85,
   "id": "85e57c9c",
   "metadata": {
    "scrolled": true
   },
   "outputs": [
    {
     "data": {
      "text/html": [
       "<div>\n",
       "<style scoped>\n",
       "    .dataframe tbody tr th:only-of-type {\n",
       "        vertical-align: middle;\n",
       "    }\n",
       "\n",
       "    .dataframe tbody tr th {\n",
       "        vertical-align: top;\n",
       "    }\n",
       "\n",
       "    .dataframe thead th {\n",
       "        text-align: right;\n",
       "    }\n",
       "</style>\n",
       "<table border=\"1\" class=\"dataframe\">\n",
       "  <thead>\n",
       "    <tr style=\"text-align: right;\">\n",
       "      <th></th>\n",
       "      <th>Account Length</th>\n",
       "      <th>Area Code</th>\n",
       "      <th>Vmail_Message</th>\n",
       "      <th>Day_Mins</th>\n",
       "      <th>Day_Calls</th>\n",
       "      <th>Day_Charge</th>\n",
       "      <th>Eve_Mins</th>\n",
       "      <th>Eve_Calls</th>\n",
       "      <th>Eve_Charge</th>\n",
       "      <th>Night_Mins</th>\n",
       "      <th>Night_Calls</th>\n",
       "      <th>Night_Charge</th>\n",
       "      <th>Intl_Mins</th>\n",
       "      <th>Intl_Calls</th>\n",
       "      <th>Intl_Charge</th>\n",
       "      <th>CustServ_Calls</th>\n",
       "      <th>Total_Calls</th>\n",
       "      <th>Total_Mins</th>\n",
       "      <th>Total_Charge</th>\n",
       "    </tr>\n",
       "  </thead>\n",
       "  <tbody>\n",
       "    <tr>\n",
       "      <th>count</th>\n",
       "      <td>3311.000000</td>\n",
       "      <td>3311.000000</td>\n",
       "      <td>3311.000000</td>\n",
       "      <td>3311.000000</td>\n",
       "      <td>3311.000000</td>\n",
       "      <td>3311.000000</td>\n",
       "      <td>3311.000000</td>\n",
       "      <td>3311.000000</td>\n",
       "      <td>3311.000000</td>\n",
       "      <td>3311.000000</td>\n",
       "      <td>3311.000000</td>\n",
       "      <td>3311.000000</td>\n",
       "      <td>3311.000000</td>\n",
       "      <td>3311.000000</td>\n",
       "      <td>3311.000000</td>\n",
       "      <td>3311.000000</td>\n",
       "      <td>3311.000000</td>\n",
       "      <td>3311.000000</td>\n",
       "      <td>3311.000000</td>\n",
       "    </tr>\n",
       "    <tr>\n",
       "      <th>mean</th>\n",
       "      <td>101.033525</td>\n",
       "      <td>437.313802</td>\n",
       "      <td>8.092117</td>\n",
       "      <td>179.739414</td>\n",
       "      <td>100.438236</td>\n",
       "      <td>30.556243</td>\n",
       "      <td>200.872214</td>\n",
       "      <td>100.116581</td>\n",
       "      <td>17.126744</td>\n",
       "      <td>200.705165</td>\n",
       "      <td>100.090791</td>\n",
       "      <td>9.033534</td>\n",
       "      <td>10.241498</td>\n",
       "      <td>4.483842</td>\n",
       "      <td>2.765693</td>\n",
       "      <td>1.565690</td>\n",
       "      <td>305.129450</td>\n",
       "      <td>591.558291</td>\n",
       "      <td>59.482214</td>\n",
       "    </tr>\n",
       "    <tr>\n",
       "      <th>std</th>\n",
       "      <td>39.825508</td>\n",
       "      <td>42.448394</td>\n",
       "      <td>13.687281</td>\n",
       "      <td>54.459378</td>\n",
       "      <td>20.096212</td>\n",
       "      <td>9.258066</td>\n",
       "      <td>50.731640</td>\n",
       "      <td>19.905145</td>\n",
       "      <td>5.270011</td>\n",
       "      <td>50.538895</td>\n",
       "      <td>19.620253</td>\n",
       "      <td>2.273704</td>\n",
       "      <td>2.791169</td>\n",
       "      <td>2.463932</td>\n",
       "      <td>0.753655</td>\n",
       "      <td>1.314969</td>\n",
       "      <td>34.438113</td>\n",
       "      <td>89.906658</td>\n",
       "      <td>10.893570</td>\n",
       "    </tr>\n",
       "    <tr>\n",
       "      <th>min</th>\n",
       "      <td>1.000000</td>\n",
       "      <td>408.000000</td>\n",
       "      <td>0.000000</td>\n",
       "      <td>0.000000</td>\n",
       "      <td>0.000000</td>\n",
       "      <td>0.000000</td>\n",
       "      <td>0.000000</td>\n",
       "      <td>0.000000</td>\n",
       "      <td>0.000000</td>\n",
       "      <td>23.200000</td>\n",
       "      <td>8.610000</td>\n",
       "      <td>1.040000</td>\n",
       "      <td>0.000000</td>\n",
       "      <td>0.000000</td>\n",
       "      <td>0.000000</td>\n",
       "      <td>0.000000</td>\n",
       "      <td>191.000000</td>\n",
       "      <td>284.300000</td>\n",
       "      <td>22.930000</td>\n",
       "    </tr>\n",
       "    <tr>\n",
       "      <th>25%</th>\n",
       "      <td>74.000000</td>\n",
       "      <td>408.000000</td>\n",
       "      <td>0.000000</td>\n",
       "      <td>143.600000</td>\n",
       "      <td>87.000000</td>\n",
       "      <td>24.410000</td>\n",
       "      <td>166.400000</td>\n",
       "      <td>87.000000</td>\n",
       "      <td>14.140000</td>\n",
       "      <td>166.900000</td>\n",
       "      <td>87.000000</td>\n",
       "      <td>7.515000</td>\n",
       "      <td>8.500000</td>\n",
       "      <td>3.000000</td>\n",
       "      <td>2.300000</td>\n",
       "      <td>1.000000</td>\n",
       "      <td>282.000000</td>\n",
       "      <td>531.250000</td>\n",
       "      <td>52.350000</td>\n",
       "    </tr>\n",
       "    <tr>\n",
       "      <th>50%</th>\n",
       "      <td>101.000000</td>\n",
       "      <td>415.000000</td>\n",
       "      <td>0.000000</td>\n",
       "      <td>179.400000</td>\n",
       "      <td>101.000000</td>\n",
       "      <td>30.500000</td>\n",
       "      <td>201.200000</td>\n",
       "      <td>100.000000</td>\n",
       "      <td>17.100000</td>\n",
       "      <td>201.100000</td>\n",
       "      <td>100.000000</td>\n",
       "      <td>9.050000</td>\n",
       "      <td>10.300000</td>\n",
       "      <td>4.000000</td>\n",
       "      <td>2.780000</td>\n",
       "      <td>1.000000</td>\n",
       "      <td>305.000000</td>\n",
       "      <td>593.200000</td>\n",
       "      <td>59.420000</td>\n",
       "    </tr>\n",
       "    <tr>\n",
       "      <th>75%</th>\n",
       "      <td>127.000000</td>\n",
       "      <td>510.000000</td>\n",
       "      <td>19.500000</td>\n",
       "      <td>216.200000</td>\n",
       "      <td>114.000000</td>\n",
       "      <td>36.750000</td>\n",
       "      <td>235.300000</td>\n",
       "      <td>114.000000</td>\n",
       "      <td>20.000000</td>\n",
       "      <td>235.050000</td>\n",
       "      <td>113.000000</td>\n",
       "      <td>10.580000</td>\n",
       "      <td>12.100000</td>\n",
       "      <td>6.000000</td>\n",
       "      <td>3.270000</td>\n",
       "      <td>2.000000</td>\n",
       "      <td>328.000000</td>\n",
       "      <td>652.150000</td>\n",
       "      <td>66.480000</td>\n",
       "    </tr>\n",
       "    <tr>\n",
       "      <th>max</th>\n",
       "      <td>243.000000</td>\n",
       "      <td>510.000000</td>\n",
       "      <td>51.000000</td>\n",
       "      <td>350.800000</td>\n",
       "      <td>165.000000</td>\n",
       "      <td>59.640000</td>\n",
       "      <td>363.700000</td>\n",
       "      <td>170.000000</td>\n",
       "      <td>191.400000</td>\n",
       "      <td>395.000000</td>\n",
       "      <td>175.000000</td>\n",
       "      <td>17.770000</td>\n",
       "      <td>20.000000</td>\n",
       "      <td>20.000000</td>\n",
       "      <td>5.400000</td>\n",
       "      <td>9.000000</td>\n",
       "      <td>416.000000</td>\n",
       "      <td>885.000000</td>\n",
       "      <td>226.810000</td>\n",
       "    </tr>\n",
       "  </tbody>\n",
       "</table>\n",
       "</div>"
      ],
      "text/plain": [
       "       Account Length    Area Code  Vmail_Message     Day_Mins    Day_Calls  \\\n",
       "count     3311.000000  3311.000000    3311.000000  3311.000000  3311.000000   \n",
       "mean       101.033525   437.313802       8.092117   179.739414   100.438236   \n",
       "std         39.825508    42.448394      13.687281    54.459378    20.096212   \n",
       "min          1.000000   408.000000       0.000000     0.000000     0.000000   \n",
       "25%         74.000000   408.000000       0.000000   143.600000    87.000000   \n",
       "50%        101.000000   415.000000       0.000000   179.400000   101.000000   \n",
       "75%        127.000000   510.000000      19.500000   216.200000   114.000000   \n",
       "max        243.000000   510.000000      51.000000   350.800000   165.000000   \n",
       "\n",
       "        Day_Charge     Eve_Mins    Eve_Calls   Eve_Charge   Night_Mins  \\\n",
       "count  3311.000000  3311.000000  3311.000000  3311.000000  3311.000000   \n",
       "mean     30.556243   200.872214   100.116581    17.126744   200.705165   \n",
       "std       9.258066    50.731640    19.905145     5.270011    50.538895   \n",
       "min       0.000000     0.000000     0.000000     0.000000    23.200000   \n",
       "25%      24.410000   166.400000    87.000000    14.140000   166.900000   \n",
       "50%      30.500000   201.200000   100.000000    17.100000   201.100000   \n",
       "75%      36.750000   235.300000   114.000000    20.000000   235.050000   \n",
       "max      59.640000   363.700000   170.000000   191.400000   395.000000   \n",
       "\n",
       "       Night_Calls  Night_Charge    Intl_Mins   Intl_Calls  Intl_Charge  \\\n",
       "count  3311.000000   3311.000000  3311.000000  3311.000000  3311.000000   \n",
       "mean    100.090791      9.033534    10.241498     4.483842     2.765693   \n",
       "std      19.620253      2.273704     2.791169     2.463932     0.753655   \n",
       "min       8.610000      1.040000     0.000000     0.000000     0.000000   \n",
       "25%      87.000000      7.515000     8.500000     3.000000     2.300000   \n",
       "50%     100.000000      9.050000    10.300000     4.000000     2.780000   \n",
       "75%     113.000000     10.580000    12.100000     6.000000     3.270000   \n",
       "max     175.000000     17.770000    20.000000    20.000000     5.400000   \n",
       "\n",
       "       CustServ_Calls  Total_Calls   Total_Mins  Total_Charge  \n",
       "count     3311.000000  3311.000000  3311.000000   3311.000000  \n",
       "mean         1.565690   305.129450   591.558291     59.482214  \n",
       "std          1.314969    34.438113    89.906658     10.893570  \n",
       "min          0.000000   191.000000   284.300000     22.930000  \n",
       "25%          1.000000   282.000000   531.250000     52.350000  \n",
       "50%          1.000000   305.000000   593.200000     59.420000  \n",
       "75%          2.000000   328.000000   652.150000     66.480000  \n",
       "max          9.000000   416.000000   885.000000    226.810000  "
      ]
     },
     "execution_count": 85,
     "metadata": {},
     "output_type": "execute_result"
    }
   ],
   "source": [
    "df.describe()"
   ]
  },
  {
   "cell_type": "code",
   "execution_count": 86,
   "id": "8149f8cc",
   "metadata": {},
   "outputs": [
    {
     "data": {
      "text/html": [
       "<div>\n",
       "<style scoped>\n",
       "    .dataframe tbody tr th:only-of-type {\n",
       "        vertical-align: middle;\n",
       "    }\n",
       "\n",
       "    .dataframe tbody tr th {\n",
       "        vertical-align: top;\n",
       "    }\n",
       "\n",
       "    .dataframe thead th {\n",
       "        text-align: right;\n",
       "    }\n",
       "</style>\n",
       "<table border=\"1\" class=\"dataframe\">\n",
       "  <thead>\n",
       "    <tr style=\"text-align: right;\">\n",
       "      <th></th>\n",
       "      <th>State</th>\n",
       "      <th>Account Length</th>\n",
       "      <th>Area Code</th>\n",
       "      <th>Phone</th>\n",
       "      <th>Intl_Plan</th>\n",
       "      <th>Vmail_Plan</th>\n",
       "      <th>Vmail_Message</th>\n",
       "      <th>Day_Mins</th>\n",
       "      <th>Day_Calls</th>\n",
       "      <th>Day_Charge</th>\n",
       "      <th>...</th>\n",
       "      <th>Night_Calls</th>\n",
       "      <th>Night_Charge</th>\n",
       "      <th>Intl_Mins</th>\n",
       "      <th>Intl_Calls</th>\n",
       "      <th>Intl_Charge</th>\n",
       "      <th>CustServ_Calls</th>\n",
       "      <th>Churn?</th>\n",
       "      <th>Total_Calls</th>\n",
       "      <th>Total_Mins</th>\n",
       "      <th>Total_Charge</th>\n",
       "    </tr>\n",
       "  </thead>\n",
       "  <tbody>\n",
       "    <tr>\n",
       "      <th>0</th>\n",
       "      <td>False</td>\n",
       "      <td>False</td>\n",
       "      <td>False</td>\n",
       "      <td>False</td>\n",
       "      <td>False</td>\n",
       "      <td>False</td>\n",
       "      <td>False</td>\n",
       "      <td>False</td>\n",
       "      <td>False</td>\n",
       "      <td>False</td>\n",
       "      <td>...</td>\n",
       "      <td>False</td>\n",
       "      <td>False</td>\n",
       "      <td>False</td>\n",
       "      <td>False</td>\n",
       "      <td>False</td>\n",
       "      <td>False</td>\n",
       "      <td>False</td>\n",
       "      <td>False</td>\n",
       "      <td>False</td>\n",
       "      <td>False</td>\n",
       "    </tr>\n",
       "    <tr>\n",
       "      <th>1</th>\n",
       "      <td>False</td>\n",
       "      <td>False</td>\n",
       "      <td>False</td>\n",
       "      <td>False</td>\n",
       "      <td>False</td>\n",
       "      <td>False</td>\n",
       "      <td>False</td>\n",
       "      <td>False</td>\n",
       "      <td>False</td>\n",
       "      <td>False</td>\n",
       "      <td>...</td>\n",
       "      <td>False</td>\n",
       "      <td>False</td>\n",
       "      <td>False</td>\n",
       "      <td>False</td>\n",
       "      <td>False</td>\n",
       "      <td>False</td>\n",
       "      <td>False</td>\n",
       "      <td>False</td>\n",
       "      <td>False</td>\n",
       "      <td>False</td>\n",
       "    </tr>\n",
       "    <tr>\n",
       "      <th>2</th>\n",
       "      <td>False</td>\n",
       "      <td>False</td>\n",
       "      <td>False</td>\n",
       "      <td>False</td>\n",
       "      <td>False</td>\n",
       "      <td>False</td>\n",
       "      <td>False</td>\n",
       "      <td>False</td>\n",
       "      <td>False</td>\n",
       "      <td>False</td>\n",
       "      <td>...</td>\n",
       "      <td>False</td>\n",
       "      <td>False</td>\n",
       "      <td>False</td>\n",
       "      <td>False</td>\n",
       "      <td>False</td>\n",
       "      <td>False</td>\n",
       "      <td>False</td>\n",
       "      <td>False</td>\n",
       "      <td>False</td>\n",
       "      <td>False</td>\n",
       "    </tr>\n",
       "    <tr>\n",
       "      <th>3</th>\n",
       "      <td>False</td>\n",
       "      <td>False</td>\n",
       "      <td>False</td>\n",
       "      <td>False</td>\n",
       "      <td>False</td>\n",
       "      <td>False</td>\n",
       "      <td>False</td>\n",
       "      <td>False</td>\n",
       "      <td>False</td>\n",
       "      <td>False</td>\n",
       "      <td>...</td>\n",
       "      <td>False</td>\n",
       "      <td>False</td>\n",
       "      <td>False</td>\n",
       "      <td>False</td>\n",
       "      <td>False</td>\n",
       "      <td>False</td>\n",
       "      <td>False</td>\n",
       "      <td>False</td>\n",
       "      <td>False</td>\n",
       "      <td>False</td>\n",
       "    </tr>\n",
       "    <tr>\n",
       "      <th>4</th>\n",
       "      <td>False</td>\n",
       "      <td>False</td>\n",
       "      <td>False</td>\n",
       "      <td>False</td>\n",
       "      <td>False</td>\n",
       "      <td>False</td>\n",
       "      <td>False</td>\n",
       "      <td>False</td>\n",
       "      <td>False</td>\n",
       "      <td>False</td>\n",
       "      <td>...</td>\n",
       "      <td>False</td>\n",
       "      <td>False</td>\n",
       "      <td>False</td>\n",
       "      <td>False</td>\n",
       "      <td>False</td>\n",
       "      <td>False</td>\n",
       "      <td>False</td>\n",
       "      <td>False</td>\n",
       "      <td>False</td>\n",
       "      <td>False</td>\n",
       "    </tr>\n",
       "    <tr>\n",
       "      <th>...</th>\n",
       "      <td>...</td>\n",
       "      <td>...</td>\n",
       "      <td>...</td>\n",
       "      <td>...</td>\n",
       "      <td>...</td>\n",
       "      <td>...</td>\n",
       "      <td>...</td>\n",
       "      <td>...</td>\n",
       "      <td>...</td>\n",
       "      <td>...</td>\n",
       "      <td>...</td>\n",
       "      <td>...</td>\n",
       "      <td>...</td>\n",
       "      <td>...</td>\n",
       "      <td>...</td>\n",
       "      <td>...</td>\n",
       "      <td>...</td>\n",
       "      <td>...</td>\n",
       "      <td>...</td>\n",
       "      <td>...</td>\n",
       "      <td>...</td>\n",
       "    </tr>\n",
       "    <tr>\n",
       "      <th>3306</th>\n",
       "      <td>False</td>\n",
       "      <td>False</td>\n",
       "      <td>False</td>\n",
       "      <td>False</td>\n",
       "      <td>False</td>\n",
       "      <td>False</td>\n",
       "      <td>False</td>\n",
       "      <td>False</td>\n",
       "      <td>False</td>\n",
       "      <td>False</td>\n",
       "      <td>...</td>\n",
       "      <td>False</td>\n",
       "      <td>False</td>\n",
       "      <td>False</td>\n",
       "      <td>False</td>\n",
       "      <td>False</td>\n",
       "      <td>False</td>\n",
       "      <td>False</td>\n",
       "      <td>False</td>\n",
       "      <td>False</td>\n",
       "      <td>False</td>\n",
       "    </tr>\n",
       "    <tr>\n",
       "      <th>3307</th>\n",
       "      <td>False</td>\n",
       "      <td>False</td>\n",
       "      <td>False</td>\n",
       "      <td>False</td>\n",
       "      <td>False</td>\n",
       "      <td>False</td>\n",
       "      <td>False</td>\n",
       "      <td>False</td>\n",
       "      <td>False</td>\n",
       "      <td>False</td>\n",
       "      <td>...</td>\n",
       "      <td>False</td>\n",
       "      <td>False</td>\n",
       "      <td>False</td>\n",
       "      <td>False</td>\n",
       "      <td>False</td>\n",
       "      <td>False</td>\n",
       "      <td>False</td>\n",
       "      <td>False</td>\n",
       "      <td>False</td>\n",
       "      <td>False</td>\n",
       "    </tr>\n",
       "    <tr>\n",
       "      <th>3308</th>\n",
       "      <td>False</td>\n",
       "      <td>False</td>\n",
       "      <td>False</td>\n",
       "      <td>False</td>\n",
       "      <td>False</td>\n",
       "      <td>False</td>\n",
       "      <td>False</td>\n",
       "      <td>False</td>\n",
       "      <td>False</td>\n",
       "      <td>False</td>\n",
       "      <td>...</td>\n",
       "      <td>False</td>\n",
       "      <td>False</td>\n",
       "      <td>False</td>\n",
       "      <td>False</td>\n",
       "      <td>False</td>\n",
       "      <td>False</td>\n",
       "      <td>False</td>\n",
       "      <td>False</td>\n",
       "      <td>False</td>\n",
       "      <td>False</td>\n",
       "    </tr>\n",
       "    <tr>\n",
       "      <th>3309</th>\n",
       "      <td>False</td>\n",
       "      <td>False</td>\n",
       "      <td>False</td>\n",
       "      <td>False</td>\n",
       "      <td>False</td>\n",
       "      <td>False</td>\n",
       "      <td>False</td>\n",
       "      <td>False</td>\n",
       "      <td>False</td>\n",
       "      <td>False</td>\n",
       "      <td>...</td>\n",
       "      <td>False</td>\n",
       "      <td>False</td>\n",
       "      <td>False</td>\n",
       "      <td>False</td>\n",
       "      <td>False</td>\n",
       "      <td>False</td>\n",
       "      <td>False</td>\n",
       "      <td>False</td>\n",
       "      <td>False</td>\n",
       "      <td>False</td>\n",
       "    </tr>\n",
       "    <tr>\n",
       "      <th>3310</th>\n",
       "      <td>False</td>\n",
       "      <td>False</td>\n",
       "      <td>False</td>\n",
       "      <td>False</td>\n",
       "      <td>False</td>\n",
       "      <td>False</td>\n",
       "      <td>False</td>\n",
       "      <td>False</td>\n",
       "      <td>False</td>\n",
       "      <td>False</td>\n",
       "      <td>...</td>\n",
       "      <td>False</td>\n",
       "      <td>False</td>\n",
       "      <td>False</td>\n",
       "      <td>False</td>\n",
       "      <td>False</td>\n",
       "      <td>False</td>\n",
       "      <td>False</td>\n",
       "      <td>False</td>\n",
       "      <td>False</td>\n",
       "      <td>False</td>\n",
       "    </tr>\n",
       "  </tbody>\n",
       "</table>\n",
       "<p>3311 rows × 24 columns</p>\n",
       "</div>"
      ],
      "text/plain": [
       "      State  Account Length  Area Code  Phone  Intl_Plan  Vmail_Plan  \\\n",
       "0     False           False      False  False      False       False   \n",
       "1     False           False      False  False      False       False   \n",
       "2     False           False      False  False      False       False   \n",
       "3     False           False      False  False      False       False   \n",
       "4     False           False      False  False      False       False   \n",
       "...     ...             ...        ...    ...        ...         ...   \n",
       "3306  False           False      False  False      False       False   \n",
       "3307  False           False      False  False      False       False   \n",
       "3308  False           False      False  False      False       False   \n",
       "3309  False           False      False  False      False       False   \n",
       "3310  False           False      False  False      False       False   \n",
       "\n",
       "      Vmail_Message  Day_Mins  Day_Calls  Day_Charge  ...  Night_Calls  \\\n",
       "0             False     False      False       False  ...        False   \n",
       "1             False     False      False       False  ...        False   \n",
       "2             False     False      False       False  ...        False   \n",
       "3             False     False      False       False  ...        False   \n",
       "4             False     False      False       False  ...        False   \n",
       "...             ...       ...        ...         ...  ...          ...   \n",
       "3306          False     False      False       False  ...        False   \n",
       "3307          False     False      False       False  ...        False   \n",
       "3308          False     False      False       False  ...        False   \n",
       "3309          False     False      False       False  ...        False   \n",
       "3310          False     False      False       False  ...        False   \n",
       "\n",
       "      Night_Charge  Intl_Mins  Intl_Calls  Intl_Charge  CustServ_Calls  \\\n",
       "0            False      False       False        False           False   \n",
       "1            False      False       False        False           False   \n",
       "2            False      False       False        False           False   \n",
       "3            False      False       False        False           False   \n",
       "4            False      False       False        False           False   \n",
       "...            ...        ...         ...          ...             ...   \n",
       "3306         False      False       False        False           False   \n",
       "3307         False      False       False        False           False   \n",
       "3308         False      False       False        False           False   \n",
       "3309         False      False       False        False           False   \n",
       "3310         False      False       False        False           False   \n",
       "\n",
       "      Churn?  Total_Calls  Total_Mins  Total_Charge  \n",
       "0      False        False       False         False  \n",
       "1      False        False       False         False  \n",
       "2      False        False       False         False  \n",
       "3      False        False       False         False  \n",
       "4      False        False       False         False  \n",
       "...      ...          ...         ...           ...  \n",
       "3306   False        False       False         False  \n",
       "3307   False        False       False         False  \n",
       "3308   False        False       False         False  \n",
       "3309   False        False       False         False  \n",
       "3310   False        False       False         False  \n",
       "\n",
       "[3311 rows x 24 columns]"
      ]
     },
     "execution_count": 86,
     "metadata": {},
     "output_type": "execute_result"
    }
   ],
   "source": [
    "df.isna()"
   ]
  },
  {
   "cell_type": "code",
   "execution_count": 87,
   "id": "bb28fce8",
   "metadata": {},
   "outputs": [
    {
     "name": "stdout",
     "output_type": "stream",
     "text": [
      "<class 'pandas.core.frame.DataFrame'>\n",
      "RangeIndex: 3311 entries, 0 to 3310\n",
      "Data columns (total 24 columns):\n",
      " #   Column          Non-Null Count  Dtype  \n",
      "---  ------          --------------  -----  \n",
      " 0   State           3311 non-null   object \n",
      " 1   Account Length  3311 non-null   int64  \n",
      " 2   Area Code       3311 non-null   int64  \n",
      " 3   Phone           3311 non-null   object \n",
      " 4   Intl_Plan       3311 non-null   object \n",
      " 5   Vmail_Plan      3311 non-null   object \n",
      " 6   Vmail_Message   3311 non-null   int64  \n",
      " 7   Day_Mins        3311 non-null   float64\n",
      " 8   Day_Calls       3311 non-null   int64  \n",
      " 9   Day_Charge      3311 non-null   float64\n",
      " 10  Eve_Mins        3311 non-null   float64\n",
      " 11  Eve_Calls       3311 non-null   int64  \n",
      " 12  Eve_Charge      3311 non-null   float64\n",
      " 13  Night_Mins      3311 non-null   float64\n",
      " 14  Night_Calls     3311 non-null   float64\n",
      " 15  Night_Charge    3311 non-null   float64\n",
      " 16  Intl_Mins       3311 non-null   float64\n",
      " 17  Intl_Calls      3311 non-null   int64  \n",
      " 18  Intl_Charge     3311 non-null   float64\n",
      " 19  CustServ_Calls  3311 non-null   int64  \n",
      " 20  Churn?          3311 non-null   object \n",
      " 21  Total_Calls     3311 non-null   float64\n",
      " 22  Total_Mins      3311 non-null   float64\n",
      " 23  Total_Charge    3311 non-null   float64\n",
      "dtypes: float64(12), int64(7), object(5)\n",
      "memory usage: 620.9+ KB\n"
     ]
    }
   ],
   "source": [
    "df.info()"
   ]
  },
  {
   "cell_type": "code",
   "execution_count": 88,
   "id": "5f165004",
   "metadata": {},
   "outputs": [
    {
     "data": {
      "image/png": "[encoded data removed]",
      "text/plain": [
       "<Figure size 432x288 with 1 Axes>"
      ]
     },
     "metadata": {
      "needs_background": "light"
     },
     "output_type": "display_data"
    }
   ],
   "source": [
    "boxplot = df.boxplot(column =['Day_Mins','Day_Calls','Day_Charge'])"
   ]
  },
  {
   "cell_type": "code",
   "execution_count": 89,
   "id": "57559417",
   "metadata": {},
   "outputs": [
    {
     "data": {
      "image/png": "[encoded data removed]",
      "text/plain": [
       "<Figure size 432x288 with 1 Axes>"
      ]
     },
     "metadata": {
      "needs_background": "light"
     },
     "output_type": "display_data"
    }
   ],
   "source": [
    "x = df['Day_Mins']\n",
    "y = df['Day_Charge']\n",
    "\n",
    "plt.scatter(x,y)\n",
    "plt.show()"
   ]
  },
  {
   "cell_type": "code",
   "execution_count": 90,
   "id": "ba0fad6f",
   "metadata": {},
   "outputs": [
    {
     "name": "stdout",
     "output_type": "stream",
     "text": [
      "Overview of the dataset:\n",
      "\n",
      "Number of rows:  3311\n",
      "\n",
      "Number of features: 24\n",
      "\n",
      "Data Features:\n",
      "['State', 'Account Length', 'Area Code', 'Phone', 'Intl_Plan', 'Vmail_Plan', 'Vmail_Message', 'Day_Mins', 'Day_Calls', 'Day_Charge', 'Eve_Mins', 'Eve_Calls', 'Eve_Charge', 'Night_Mins', 'Night_Calls', 'Night_Charge', 'Intl_Mins', 'Intl_Calls', 'Intl_Charge', 'CustServ_Calls', 'Churn?', 'Total_Calls', 'Total_Mins', 'Total_Charge']\n",
      "\n",
      "Unique values:\n",
      "State               51\n",
      "Account Length     212\n",
      "Area Code            3\n",
      "Phone             3311\n",
      "Intl_Plan            2\n",
      "Vmail_Plan           2\n",
      "Vmail_Message       46\n",
      "Day_Mins          1661\n",
      "Day_Calls          119\n",
      "Day_Charge        1661\n",
      "Eve_Mins          1605\n",
      "Eve_Calls          122\n",
      "Eve_Charge        1436\n",
      "Night_Mins        1586\n",
      "Night_Calls        121\n",
      "Night_Charge       933\n",
      "Intl_Mins          162\n",
      "Intl_Calls          21\n",
      "Intl_Charge        162\n",
      "CustServ_Calls      10\n",
      "Churn?               2\n",
      "Total_Calls        195\n",
      "Total_Mins        2114\n",
      "Total_Charge      2220\n",
      "dtype: int64\n"
     ]
    }
   ],
   "source": [
    "def dataoveriew(df, message):\n",
    "    print(f'{message}:\\n')\n",
    "    print('Number of rows: ', df.shape[0])\n",
    "    print(\"\\nNumber of features:\", df.shape[1])\n",
    "    print(\"\\nData Features:\")\n",
    "    print(df.columns.tolist())\n",
    "    print(\"\\nUnique values:\")\n",
    "    print(df.nunique())\n",
    "    \n",
    "dataoveriew(df, 'Overview of the dataset')"
   ]
  },
  {
   "cell_type": "code",
   "execution_count": 91,
   "id": "7b05250c",
   "metadata": {},
   "outputs": [
    {
     "data": {
      "text/plain": [
       "0"
      ]
     },
     "execution_count": 91,
     "metadata": {},
     "output_type": "execute_result"
    }
   ],
   "source": [
    "df.isna().sum().sum()"
   ]
  },
  {
   "cell_type": "code",
   "execution_count": 92,
   "id": "6f8f9fd5",
   "metadata": {},
   "outputs": [
    {
     "name": "stdout",
     "output_type": "stream",
     "text": [
      "False.    2830\n",
      "True.      481\n",
      "Name: Churn?, dtype: int64\n"
     ]
    },
    {
     "name": "stderr",
     "output_type": "stream",
     "text": [
      "D:\\Users\\admin\\anaconda3\\lib\\site-packages\\seaborn\\_decorators.py:36: FutureWarning: Pass the following variables as keyword args: x, y. From version 0.12, the only valid positional argument will be `data`, and passing other arguments without an explicit keyword will result in an error or misinterpretation.\n",
      "  warnings.warn(\n"
     ]
    },
    {
     "data": {
      "text/plain": [
       "<AxesSubplot:>"
      ]
     },
     "execution_count": 92,
     "metadata": {},
     "output_type": "execute_result"
    },
    {
     "data": {
      "image/png": "[encoded data removed]",
      "text/plain": [
       "<Figure size 432x288 with 1 Axes>"
      ]
     },
     "metadata": {
      "needs_background": "light"
     },
     "output_type": "display_data"
    }
   ],
   "source": [
    "y = df[\"Churn?\"].value_counts()\n",
    "print (y)\n",
    "sns.barplot(y.index, y.values)"
   ]
  },
  {
   "cell_type": "code",
   "execution_count": 93,
   "id": "0af144c4",
   "metadata": {},
   "outputs": [
    {
     "data": {
      "text/html": [
       "<div>\n",
       "<style scoped>\n",
       "    .dataframe tbody tr th:only-of-type {\n",
       "        vertical-align: middle;\n",
       "    }\n",
       "\n",
       "    .dataframe tbody tr th {\n",
       "        vertical-align: top;\n",
       "    }\n",
       "\n",
       "    .dataframe thead th {\n",
       "        text-align: right;\n",
       "    }\n",
       "</style>\n",
       "<table border=\"1\" class=\"dataframe\">\n",
       "  <thead>\n",
       "    <tr style=\"text-align: right;\">\n",
       "      <th></th>\n",
       "      <th>Account Length</th>\n",
       "      <th>Day_Charge</th>\n",
       "      <th>Night_Calls</th>\n",
       "      <th>Intl_Calls</th>\n",
       "      <th>Night_Charge</th>\n",
       "      <th>Area Code</th>\n",
       "      <th>Total_Calls</th>\n",
       "      <th>Night_Mins</th>\n",
       "      <th>Eve_Mins</th>\n",
       "      <th>Day_Mins</th>\n",
       "      <th>Eve_Charge</th>\n",
       "      <th>Intl_Mins</th>\n",
       "      <th>Total_Charge</th>\n",
       "      <th>Total_Mins</th>\n",
       "      <th>Eve_Calls</th>\n",
       "      <th>CustServ_Calls</th>\n",
       "      <th>Day_Calls</th>\n",
       "      <th>Intl_Charge</th>\n",
       "      <th>Vmail_Message</th>\n",
       "    </tr>\n",
       "  </thead>\n",
       "  <tbody>\n",
       "    <tr>\n",
       "      <th>Account Length</th>\n",
       "      <td>1.000000</td>\n",
       "      <td>0.005862</td>\n",
       "      <td>-0.011824</td>\n",
       "      <td>0.019422</td>\n",
       "      <td>-0.009148</td>\n",
       "      <td>-0.011378</td>\n",
       "      <td>0.028379</td>\n",
       "      <td>-0.008611</td>\n",
       "      <td>-0.007010</td>\n",
       "      <td>0.005864</td>\n",
       "      <td>-0.012727</td>\n",
       "      <td>0.008432</td>\n",
       "      <td>-0.002498</td>\n",
       "      <td>-0.004982</td>\n",
       "      <td>0.018172</td>\n",
       "      <td>-0.004256</td>\n",
       "      <td>0.039795</td>\n",
       "      <td>0.008478</td>\n",
       "      <td>-0.006753</td>\n",
       "    </tr>\n",
       "    <tr>\n",
       "      <th>Day_Charge</th>\n",
       "      <td>0.005862</td>\n",
       "      <td>1.000000</td>\n",
       "      <td>0.020237</td>\n",
       "      <td>0.009484</td>\n",
       "      <td>0.006275</td>\n",
       "      <td>-0.008457</td>\n",
       "      <td>0.024591</td>\n",
       "      <td>0.006889</td>\n",
       "      <td>0.005079</td>\n",
       "      <td>1.000000</td>\n",
       "      <td>-0.003639</td>\n",
       "      <td>-0.006777</td>\n",
       "      <td>0.848951</td>\n",
       "      <td>0.612261</td>\n",
       "      <td>0.014645</td>\n",
       "      <td>-0.013460</td>\n",
       "      <td>0.006714</td>\n",
       "      <td>-0.006696</td>\n",
       "      <td>-0.000276</td>\n",
       "    </tr>\n",
       "    <tr>\n",
       "      <th>Night_Calls</th>\n",
       "      <td>-0.011824</td>\n",
       "      <td>0.020237</td>\n",
       "      <td>1.000000</td>\n",
       "      <td>0.003087</td>\n",
       "      <td>0.013331</td>\n",
       "      <td>0.016392</td>\n",
       "      <td>0.560663</td>\n",
       "      <td>0.016874</td>\n",
       "      <td>0.006200</td>\n",
       "      <td>0.020238</td>\n",
       "      <td>-0.041289</td>\n",
       "      <td>-0.009553</td>\n",
       "      <td>-0.000645</td>\n",
       "      <td>0.024946</td>\n",
       "      <td>0.003565</td>\n",
       "      <td>-0.013600</td>\n",
       "      <td>-0.019439</td>\n",
       "      <td>-0.009428</td>\n",
       "      <td>0.007019</td>\n",
       "    </tr>\n",
       "    <tr>\n",
       "      <th>Intl_Calls</th>\n",
       "      <td>0.019422</td>\n",
       "      <td>0.009484</td>\n",
       "      <td>0.003087</td>\n",
       "      <td>1.000000</td>\n",
       "      <td>-0.012487</td>\n",
       "      <td>-0.024309</td>\n",
       "      <td>0.086131</td>\n",
       "      <td>-0.012054</td>\n",
       "      <td>0.004441</td>\n",
       "      <td>0.009485</td>\n",
       "      <td>-0.002355</td>\n",
       "      <td>0.029447</td>\n",
       "      <td>0.006357</td>\n",
       "      <td>0.002390</td>\n",
       "      <td>0.018044</td>\n",
       "      <td>-0.019231</td>\n",
       "      <td>0.004106</td>\n",
       "      <td>0.029530</td>\n",
       "      <td>0.013137</td>\n",
       "    </tr>\n",
       "    <tr>\n",
       "      <th>Night_Charge</th>\n",
       "      <td>-0.009148</td>\n",
       "      <td>0.006275</td>\n",
       "      <td>0.013331</td>\n",
       "      <td>-0.012487</td>\n",
       "      <td>1.000000</td>\n",
       "      <td>-0.004055</td>\n",
       "      <td>0.021487</td>\n",
       "      <td>0.999050</td>\n",
       "      <td>-0.014634</td>\n",
       "      <td>0.006274</td>\n",
       "      <td>-0.002941</td>\n",
       "      <td>-0.015249</td>\n",
       "      <td>0.211576</td>\n",
       "      <td>0.556662</td>\n",
       "      <td>0.000990</td>\n",
       "      <td>-0.009617</td>\n",
       "      <td>0.024355</td>\n",
       "      <td>-0.015242</td>\n",
       "      <td>0.009442</td>\n",
       "    </tr>\n",
       "    <tr>\n",
       "      <th>Area Code</th>\n",
       "      <td>-0.011378</td>\n",
       "      <td>-0.008457</td>\n",
       "      <td>0.016392</td>\n",
       "      <td>-0.024309</td>\n",
       "      <td>-0.004055</td>\n",
       "      <td>1.000000</td>\n",
       "      <td>-0.005705</td>\n",
       "      <td>-0.003637</td>\n",
       "      <td>0.005356</td>\n",
       "      <td>-0.008457</td>\n",
       "      <td>-0.000823</td>\n",
       "      <td>-0.019259</td>\n",
       "      <td>-0.009770</td>\n",
       "      <td>-0.004742</td>\n",
       "      <td>-0.013275</td>\n",
       "      <td>0.027334</td>\n",
       "      <td>-0.009651</td>\n",
       "      <td>-0.019344</td>\n",
       "      <td>-0.001112</td>\n",
       "    </tr>\n",
       "    <tr>\n",
       "      <th>Total_Calls</th>\n",
       "      <td>0.028379</td>\n",
       "      <td>0.024591</td>\n",
       "      <td>0.560663</td>\n",
       "      <td>0.086131</td>\n",
       "      <td>0.021487</td>\n",
       "      <td>-0.005705</td>\n",
       "      <td>1.000000</td>\n",
       "      <td>0.023178</td>\n",
       "      <td>-0.014684</td>\n",
       "      <td>0.024590</td>\n",
       "      <td>-0.034394</td>\n",
       "      <td>0.013564</td>\n",
       "      <td>0.009690</td>\n",
       "      <td>0.020059</td>\n",
       "      <td>0.584934</td>\n",
       "      <td>-0.018425</td>\n",
       "      <td>0.576345</td>\n",
       "      <td>0.013666</td>\n",
       "      <td>-0.003822</td>\n",
       "    </tr>\n",
       "    <tr>\n",
       "      <th>Night_Mins</th>\n",
       "      <td>-0.008611</td>\n",
       "      <td>0.006889</td>\n",
       "      <td>0.016874</td>\n",
       "      <td>-0.012054</td>\n",
       "      <td>0.999050</td>\n",
       "      <td>-0.003637</td>\n",
       "      <td>0.023178</td>\n",
       "      <td>1.000000</td>\n",
       "      <td>-0.014768</td>\n",
       "      <td>0.006888</td>\n",
       "      <td>-0.027970</td>\n",
       "      <td>-0.013547</td>\n",
       "      <td>0.199914</td>\n",
       "      <td>0.557545</td>\n",
       "      <td>0.000424</td>\n",
       "      <td>-0.009876</td>\n",
       "      <td>0.024303</td>\n",
       "      <td>-0.013459</td>\n",
       "      <td>0.009905</td>\n",
       "    </tr>\n",
       "    <tr>\n",
       "      <th>Eve_Mins</th>\n",
       "      <td>-0.007010</td>\n",
       "      <td>0.005079</td>\n",
       "      <td>0.006200</td>\n",
       "      <td>0.004441</td>\n",
       "      <td>-0.014634</td>\n",
       "      <td>0.005356</td>\n",
       "      <td>-0.014684</td>\n",
       "      <td>-0.014768</td>\n",
       "      <td>1.000000</td>\n",
       "      <td>0.005072</td>\n",
       "      <td>0.820194</td>\n",
       "      <td>-0.009260</td>\n",
       "      <td>0.397406</td>\n",
       "      <td>0.558754</td>\n",
       "      <td>-0.012366</td>\n",
       "      <td>-0.014264</td>\n",
       "      <td>-0.019512</td>\n",
       "      <td>-0.009307</td>\n",
       "      <td>0.018866</td>\n",
       "    </tr>\n",
       "    <tr>\n",
       "      <th>Day_Mins</th>\n",
       "      <td>0.005864</td>\n",
       "      <td>1.000000</td>\n",
       "      <td>0.020238</td>\n",
       "      <td>0.009485</td>\n",
       "      <td>0.006274</td>\n",
       "      <td>-0.008457</td>\n",
       "      <td>0.024590</td>\n",
       "      <td>0.006888</td>\n",
       "      <td>0.005072</td>\n",
       "      <td>1.000000</td>\n",
       "      <td>-0.003647</td>\n",
       "      <td>-0.006775</td>\n",
       "      <td>0.848947</td>\n",
       "      <td>0.612256</td>\n",
       "      <td>0.014644</td>\n",
       "      <td>-0.013456</td>\n",
       "      <td>0.006712</td>\n",
       "      <td>-0.006694</td>\n",
       "      <td>-0.000273</td>\n",
       "    </tr>\n",
       "    <tr>\n",
       "      <th>Eve_Charge</th>\n",
       "      <td>-0.012727</td>\n",
       "      <td>-0.003639</td>\n",
       "      <td>-0.041289</td>\n",
       "      <td>-0.002355</td>\n",
       "      <td>-0.002941</td>\n",
       "      <td>-0.000823</td>\n",
       "      <td>-0.034394</td>\n",
       "      <td>-0.027970</td>\n",
       "      <td>0.820194</td>\n",
       "      <td>-0.003647</td>\n",
       "      <td>1.000000</td>\n",
       "      <td>-0.029822</td>\n",
       "      <td>0.477927</td>\n",
       "      <td>0.443953</td>\n",
       "      <td>-0.003178</td>\n",
       "      <td>-0.008390</td>\n",
       "      <td>-0.015192</td>\n",
       "      <td>-0.030922</td>\n",
       "      <td>0.009571</td>\n",
       "    </tr>\n",
       "    <tr>\n",
       "      <th>Intl_Mins</th>\n",
       "      <td>0.008432</td>\n",
       "      <td>-0.006777</td>\n",
       "      <td>-0.009553</td>\n",
       "      <td>0.029447</td>\n",
       "      <td>-0.015249</td>\n",
       "      <td>-0.019259</td>\n",
       "      <td>0.013564</td>\n",
       "      <td>-0.013547</td>\n",
       "      <td>-0.009260</td>\n",
       "      <td>-0.006775</td>\n",
       "      <td>-0.029822</td>\n",
       "      <td>1.000000</td>\n",
       "      <td>0.045814</td>\n",
       "      <td>0.014102</td>\n",
       "      <td>0.006053</td>\n",
       "      <td>-0.009872</td>\n",
       "      <td>0.022966</td>\n",
       "      <td>0.999991</td>\n",
       "      <td>0.002594</td>\n",
       "    </tr>\n",
       "    <tr>\n",
       "      <th>Total_Charge</th>\n",
       "      <td>-0.002498</td>\n",
       "      <td>0.848951</td>\n",
       "      <td>-0.000645</td>\n",
       "      <td>0.006357</td>\n",
       "      <td>0.211576</td>\n",
       "      <td>-0.009770</td>\n",
       "      <td>0.009690</td>\n",
       "      <td>0.199914</td>\n",
       "      <td>0.397406</td>\n",
       "      <td>0.848947</td>\n",
       "      <td>0.477927</td>\n",
       "      <td>0.045814</td>\n",
       "      <td>1.000000</td>\n",
       "      <td>0.852278</td>\n",
       "      <td>0.011531</td>\n",
       "      <td>-0.018191</td>\n",
       "      <td>0.005035</td>\n",
       "      <td>0.045352</td>\n",
       "      <td>0.006549</td>\n",
       "    </tr>\n",
       "    <tr>\n",
       "      <th>Total_Mins</th>\n",
       "      <td>-0.004982</td>\n",
       "      <td>0.612261</td>\n",
       "      <td>0.024946</td>\n",
       "      <td>0.002390</td>\n",
       "      <td>0.556662</td>\n",
       "      <td>-0.004742</td>\n",
       "      <td>0.020059</td>\n",
       "      <td>0.557545</td>\n",
       "      <td>0.558754</td>\n",
       "      <td>0.612256</td>\n",
       "      <td>0.443953</td>\n",
       "      <td>0.014102</td>\n",
       "      <td>0.852278</td>\n",
       "      <td>1.000000</td>\n",
       "      <td>0.002319</td>\n",
       "      <td>-0.022057</td>\n",
       "      <td>0.007429</td>\n",
       "      <td>0.014173</td>\n",
       "      <td>0.016129</td>\n",
       "    </tr>\n",
       "    <tr>\n",
       "      <th>Eve_Calls</th>\n",
       "      <td>0.018172</td>\n",
       "      <td>0.014645</td>\n",
       "      <td>0.003565</td>\n",
       "      <td>0.018044</td>\n",
       "      <td>0.000990</td>\n",
       "      <td>-0.013275</td>\n",
       "      <td>0.584934</td>\n",
       "      <td>0.000424</td>\n",
       "      <td>-0.012366</td>\n",
       "      <td>0.014644</td>\n",
       "      <td>-0.003178</td>\n",
       "      <td>0.006053</td>\n",
       "      <td>0.011531</td>\n",
       "      <td>0.002319</td>\n",
       "      <td>1.000000</td>\n",
       "      <td>0.002189</td>\n",
       "      <td>0.006194</td>\n",
       "      <td>0.006000</td>\n",
       "      <td>-0.004942</td>\n",
       "    </tr>\n",
       "    <tr>\n",
       "      <th>CustServ_Calls</th>\n",
       "      <td>-0.004256</td>\n",
       "      <td>-0.013460</td>\n",
       "      <td>-0.013600</td>\n",
       "      <td>-0.019231</td>\n",
       "      <td>-0.009617</td>\n",
       "      <td>0.027334</td>\n",
       "      <td>-0.018425</td>\n",
       "      <td>-0.009876</td>\n",
       "      <td>-0.014264</td>\n",
       "      <td>-0.013456</td>\n",
       "      <td>-0.008390</td>\n",
       "      <td>-0.009872</td>\n",
       "      <td>-0.018191</td>\n",
       "      <td>-0.022057</td>\n",
       "      <td>0.002189</td>\n",
       "      <td>1.000000</td>\n",
       "      <td>-0.018107</td>\n",
       "      <td>-0.009918</td>\n",
       "      <td>-0.010853</td>\n",
       "    </tr>\n",
       "    <tr>\n",
       "      <th>Day_Calls</th>\n",
       "      <td>0.039795</td>\n",
       "      <td>0.006714</td>\n",
       "      <td>-0.019439</td>\n",
       "      <td>0.004106</td>\n",
       "      <td>0.024355</td>\n",
       "      <td>-0.009651</td>\n",
       "      <td>0.576345</td>\n",
       "      <td>0.024303</td>\n",
       "      <td>-0.019512</td>\n",
       "      <td>0.006712</td>\n",
       "      <td>-0.015192</td>\n",
       "      <td>0.022966</td>\n",
       "      <td>0.005035</td>\n",
       "      <td>0.007429</td>\n",
       "      <td>0.006194</td>\n",
       "      <td>-0.018107</td>\n",
       "      <td>1.000000</td>\n",
       "      <td>0.023060</td>\n",
       "      <td>-0.010119</td>\n",
       "    </tr>\n",
       "    <tr>\n",
       "      <th>Intl_Charge</th>\n",
       "      <td>0.008478</td>\n",
       "      <td>-0.006696</td>\n",
       "      <td>-0.009428</td>\n",
       "      <td>0.029530</td>\n",
       "      <td>-0.015242</td>\n",
       "      <td>-0.019344</td>\n",
       "      <td>0.013666</td>\n",
       "      <td>-0.013459</td>\n",
       "      <td>-0.009307</td>\n",
       "      <td>-0.006694</td>\n",
       "      <td>-0.030922</td>\n",
       "      <td>0.999991</td>\n",
       "      <td>0.045352</td>\n",
       "      <td>0.014173</td>\n",
       "      <td>0.006000</td>\n",
       "      <td>-0.009918</td>\n",
       "      <td>0.023060</td>\n",
       "      <td>1.000000</td>\n",
       "      <td>0.002642</td>\n",
       "    </tr>\n",
       "    <tr>\n",
       "      <th>Vmail_Message</th>\n",
       "      <td>-0.006753</td>\n",
       "      <td>-0.000276</td>\n",
       "      <td>0.007019</td>\n",
       "      <td>0.013137</td>\n",
       "      <td>0.009442</td>\n",
       "      <td>-0.001112</td>\n",
       "      <td>-0.003822</td>\n",
       "      <td>0.009905</td>\n",
       "      <td>0.018866</td>\n",
       "      <td>-0.000273</td>\n",
       "      <td>0.009571</td>\n",
       "      <td>0.002594</td>\n",
       "      <td>0.006549</td>\n",
       "      <td>0.016129</td>\n",
       "      <td>-0.004942</td>\n",
       "      <td>-0.010853</td>\n",
       "      <td>-0.010119</td>\n",
       "      <td>0.002642</td>\n",
       "      <td>1.000000</td>\n",
       "    </tr>\n",
       "  </tbody>\n",
       "</table>\n",
       "</div>"
      ],
      "text/plain": [
       "                Account Length  Day_Charge  Night_Calls  Intl_Calls  \\\n",
       "Account Length        1.000000    0.005862    -0.011824    0.019422   \n",
       "Day_Charge            0.005862    1.000000     0.020237    0.009484   \n",
       "Night_Calls          -0.011824    0.020237     1.000000    0.003087   \n",
       "Intl_Calls            0.019422    0.009484     0.003087    1.000000   \n",
       "Night_Charge         -0.009148    0.006275     0.013331   -0.012487   \n",
       "Area Code            -0.011378   -0.008457     0.016392   -0.024309   \n",
       "Total_Calls           0.028379    0.024591     0.560663    0.086131   \n",
       "Night_Mins           -0.008611    0.006889     0.016874   -0.012054   \n",
       "Eve_Mins             -0.007010    0.005079     0.006200    0.004441   \n",
       "Day_Mins              0.005864    1.000000     0.020238    0.009485   \n",
       "Eve_Charge           -0.012727   -0.003639    -0.041289   -0.002355   \n",
       "Intl_Mins             0.008432   -0.006777    -0.009553    0.029447   \n",
       "Total_Charge         -0.002498    0.848951    -0.000645    0.006357   \n",
       "Total_Mins           -0.004982    0.612261     0.024946    0.002390   \n",
       "Eve_Calls             0.018172    0.014645     0.003565    0.018044   \n",
       "CustServ_Calls       -0.004256   -0.013460    -0.013600   -0.019231   \n",
       "Day_Calls             0.039795    0.006714    -0.019439    0.004106   \n",
       "Intl_Charge           0.008478   -0.006696    -0.009428    0.029530   \n",
       "Vmail_Message        -0.006753   -0.000276     0.007019    0.013137   \n",
       "\n",
       "                Night_Charge  Area Code  Total_Calls  Night_Mins  Eve_Mins  \\\n",
       "Account Length     -0.009148  -0.011378     0.028379   -0.008611 -0.007010   \n",
       "Day_Charge          0.006275  -0.008457     0.024591    0.006889  0.005079   \n",
       "Night_Calls         0.013331   0.016392     0.560663    0.016874  0.006200   \n",
       "Intl_Calls         -0.012487  -0.024309     0.086131   -0.012054  0.004441   \n",
       "Night_Charge        1.000000  -0.004055     0.021487    0.999050 -0.014634   \n",
       "Area Code          -0.004055   1.000000    -0.005705   -0.003637  0.005356   \n",
       "Total_Calls         0.021487  -0.005705     1.000000    0.023178 -0.014684   \n",
       "Night_Mins          0.999050  -0.003637     0.023178    1.000000 -0.014768   \n",
       "Eve_Mins           -0.014634   0.005356    -0.014684   -0.014768  1.000000   \n",
       "Day_Mins            0.006274  -0.008457     0.024590    0.006888  0.005072   \n",
       "Eve_Charge         -0.002941  -0.000823    -0.034394   -0.027970  0.820194   \n",
       "Intl_Mins          -0.015249  -0.019259     0.013564   -0.013547 -0.009260   \n",
       "Total_Charge        0.211576  -0.009770     0.009690    0.199914  0.397406   \n",
       "Total_Mins          0.556662  -0.004742     0.020059    0.557545  0.558754   \n",
       "Eve_Calls           0.000990  -0.013275     0.584934    0.000424 -0.012366   \n",
       "CustServ_Calls     -0.009617   0.027334    -0.018425   -0.009876 -0.014264   \n",
       "Day_Calls           0.024355  -0.009651     0.576345    0.024303 -0.019512   \n",
       "Intl_Charge        -0.015242  -0.019344     0.013666   -0.013459 -0.009307   \n",
       "Vmail_Message       0.009442  -0.001112    -0.003822    0.009905  0.018866   \n",
       "\n",
       "                Day_Mins  Eve_Charge  Intl_Mins  Total_Charge  Total_Mins  \\\n",
       "Account Length  0.005864   -0.012727   0.008432     -0.002498   -0.004982   \n",
       "Day_Charge      1.000000   -0.003639  -0.006777      0.848951    0.612261   \n",
       "Night_Calls     0.020238   -0.041289  -0.009553     -0.000645    0.024946   \n",
       "Intl_Calls      0.009485   -0.002355   0.029447      0.006357    0.002390   \n",
       "Night_Charge    0.006274   -0.002941  -0.015249      0.211576    0.556662   \n",
       "Area Code      -0.008457   -0.000823  -0.019259     -0.009770   -0.004742   \n",
       "Total_Calls     0.024590   -0.034394   0.013564      0.009690    0.020059   \n",
       "Night_Mins      0.006888   -0.027970  -0.013547      0.199914    0.557545   \n",
       "Eve_Mins        0.005072    0.820194  -0.009260      0.397406    0.558754   \n",
       "Day_Mins        1.000000   -0.003647  -0.006775      0.848947    0.612256   \n",
       "Eve_Charge     -0.003647    1.000000  -0.029822      0.477927    0.443953   \n",
       "Intl_Mins      -0.006775   -0.029822   1.000000      0.045814    0.014102   \n",
       "Total_Charge    0.848947    0.477927   0.045814      1.000000    0.852278   \n",
       "Total_Mins      0.612256    0.443953   0.014102      0.852278    1.000000   \n",
       "Eve_Calls       0.014644   -0.003178   0.006053      0.011531    0.002319   \n",
       "CustServ_Calls -0.013456   -0.008390  -0.009872     -0.018191   -0.022057   \n",
       "Day_Calls       0.006712   -0.015192   0.022966      0.005035    0.007429   \n",
       "Intl_Charge    -0.006694   -0.030922   0.999991      0.045352    0.014173   \n",
       "Vmail_Message  -0.000273    0.009571   0.002594      0.006549    0.016129   \n",
       "\n",
       "                Eve_Calls  CustServ_Calls  Day_Calls  Intl_Charge  \\\n",
       "Account Length   0.018172       -0.004256   0.039795     0.008478   \n",
       "Day_Charge       0.014645       -0.013460   0.006714    -0.006696   \n",
       "Night_Calls      0.003565       -0.013600  -0.019439    -0.009428   \n",
       "Intl_Calls       0.018044       -0.019231   0.004106     0.029530   \n",
       "Night_Charge     0.000990       -0.009617   0.024355    -0.015242   \n",
       "Area Code       -0.013275        0.027334  -0.009651    -0.019344   \n",
       "Total_Calls      0.584934       -0.018425   0.576345     0.013666   \n",
       "Night_Mins       0.000424       -0.009876   0.024303    -0.013459   \n",
       "Eve_Mins        -0.012366       -0.014264  -0.019512    -0.009307   \n",
       "Day_Mins         0.014644       -0.013456   0.006712    -0.006694   \n",
       "Eve_Charge      -0.003178       -0.008390  -0.015192    -0.030922   \n",
       "Intl_Mins        0.006053       -0.009872   0.022966     0.999991   \n",
       "Total_Charge     0.011531       -0.018191   0.005035     0.045352   \n",
       "Total_Mins       0.002319       -0.022057   0.007429     0.014173   \n",
       "Eve_Calls        1.000000        0.002189   0.006194     0.006000   \n",
       "CustServ_Calls   0.002189        1.000000  -0.018107    -0.009918   \n",
       "Day_Calls        0.006194       -0.018107   1.000000     0.023060   \n",
       "Intl_Charge      0.006000       -0.009918   0.023060     1.000000   \n",
       "Vmail_Message   -0.004942       -0.010853  -0.010119     0.002642   \n",
       "\n",
       "                Vmail_Message  \n",
       "Account Length      -0.006753  \n",
       "Day_Charge          -0.000276  \n",
       "Night_Calls          0.007019  \n",
       "Intl_Calls           0.013137  \n",
       "Night_Charge         0.009442  \n",
       "Area Code           -0.001112  \n",
       "Total_Calls         -0.003822  \n",
       "Night_Mins           0.009905  \n",
       "Eve_Mins             0.018866  \n",
       "Day_Mins            -0.000273  \n",
       "Eve_Charge           0.009571  \n",
       "Intl_Mins            0.002594  \n",
       "Total_Charge         0.006549  \n",
       "Total_Mins           0.016129  \n",
       "Eve_Calls           -0.004942  \n",
       "CustServ_Calls      -0.010853  \n",
       "Day_Calls           -0.010119  \n",
       "Intl_Charge          0.002642  \n",
       "Vmail_Message        1.000000  "
      ]
     },
     "execution_count": 93,
     "metadata": {},
     "output_type": "execute_result"
    }
   ],
   "source": [
    "numerical = list(set(df.columns)-set(['State', 'Intl Plan', 'VMail Plan',\n",
    "                                     'Area code','Churn?', 'CustServ Calls']))\n",
    "corr_matrix = df[numerical].corr()\n",
    "corr_matrix"
   ]
  },
  {
   "cell_type": "code",
   "execution_count": 94,
   "id": "2042f384",
   "metadata": {},
   "outputs": [
    {
     "data": {
      "image/png": "[encoded data removed]",
      "text/plain": [
       "<Figure size 432x288 with 1 Axes>"
      ]
     },
     "metadata": {
      "needs_background": "light"
     },
     "output_type": "display_data"
    }
   ],
   "source": [
    "x = df['Intl_Mins']\n",
    "y = df['Intl_Charge']\n",
    "\n",
    "plt.scatter(x,y)\n",
    "plt.show()"
   ]
  },
  {
   "cell_type": "code",
   "execution_count": 95,
   "id": "27befd03",
   "metadata": {
    "scrolled": true
   },
   "outputs": [
    {
     "data": {
      "image/png": "[encoded data removed]",
      "text/plain": [
       "<Figure size 432x288 with 2 Axes>"
      ]
     },
     "metadata": {
      "needs_background": "light"
     },
     "output_type": "display_data"
    }
   ],
   "source": [
    "sns.heatmap(corr_matrix);"
   ]
  },
  {
   "cell_type": "code",
   "execution_count": 96,
   "id": "cff9f9d5",
   "metadata": {},
   "outputs": [
    {
     "name": "stderr",
     "output_type": "stream",
     "text": [
      "D:\\Users\\admin\\anaconda3\\lib\\site-packages\\seaborn\\_decorators.py:36: FutureWarning: Pass the following variables as keyword args: x, y. From version 0.12, the only valid positional argument will be `data`, and passing other arguments without an explicit keyword will result in an error or misinterpretation.\n",
      "  warnings.warn(\n"
     ]
    },
    {
     "data": {
      "image/png": "[encoded data removed]",
      "text/plain": [
       "<Figure size 432x432 with 3 Axes>"
      ]
     },
     "metadata": {
      "needs_background": "light"
     },
     "output_type": "display_data"
    }
   ],
   "source": [
    "sns.jointplot('Day_Mins', 'Night_Mins', data = df, kind = 'kde', color='g');"
   ]
  },
  {
   "cell_type": "code",
   "execution_count": 115,
   "id": "87662767",
   "metadata": {},
   "outputs": [
    {
     "data": {
      "image/png": "[encoded data removed]",
      "text/plain": [
       "<Figure size 720x288 with 2 Axes>"
      ]
     },
     "metadata": {
      "needs_background": "light"
     },
     "output_type": "display_data"
    }
   ],
   "source": [
    "features = ['Day_Mins','Intl_Mins']\n",
    "df[features].hist(figsize=(10,4));"
   ]
  },
  {
   "cell_type": "code",
   "execution_count": 98,
   "id": "87b981ea",
   "metadata": {},
   "outputs": [
    {
     "data": {
      "image/png": "[encoded data removed]",
      "text/plain": [
       "<Figure size 432x288 with 1 Axes>"
      ]
     },
     "metadata": {
      "needs_background": "light"
     },
     "output_type": "display_data"
    }
   ],
   "source": [
    "boxplot1 = df.boxplot(column =['Eve_Mins','Eve_Calls','Eve_Charge'])"
   ]
  },
  {
   "cell_type": "code",
   "execution_count": 99,
   "id": "8de5b784",
   "metadata": {},
   "outputs": [
    {
     "data": {
      "image/png": "[encoded data removed]",
      "text/plain": [
       "<Figure size 432x288 with 1 Axes>"
      ]
     },
     "metadata": {
      "needs_background": "light"
     },
     "output_type": "display_data"
    }
   ],
   "source": [
    "boxplot2 = df.boxplot(column =['Intl_Mins','Intl_Calls','Intl_Charge'])"
   ]
  },
  {
   "cell_type": "code",
   "execution_count": 100,
   "id": "1ea59913",
   "metadata": {},
   "outputs": [
    {
     "data": {
      "image/png": "[encoded data removed]",
      "text/plain": [
       "<Figure size 432x288 with 1 Axes>"
      ]
     },
     "metadata": {
      "needs_background": "light"
     },
     "output_type": "display_data"
    }
   ],
   "source": [
    "boxplot3 = df.boxplot(column =['Night_Mins','Night_Calls','Night_Charge'])"
   ]
  },
  {
   "cell_type": "code",
   "execution_count": 101,
   "id": "39852c63",
   "metadata": {},
   "outputs": [
    {
     "data": {
      "image/png": "[encoded data removed]",
      "text/plain": [
       "<Figure size 432x288 with 1 Axes>"
      ]
     },
     "metadata": {
      "needs_background": "light"
     },
     "output_type": "display_data"
    }
   ],
   "source": [
    "x = df['Eve_Mins']\n",
    "y = df['Eve_Charge']\n",
    "\n",
    "plt.scatter(x,y)\n",
    "plt.show()"
   ]
  },
  {
   "cell_type": "code",
   "execution_count": 102,
   "id": "ae200769",
   "metadata": {},
   "outputs": [
    {
     "data": {
      "image/png": "[encoded data removed]",
      "text/plain": [
       "<Figure size 432x288 with 1 Axes>"
      ]
     },
     "metadata": {
      "needs_background": "light"
     },
     "output_type": "display_data"
    }
   ],
   "source": [
    "x = df['Eve_Calls']\n",
    "y = df['Eve_Charge']\n",
    "\n",
    "plt.scatter(x,y)\n",
    "plt.show()"
   ]
  },
  {
   "cell_type": "code",
   "execution_count": 103,
   "id": "942c5d53",
   "metadata": {},
   "outputs": [
    {
     "data": {
      "image/png": "[encoded data removed]",
      "text/plain": [
       "<Figure size 432x288 with 1 Axes>"
      ]
     },
     "metadata": {
      "needs_background": "light"
     },
     "output_type": "display_data"
    }
   ],
   "source": [
    "x = df['Day_Calls']\n",
    "y = df['Day_Charge']\n",
    "\n",
    "plt.scatter(x,y)\n",
    "plt.show()"
   ]
  },
  {
   "cell_type": "code",
   "execution_count": 104,
   "id": "b02a639f",
   "metadata": {},
   "outputs": [
    {
     "data": {
      "image/png": "[encoded data removed]",
      "text/plain": [
       "<Figure size 432x288 with 1 Axes>"
      ]
     },
     "metadata": {
      "needs_background": "light"
     },
     "output_type": "display_data"
    }
   ],
   "source": [
    "x = df['Intl_Calls']\n",
    "y = df['Intl_Charge']\n",
    "\n",
    "plt.scatter(x,y)\n",
    "plt.show()"
   ]
  },
  {
   "cell_type": "code",
   "execution_count": 105,
   "id": "3bbedd78",
   "metadata": {},
   "outputs": [
    {
     "name": "stdout",
     "output_type": "stream",
     "text": [
      "1    1176\n",
      "2     756\n",
      "0     687\n",
      "3     427\n",
      "4     164\n",
      "5      66\n",
      "6      22\n",
      "7       9\n",
      "9       2\n",
      "8       2\n",
      "Name: CustServ_Calls, dtype: int64\n"
     ]
    },
    {
     "name": "stderr",
     "output_type": "stream",
     "text": [
      "D:\\Users\\admin\\anaconda3\\lib\\site-packages\\seaborn\\_decorators.py:36: FutureWarning: Pass the following variables as keyword args: x, y. From version 0.12, the only valid positional argument will be `data`, and passing other arguments without an explicit keyword will result in an error or misinterpretation.\n",
      "  warnings.warn(\n"
     ]
    },
    {
     "data": {
      "text/plain": [
       "<AxesSubplot:>"
      ]
     },
     "execution_count": 105,
     "metadata": {},
     "output_type": "execute_result"
    },
    {
     "data": {
      "image/png": "[encoded data removed]",
      "text/plain": [
       "<Figure size 432x288 with 1 Axes>"
      ]
     },
     "metadata": {
      "needs_background": "light"
     },
     "output_type": "display_data"
    }
   ],
   "source": [
    "y = df[\"CustServ_Calls\"].value_counts()\n",
    "print (y)\n",
    "sns.barplot(y.index, y.values)"
   ]
  },
  {
   "cell_type": "code",
   "execution_count": 106,
   "id": "02cfb08b",
   "metadata": {},
   "outputs": [
    {
     "ename": "ValueError",
     "evalue": "Could not interpret input 'InternetService'",
     "output_type": "error",
     "traceback": [
      "\u001b[1;31m---------------------------------------------------------------------------\u001b[0m",
      "\u001b[1;31mValueError\u001b[0m                                Traceback (most recent call last)",
      "\u001b[1;32m~\\AppData\\Local\\Temp/ipykernel_7380/2987612357.py\u001b[0m in \u001b[0;36m<module>\u001b[1;34m\u001b[0m\n\u001b[1;32m----> 1\u001b[1;33m \u001b[0msns\u001b[0m\u001b[1;33m.\u001b[0m\u001b[0mcountplot\u001b[0m\u001b[1;33m(\u001b[0m\u001b[0mx\u001b[0m\u001b[1;33m=\u001b[0m\u001b[1;34m'Churn?'\u001b[0m\u001b[1;33m,\u001b[0m\u001b[0mdata\u001b[0m\u001b[1;33m=\u001b[0m\u001b[0mdf\u001b[0m\u001b[1;33m,\u001b[0m \u001b[0mhue\u001b[0m\u001b[1;33m=\u001b[0m\u001b[1;34m'InternetService'\u001b[0m\u001b[1;33m)\u001b[0m\u001b[1;33m\u001b[0m\u001b[1;33m\u001b[0m\u001b[0m\n\u001b[0m",
      "\u001b[1;32mD:\\Users\\admin\\anaconda3\\lib\\site-packages\\seaborn\\_decorators.py\u001b[0m in \u001b[0;36minner_f\u001b[1;34m(*args, **kwargs)\u001b[0m\n\u001b[0;32m     44\u001b[0m             )\n\u001b[0;32m     45\u001b[0m         \u001b[0mkwargs\u001b[0m\u001b[1;33m.\u001b[0m\u001b[0mupdate\u001b[0m\u001b[1;33m(\u001b[0m\u001b[1;33m{\u001b[0m\u001b[0mk\u001b[0m\u001b[1;33m:\u001b[0m \u001b[0marg\u001b[0m \u001b[1;32mfor\u001b[0m \u001b[0mk\u001b[0m\u001b[1;33m,\u001b[0m \u001b[0marg\u001b[0m \u001b[1;32min\u001b[0m \u001b[0mzip\u001b[0m\u001b[1;33m(\u001b[0m\u001b[0msig\u001b[0m\u001b[1;33m.\u001b[0m\u001b[0mparameters\u001b[0m\u001b[1;33m,\u001b[0m \u001b[0margs\u001b[0m\u001b[1;33m)\u001b[0m\u001b[1;33m}\u001b[0m\u001b[1;33m)\u001b[0m\u001b[1;33m\u001b[0m\u001b[1;33m\u001b[0m\u001b[0m\n\u001b[1;32m---> 46\u001b[1;33m         \u001b[1;32mreturn\u001b[0m \u001b[0mf\u001b[0m\u001b[1;33m(\u001b[0m\u001b[1;33m**\u001b[0m\u001b[0mkwargs\u001b[0m\u001b[1;33m)\u001b[0m\u001b[1;33m\u001b[0m\u001b[1;33m\u001b[0m\u001b[0m\n\u001b[0m\u001b[0;32m     47\u001b[0m     \u001b[1;32mreturn\u001b[0m \u001b[0minner_f\u001b[0m\u001b[1;33m\u001b[0m\u001b[1;33m\u001b[0m\u001b[0m\n\u001b[0;32m     48\u001b[0m \u001b[1;33m\u001b[0m\u001b[0m\n",
      "\u001b[1;32mD:\\Users\\admin\\anaconda3\\lib\\site-packages\\seaborn\\categorical.py\u001b[0m in \u001b[0;36mcountplot\u001b[1;34m(x, y, hue, data, order, hue_order, orient, color, palette, saturation, dodge, ax, **kwargs)\u001b[0m\n\u001b[0;32m   3596\u001b[0m         \u001b[1;32mraise\u001b[0m \u001b[0mValueError\u001b[0m\u001b[1;33m(\u001b[0m\u001b[1;34m\"Cannot pass values for both `x` and `y`\"\u001b[0m\u001b[1;33m)\u001b[0m\u001b[1;33m\u001b[0m\u001b[1;33m\u001b[0m\u001b[0m\n\u001b[0;32m   3597\u001b[0m \u001b[1;33m\u001b[0m\u001b[0m\n\u001b[1;32m-> 3598\u001b[1;33m     plotter = _CountPlotter(\n\u001b[0m\u001b[0;32m   3599\u001b[0m         \u001b[0mx\u001b[0m\u001b[1;33m,\u001b[0m \u001b[0my\u001b[0m\u001b[1;33m,\u001b[0m \u001b[0mhue\u001b[0m\u001b[1;33m,\u001b[0m \u001b[0mdata\u001b[0m\u001b[1;33m,\u001b[0m \u001b[0morder\u001b[0m\u001b[1;33m,\u001b[0m \u001b[0mhue_order\u001b[0m\u001b[1;33m,\u001b[0m\u001b[1;33m\u001b[0m\u001b[1;33m\u001b[0m\u001b[0m\n\u001b[0;32m   3600\u001b[0m         \u001b[0mestimator\u001b[0m\u001b[1;33m,\u001b[0m \u001b[0mci\u001b[0m\u001b[1;33m,\u001b[0m \u001b[0mn_boot\u001b[0m\u001b[1;33m,\u001b[0m \u001b[0munits\u001b[0m\u001b[1;33m,\u001b[0m \u001b[0mseed\u001b[0m\u001b[1;33m,\u001b[0m\u001b[1;33m\u001b[0m\u001b[1;33m\u001b[0m\u001b[0m\n",
      "\u001b[1;32mD:\\Users\\admin\\anaconda3\\lib\\site-packages\\seaborn\\categorical.py\u001b[0m in \u001b[0;36m__init__\u001b[1;34m(self, x, y, hue, data, order, hue_order, estimator, ci, n_boot, units, seed, orient, color, palette, saturation, errcolor, errwidth, capsize, dodge)\u001b[0m\n\u001b[0;32m   1582\u001b[0m                  errwidth, capsize, dodge):\n\u001b[0;32m   1583\u001b[0m         \u001b[1;34m\"\"\"Initialize the plotter.\"\"\"\u001b[0m\u001b[1;33m\u001b[0m\u001b[1;33m\u001b[0m\u001b[0m\n\u001b[1;32m-> 1584\u001b[1;33m         self.establish_variables(x, y, hue, data, orient,\n\u001b[0m\u001b[0;32m   1585\u001b[0m                                  order, hue_order, units)\n\u001b[0;32m   1586\u001b[0m         \u001b[0mself\u001b[0m\u001b[1;33m.\u001b[0m\u001b[0mestablish_colors\u001b[0m\u001b[1;33m(\u001b[0m\u001b[0mcolor\u001b[0m\u001b[1;33m,\u001b[0m \u001b[0mpalette\u001b[0m\u001b[1;33m,\u001b[0m \u001b[0msaturation\u001b[0m\u001b[1;33m)\u001b[0m\u001b[1;33m\u001b[0m\u001b[1;33m\u001b[0m\u001b[0m\n",
      "\u001b[1;32mD:\\Users\\admin\\anaconda3\\lib\\site-packages\\seaborn\\categorical.py\u001b[0m in \u001b[0;36mestablish_variables\u001b[1;34m(self, x, y, hue, data, orient, order, hue_order, units)\u001b[0m\n\u001b[0;32m    151\u001b[0m                 \u001b[1;32mif\u001b[0m \u001b[0misinstance\u001b[0m\u001b[1;33m(\u001b[0m\u001b[0mvar\u001b[0m\u001b[1;33m,\u001b[0m \u001b[0mstr\u001b[0m\u001b[1;33m)\u001b[0m\u001b[1;33m:\u001b[0m\u001b[1;33m\u001b[0m\u001b[1;33m\u001b[0m\u001b[0m\n\u001b[0;32m    152\u001b[0m                     \u001b[0merr\u001b[0m \u001b[1;33m=\u001b[0m \u001b[1;34m\"Could not interpret input '{}'\"\u001b[0m\u001b[1;33m.\u001b[0m\u001b[0mformat\u001b[0m\u001b[1;33m(\u001b[0m\u001b[0mvar\u001b[0m\u001b[1;33m)\u001b[0m\u001b[1;33m\u001b[0m\u001b[1;33m\u001b[0m\u001b[0m\n\u001b[1;32m--> 153\u001b[1;33m                     \u001b[1;32mraise\u001b[0m \u001b[0mValueError\u001b[0m\u001b[1;33m(\u001b[0m\u001b[0merr\u001b[0m\u001b[1;33m)\u001b[0m\u001b[1;33m\u001b[0m\u001b[1;33m\u001b[0m\u001b[0m\n\u001b[0m\u001b[0;32m    154\u001b[0m \u001b[1;33m\u001b[0m\u001b[0m\n\u001b[0;32m    155\u001b[0m             \u001b[1;31m# Figure out the plotting orientation\u001b[0m\u001b[1;33m\u001b[0m\u001b[1;33m\u001b[0m\u001b[0m\n",
      "\u001b[1;31mValueError\u001b[0m: Could not interpret input 'InternetService'"
     ]
    }
   ],
   "source": [
    "sns.countplot(x='Churn?',data=df, hue='InternetService')"
   ]
  },
  {
   "cell_type": "code",
   "execution_count": 107,
   "id": "2647b1e1",
   "metadata": {},
   "outputs": [
    {
     "name": "stderr",
     "output_type": "stream",
     "text": [
      "D:\\Users\\admin\\anaconda3\\lib\\site-packages\\seaborn\\_decorators.py:36: FutureWarning: Pass the following variables as keyword args: x, y. From version 0.12, the only valid positional argument will be `data`, and passing other arguments without an explicit keyword will result in an error or misinterpretation.\n",
      "  warnings.warn(\n"
     ]
    },
    {
     "data": {
      "text/plain": [
       "<seaborn.axisgrid.FacetGrid at 0x2d5a3e2ea30>"
      ]
     },
     "execution_count": 107,
     "metadata": {},
     "output_type": "execute_result"
    },
    {
     "data": {
      "image/png": "[encoded data removed]",
      "text/plain": [
       "<Figure size 424.5x360 with 1 Axes>"
      ]
     },
     "metadata": {
      "needs_background": "light"
     },
     "output_type": "display_data"
    }
   ],
   "source": [
    "sns.lmplot('Total_Mins', 'Total_Charge', data = df, hue='Churn?', fit_reg=False)"
   ]
  },
  {
   "cell_type": "code",
   "execution_count": 119,
   "id": "cd590797",
   "metadata": {},
   "outputs": [
    {
     "ename": "AttributeError",
     "evalue": "'Figure' object has no attribute 'bar'",
     "output_type": "error",
     "traceback": [
      "\u001b[1;31m---------------------------------------------------------------------------\u001b[0m",
      "\u001b[1;31mAttributeError\u001b[0m                            Traceback (most recent call last)",
      "\u001b[1;32m~\\AppData\\Local\\Temp/ipykernel_7380/2791081627.py\u001b[0m in \u001b[0;36m<module>\u001b[1;34m\u001b[0m\n\u001b[0;32m      1\u001b[0m \u001b[0maxes\u001b[0m \u001b[1;33m=\u001b[0m \u001b[0mplt\u001b[0m\u001b[1;33m.\u001b[0m\u001b[0msubplots\u001b[0m\u001b[1;33m(\u001b[0m\u001b[1;36m1\u001b[0m\u001b[1;33m,\u001b[0m \u001b[1;36m2\u001b[0m\u001b[1;33m,\u001b[0m \u001b[0msharey\u001b[0m \u001b[1;33m=\u001b[0m \u001b[1;32mTrue\u001b[0m\u001b[1;33m,\u001b[0m \u001b[0mfigsize\u001b[0m\u001b[1;33m=\u001b[0m\u001b[1;33m(\u001b[0m\u001b[1;36m10\u001b[0m\u001b[1;33m,\u001b[0m\u001b[1;36m4\u001b[0m\u001b[1;33m)\u001b[0m\u001b[1;33m)\u001b[0m\u001b[1;33m\u001b[0m\u001b[1;33m\u001b[0m\u001b[0m\n\u001b[0;32m      2\u001b[0m \u001b[1;33m\u001b[0m\u001b[0m\n\u001b[1;32m----> 3\u001b[1;33m \u001b[0msns\u001b[0m\u001b[1;33m.\u001b[0m\u001b[0mcountplot\u001b[0m\u001b[1;33m(\u001b[0m\u001b[0mx\u001b[0m \u001b[1;33m=\u001b[0m \u001b[1;34m'Intl_Plan'\u001b[0m\u001b[1;33m,\u001b[0m \u001b[0mhue\u001b[0m \u001b[1;33m=\u001b[0m \u001b[1;34m'Churn?'\u001b[0m\u001b[1;33m,\u001b[0m \u001b[0mdata\u001b[0m \u001b[1;33m=\u001b[0m \u001b[0mdf\u001b[0m\u001b[1;33m,\u001b[0m \u001b[0max\u001b[0m \u001b[1;33m=\u001b[0m \u001b[0maxes\u001b[0m\u001b[1;33m[\u001b[0m\u001b[1;36m0\u001b[0m\u001b[1;33m]\u001b[0m\u001b[1;33m)\u001b[0m\u001b[1;33m;\u001b[0m\u001b[1;33m\u001b[0m\u001b[1;33m\u001b[0m\u001b[0m\n\u001b[0m\u001b[0;32m      4\u001b[0m \u001b[0msns\u001b[0m\u001b[1;33m.\u001b[0m\u001b[0mcountplot\u001b[0m\u001b[1;33m(\u001b[0m\u001b[0mx\u001b[0m \u001b[1;33m=\u001b[0m \u001b[1;34m'Vmail_Plan'\u001b[0m\u001b[1;33m,\u001b[0m \u001b[0mhue\u001b[0m \u001b[1;33m=\u001b[0m \u001b[1;34m'Churn?'\u001b[0m\u001b[1;33m,\u001b[0m \u001b[0mdata\u001b[0m \u001b[1;33m=\u001b[0m \u001b[0mdf\u001b[0m\u001b[1;33m,\u001b[0m \u001b[0max\u001b[0m \u001b[1;33m=\u001b[0m \u001b[0maxes\u001b[0m\u001b[1;33m[\u001b[0m\u001b[1;36m1\u001b[0m\u001b[1;33m]\u001b[0m\u001b[1;33m)\u001b[0m\u001b[1;33m\u001b[0m\u001b[1;33m\u001b[0m\u001b[0m\n",
      "\u001b[1;32mD:\\Users\\admin\\anaconda3\\lib\\site-packages\\seaborn\\_decorators.py\u001b[0m in \u001b[0;36minner_f\u001b[1;34m(*args, **kwargs)\u001b[0m\n\u001b[0;32m     44\u001b[0m             )\n\u001b[0;32m     45\u001b[0m         \u001b[0mkwargs\u001b[0m\u001b[1;33m.\u001b[0m\u001b[0mupdate\u001b[0m\u001b[1;33m(\u001b[0m\u001b[1;33m{\u001b[0m\u001b[0mk\u001b[0m\u001b[1;33m:\u001b[0m \u001b[0marg\u001b[0m \u001b[1;32mfor\u001b[0m \u001b[0mk\u001b[0m\u001b[1;33m,\u001b[0m \u001b[0marg\u001b[0m \u001b[1;32min\u001b[0m \u001b[0mzip\u001b[0m\u001b[1;33m(\u001b[0m\u001b[0msig\u001b[0m\u001b[1;33m.\u001b[0m\u001b[0mparameters\u001b[0m\u001b[1;33m,\u001b[0m \u001b[0margs\u001b[0m\u001b[1;33m)\u001b[0m\u001b[1;33m}\u001b[0m\u001b[1;33m)\u001b[0m\u001b[1;33m\u001b[0m\u001b[1;33m\u001b[0m\u001b[0m\n\u001b[1;32m---> 46\u001b[1;33m         \u001b[1;32mreturn\u001b[0m \u001b[0mf\u001b[0m\u001b[1;33m(\u001b[0m\u001b[1;33m**\u001b[0m\u001b[0mkwargs\u001b[0m\u001b[1;33m)\u001b[0m\u001b[1;33m\u001b[0m\u001b[1;33m\u001b[0m\u001b[0m\n\u001b[0m\u001b[0;32m     47\u001b[0m     \u001b[1;32mreturn\u001b[0m \u001b[0minner_f\u001b[0m\u001b[1;33m\u001b[0m\u001b[1;33m\u001b[0m\u001b[0m\n\u001b[0;32m     48\u001b[0m \u001b[1;33m\u001b[0m\u001b[0m\n",
      "\u001b[1;32mD:\\Users\\admin\\anaconda3\\lib\\site-packages\\seaborn\\categorical.py\u001b[0m in \u001b[0;36mcountplot\u001b[1;34m(x, y, hue, data, order, hue_order, orient, color, palette, saturation, dodge, ax, **kwargs)\u001b[0m\n\u001b[0;32m   3608\u001b[0m         \u001b[0max\u001b[0m \u001b[1;33m=\u001b[0m \u001b[0mplt\u001b[0m\u001b[1;33m.\u001b[0m\u001b[0mgca\u001b[0m\u001b[1;33m(\u001b[0m\u001b[1;33m)\u001b[0m\u001b[1;33m\u001b[0m\u001b[1;33m\u001b[0m\u001b[0m\n\u001b[0;32m   3609\u001b[0m \u001b[1;33m\u001b[0m\u001b[0m\n\u001b[1;32m-> 3610\u001b[1;33m     \u001b[0mplotter\u001b[0m\u001b[1;33m.\u001b[0m\u001b[0mplot\u001b[0m\u001b[1;33m(\u001b[0m\u001b[0max\u001b[0m\u001b[1;33m,\u001b[0m \u001b[0mkwargs\u001b[0m\u001b[1;33m)\u001b[0m\u001b[1;33m\u001b[0m\u001b[1;33m\u001b[0m\u001b[0m\n\u001b[0m\u001b[0;32m   3611\u001b[0m     \u001b[1;32mreturn\u001b[0m \u001b[0max\u001b[0m\u001b[1;33m\u001b[0m\u001b[1;33m\u001b[0m\u001b[0m\n\u001b[0;32m   3612\u001b[0m \u001b[1;33m\u001b[0m\u001b[0m\n",
      "\u001b[1;32mD:\\Users\\admin\\anaconda3\\lib\\site-packages\\seaborn\\categorical.py\u001b[0m in \u001b[0;36mplot\u001b[1;34m(self, ax, bar_kws)\u001b[0m\n\u001b[0;32m   1637\u001b[0m     \u001b[1;32mdef\u001b[0m \u001b[0mplot\u001b[0m\u001b[1;33m(\u001b[0m\u001b[0mself\u001b[0m\u001b[1;33m,\u001b[0m \u001b[0max\u001b[0m\u001b[1;33m,\u001b[0m \u001b[0mbar_kws\u001b[0m\u001b[1;33m)\u001b[0m\u001b[1;33m:\u001b[0m\u001b[1;33m\u001b[0m\u001b[1;33m\u001b[0m\u001b[0m\n\u001b[0;32m   1638\u001b[0m         \u001b[1;34m\"\"\"Make the plot.\"\"\"\u001b[0m\u001b[1;33m\u001b[0m\u001b[1;33m\u001b[0m\u001b[0m\n\u001b[1;32m-> 1639\u001b[1;33m         \u001b[0mself\u001b[0m\u001b[1;33m.\u001b[0m\u001b[0mdraw_bars\u001b[0m\u001b[1;33m(\u001b[0m\u001b[0max\u001b[0m\u001b[1;33m,\u001b[0m \u001b[0mbar_kws\u001b[0m\u001b[1;33m)\u001b[0m\u001b[1;33m\u001b[0m\u001b[1;33m\u001b[0m\u001b[0m\n\u001b[0m\u001b[0;32m   1640\u001b[0m         \u001b[0mself\u001b[0m\u001b[1;33m.\u001b[0m\u001b[0mannotate_axes\u001b[0m\u001b[1;33m(\u001b[0m\u001b[0max\u001b[0m\u001b[1;33m)\u001b[0m\u001b[1;33m\u001b[0m\u001b[1;33m\u001b[0m\u001b[0m\n\u001b[0;32m   1641\u001b[0m         \u001b[1;32mif\u001b[0m \u001b[0mself\u001b[0m\u001b[1;33m.\u001b[0m\u001b[0morient\u001b[0m \u001b[1;33m==\u001b[0m \u001b[1;34m\"h\"\u001b[0m\u001b[1;33m:\u001b[0m\u001b[1;33m\u001b[0m\u001b[1;33m\u001b[0m\u001b[0m\n",
      "\u001b[1;32mD:\\Users\\admin\\anaconda3\\lib\\site-packages\\seaborn\\categorical.py\u001b[0m in \u001b[0;36mdraw_bars\u001b[1;34m(self, ax, kws)\u001b[0m\n\u001b[0;32m   1596\u001b[0m         \u001b[1;34m\"\"\"Draw the bars onto `ax`.\"\"\"\u001b[0m\u001b[1;33m\u001b[0m\u001b[1;33m\u001b[0m\u001b[0m\n\u001b[0;32m   1597\u001b[0m         \u001b[1;31m# Get the right matplotlib function depending on the orientation\u001b[0m\u001b[1;33m\u001b[0m\u001b[1;33m\u001b[0m\u001b[0m\n\u001b[1;32m-> 1598\u001b[1;33m         \u001b[0mbarfunc\u001b[0m \u001b[1;33m=\u001b[0m \u001b[0max\u001b[0m\u001b[1;33m.\u001b[0m\u001b[0mbar\u001b[0m \u001b[1;32mif\u001b[0m \u001b[0mself\u001b[0m\u001b[1;33m.\u001b[0m\u001b[0morient\u001b[0m \u001b[1;33m==\u001b[0m \u001b[1;34m\"v\"\u001b[0m \u001b[1;32melse\u001b[0m \u001b[0max\u001b[0m\u001b[1;33m.\u001b[0m\u001b[0mbarh\u001b[0m\u001b[1;33m\u001b[0m\u001b[1;33m\u001b[0m\u001b[0m\n\u001b[0m\u001b[0;32m   1599\u001b[0m         \u001b[0mbarpos\u001b[0m \u001b[1;33m=\u001b[0m \u001b[0mnp\u001b[0m\u001b[1;33m.\u001b[0m\u001b[0marange\u001b[0m\u001b[1;33m(\u001b[0m\u001b[0mlen\u001b[0m\u001b[1;33m(\u001b[0m\u001b[0mself\u001b[0m\u001b[1;33m.\u001b[0m\u001b[0mstatistic\u001b[0m\u001b[1;33m)\u001b[0m\u001b[1;33m)\u001b[0m\u001b[1;33m\u001b[0m\u001b[1;33m\u001b[0m\u001b[0m\n\u001b[0;32m   1600\u001b[0m \u001b[1;33m\u001b[0m\u001b[0m\n",
      "\u001b[1;31mAttributeError\u001b[0m: 'Figure' object has no attribute 'bar'"
     ]
    },
    {
     "data": {
      "image/png": "[encoded data removed]",
      "text/plain": [
       "<Figure size 720x288 with 2 Axes>"
      ]
     },
     "metadata": {
      "needs_background": "light"
     },
     "output_type": "display_data"
    }
   ],
   "source": [
    "axes = plt.subplots(1, 2, sharey = True, figsize=(10,4))\n",
    "\n",
    "sns.countplot(x = 'Intl_Plan', hue = 'Churn?', data = df, ax = axes[0]);\n",
    "sns.countplot(x = 'Vmail_Plan', hue = 'Churn?', data = df, ax = axes[1])"
   ]
  },
  {
   "cell_type": "code",
   "execution_count": 72,
   "id": "3e8f9687",
   "metadata": {},
   "outputs": [
    {
     "data": {
      "image/png": "[encoded data removed]",
      "text/plain": [
       "<Figure size 720x288 with 2 Axes>"
      ]
     },
     "metadata": {
      "needs_background": "light"
     },
     "output_type": "display_data"
    }
   ],
   "source": [
    "features = ['Intl_Mins','Intl_Calls']\n",
    "df[features].hist(figsize=(10,4));"
   ]
  },
  {
   "cell_type": "code",
   "execution_count": 117,
   "id": "ce5e0ab4",
   "metadata": {},
   "outputs": [
    {
     "data": {
      "image/png": "[encoded data removed]",
      "text/plain": [
       "<Figure size 720x288 with 2 Axes>"
      ]
     },
     "metadata": {
      "needs_background": "light"
     },
     "output_type": "display_data"
    }
   ],
   "source": [
    "features = ['Day_Calls','Day_Mins']\n",
    "df[features].hist(figsize=(10,4));"
   ]
  },
  {
   "cell_type": "code",
   "execution_count": 118,
   "id": "6503745c",
   "metadata": {},
   "outputs": [
    {
     "data": {
      "image/png": "[encoded data removed]",
      "text/plain": [
       "<Figure size 720x288 with 2 Axes>"
      ]
     },
     "metadata": {
      "needs_background": "light"
     },
     "output_type": "display_data"
    }
   ],
   "source": [
    "features = ['Total_Calls','Total_Mins']\n",
    "df[features].hist(figsize=(10,4));"
   ]
  },
  {
   "cell_type": "code",
   "execution_count": 6,
   "id": "a231f41c",
   "metadata": {},
   "outputs": [
    {
     "ename": "NameError",
     "evalue": "name 'y' is not defined",
     "output_type": "error",
     "traceback": [
      "\u001b[1;31m---------------------------------------------------------------------------\u001b[0m",
      "\u001b[1;31mNameError\u001b[0m                                 Traceback (most recent call last)",
      "\u001b[1;32m~\\AppData\\Local\\Temp/ipykernel_10084/2017721288.py\u001b[0m in \u001b[0;36m<module>\u001b[1;34m\u001b[0m\n\u001b[1;32m----> 1\u001b[1;33m \u001b[0mprint\u001b[0m\u001b[1;33m(\u001b[0m\u001b[1;34m'Gradient Boosting Classifier:\\n {}\\n'\u001b[0m\u001b[1;33m.\u001b[0m\u001b[0mformat\u001b[0m\u001b[1;33m(\u001b[0m\u001b[0mmetrics\u001b[0m\u001b[1;33m.\u001b[0m\u001b[0mclassification_report\u001b[0m\u001b[1;33m(\u001b[0m\u001b[0my\u001b[0m\u001b[1;33m,\u001b[0m \u001b[0mstratified_cv\u001b[0m\u001b[1;33m(\u001b[0m\u001b[0mX\u001b[0m\u001b[1;33m,\u001b[0m \u001b[0my\u001b[0m\u001b[1;33m,\u001b[0m \u001b[0mensemble\u001b[0m\u001b[1;33m.\u001b[0m\u001b[0mGradientBoostingClassifier\u001b[0m\u001b[1;33m)\u001b[0m\u001b[1;33m)\u001b[0m\u001b[1;33m)\u001b[0m\u001b[1;33m)\u001b[0m\u001b[1;33m\u001b[0m\u001b[1;33m\u001b[0m\u001b[0m\n\u001b[0m\u001b[0;32m      2\u001b[0m \u001b[0mprint\u001b[0m\u001b[1;33m(\u001b[0m\u001b[1;34m'Support vector machine(SVM):\\n {}\\n'\u001b[0m\u001b[1;33m.\u001b[0m\u001b[0mformat\u001b[0m\u001b[1;33m(\u001b[0m\u001b[0mmetrics\u001b[0m\u001b[1;33m.\u001b[0m\u001b[0mclassification_report\u001b[0m\u001b[1;33m(\u001b[0m\u001b[0my\u001b[0m\u001b[1;33m,\u001b[0m \u001b[0mstratified_cv\u001b[0m\u001b[1;33m(\u001b[0m\u001b[0mX\u001b[0m\u001b[1;33m,\u001b[0m \u001b[0my\u001b[0m\u001b[1;33m,\u001b[0m \u001b[0msvm\u001b[0m\u001b[1;33m.\u001b[0m\u001b[0mSVC\u001b[0m\u001b[1;33m)\u001b[0m\u001b[1;33m)\u001b[0m\u001b[1;33m)\u001b[0m\u001b[1;33m)\u001b[0m\u001b[1;33m\u001b[0m\u001b[1;33m\u001b[0m\u001b[0m\n\u001b[0;32m      3\u001b[0m \u001b[0mprint\u001b[0m\u001b[1;33m(\u001b[0m\u001b[1;34m'Random Forest Classifier:\\n {}\\n'\u001b[0m\u001b[1;33m.\u001b[0m\u001b[0mformat\u001b[0m\u001b[1;33m(\u001b[0m\u001b[0mmetrics\u001b[0m\u001b[1;33m.\u001b[0m\u001b[0mclassification_report\u001b[0m\u001b[1;33m(\u001b[0m\u001b[0my\u001b[0m\u001b[1;33m,\u001b[0m \u001b[0mstratified_cv\u001b[0m\u001b[1;33m(\u001b[0m\u001b[0mX\u001b[0m\u001b[1;33m,\u001b[0m \u001b[0my\u001b[0m\u001b[1;33m,\u001b[0m \u001b[0mensemble\u001b[0m\u001b[1;33m.\u001b[0m\u001b[0mRandomForestClassifier\u001b[0m\u001b[1;33m)\u001b[0m\u001b[1;33m)\u001b[0m\u001b[1;33m)\u001b[0m\u001b[1;33m)\u001b[0m\u001b[1;33m\u001b[0m\u001b[1;33m\u001b[0m\u001b[0m\n\u001b[0;32m      4\u001b[0m \u001b[0mprint\u001b[0m\u001b[1;33m(\u001b[0m\u001b[1;34m'K Nearest Neighbor Classifier:\\n {}\\n'\u001b[0m\u001b[1;33m.\u001b[0m\u001b[0mformat\u001b[0m\u001b[1;33m(\u001b[0m\u001b[0mmetrics\u001b[0m\u001b[1;33m.\u001b[0m\u001b[0mclassification_report\u001b[0m\u001b[1;33m(\u001b[0m\u001b[0my\u001b[0m\u001b[1;33m,\u001b[0m \u001b[0mstratified_cv\u001b[0m\u001b[1;33m(\u001b[0m\u001b[0mX\u001b[0m\u001b[1;33m,\u001b[0m \u001b[0my\u001b[0m\u001b[1;33m,\u001b[0m \u001b[0mneighbors\u001b[0m\u001b[1;33m.\u001b[0m\u001b[0mKNeighborsClassifier\u001b[0m\u001b[1;33m)\u001b[0m\u001b[1;33m)\u001b[0m\u001b[1;33m)\u001b[0m\u001b[1;33m)\u001b[0m\u001b[1;33m\u001b[0m\u001b[1;33m\u001b[0m\u001b[0m\n\u001b[0;32m      5\u001b[0m \u001b[0mprint\u001b[0m\u001b[1;33m(\u001b[0m\u001b[1;34m'Logistic Regression:\\n {}\\n'\u001b[0m\u001b[1;33m.\u001b[0m\u001b[0mformat\u001b[0m\u001b[1;33m(\u001b[0m\u001b[0mmetrics\u001b[0m\u001b[1;33m.\u001b[0m\u001b[0mclassification_report\u001b[0m\u001b[1;33m(\u001b[0m\u001b[0my\u001b[0m\u001b[1;33m,\u001b[0m \u001b[0mstratified_cv\u001b[0m\u001b[1;33m(\u001b[0m\u001b[0mX\u001b[0m\u001b[1;33m,\u001b[0m \u001b[0my\u001b[0m\u001b[1;33m,\u001b[0m \u001b[0mlinear_model\u001b[0m\u001b[1;33m.\u001b[0m\u001b[0mLogisticRegression\u001b[0m\u001b[1;33m)\u001b[0m\u001b[1;33m)\u001b[0m\u001b[1;33m)\u001b[0m\u001b[1;33m)\u001b[0m\u001b[1;33m\u001b[0m\u001b[1;33m\u001b[0m\u001b[0m\n",
      "\u001b[1;31mNameError\u001b[0m: name 'y' is not defined"
     ]
    }
   ],
   "source": [
    "print('Gradient Boosting Classifier:\\n {}\\n'.format(metrics.classification_report(y, stratified_cv(X, y, ensemble.GradientBoostingClassifier))))\n",
    "print('Support vector machine(SVM):\\n {}\\n'.format(metrics.classification_report(y, stratified_cv(X, y, svm.SVC))))\n",
    "print('Random Forest Classifier:\\n {}\\n'.format(metrics.classification_report(y, stratified_cv(X, y, ensemble.RandomForestClassifier))))\n",
    "print('K Nearest Neighbor Classifier:\\n {}\\n'.format(metrics.classification_report(y, stratified_cv(X, y, neighbors.KNeighborsClassifier))))\n",
    "print('Logistic Regression:\\n {}\\n'.format(metrics.classification_report(y, stratified_cv(X, y, linear_model.LogisticRegression))))"
   ]
  },
  {
   "cell_type": "code",
   "execution_count": 7,
   "id": "e622287f",
   "metadata": {},
   "outputs": [],
   "source": [
    "from sklearn.model_selection import train_test_split"
   ]
  },
  {
   "cell_type": "code",
   "execution_count": 8,
   "id": "633cded9",
   "metadata": {},
   "outputs": [
    {
     "ename": "NameError",
     "evalue": "name 'X' is not defined",
     "output_type": "error",
     "traceback": [
      "\u001b[1;31m---------------------------------------------------------------------------\u001b[0m",
      "\u001b[1;31mNameError\u001b[0m                                 Traceback (most recent call last)",
      "\u001b[1;32m~\\AppData\\Local\\Temp/ipykernel_10084/3142729961.py\u001b[0m in \u001b[0;36m<module>\u001b[1;34m\u001b[0m\n\u001b[1;32m----> 1\u001b[1;33m \u001b[0mX_train\u001b[0m\u001b[1;33m,\u001b[0m \u001b[0mX_test\u001b[0m\u001b[1;33m,\u001b[0m \u001b[0my_train\u001b[0m\u001b[1;33m,\u001b[0m \u001b[0my_test\u001b[0m \u001b[1;33m=\u001b[0m \u001b[0mtrain_test_split\u001b[0m\u001b[1;33m(\u001b[0m\u001b[0mX\u001b[0m\u001b[1;33m,\u001b[0m \u001b[0my\u001b[0m\u001b[1;33m,\u001b[0m \u001b[0mtest_size\u001b[0m\u001b[1;33m=\u001b[0m\u001b[1;36m0.2\u001b[0m\u001b[1;33m)\u001b[0m\u001b[1;33m\u001b[0m\u001b[1;33m\u001b[0m\u001b[0m\n\u001b[0m",
      "\u001b[1;31mNameError\u001b[0m: name 'X' is not defined"
     ]
    }
   ],
   "source": [
    "X_train, X_test, y_train, y_test = train_test_split(X, y, test_size=0.2)"
   ]
  },
  {
   "cell_type": "code",
   "execution_count": 13,
   "id": "7ea4885a",
   "metadata": {},
   "outputs": [],
   "source": [
    "churn_result = df['Churn?']"
   ]
  },
  {
   "cell_type": "code",
   "execution_count": 14,
   "id": "826237ab",
   "metadata": {},
   "outputs": [],
   "source": [
    "churn_result = df['Churn?']\n",
    "y = np.where(churn_result == 'True.',1,0)"
   ]
  },
  {
   "cell_type": "code",
   "execution_count": 16,
   "id": "7ba74b08",
   "metadata": {},
   "outputs": [],
   "source": [
    "to_drop = ['State','Area Code','Phone','Churn?']\n",
    "churn_feat_space = df.drop(to_drop,axis=1)"
   ]
  },
  {
   "cell_type": "code",
   "execution_count": 20,
   "id": "007aec13",
   "metadata": {},
   "outputs": [],
   "source": [
    "yes_no_cols = [\"Intl_Plan\",\"Vmail_Plan\"]\n",
    "churn_feat_space[yes_no_cols] = churn_feat_space[yes_no_cols] == 'yes'"
   ]
  },
  {
   "cell_type": "code",
   "execution_count": 21,
   "id": "0bbfc97e",
   "metadata": {},
   "outputs": [
    {
     "name": "stdout",
     "output_type": "stream",
     "text": [
      "Index(['Account Length', 'Intl_Plan', 'Vmail_Plan', 'Vmail_Message',\n",
      "       'Day_Mins', 'Day_Calls', 'Day_Charge', 'Eve_Mins', 'Eve_Calls',\n",
      "       'Eve_Charge', 'Night_Mins', 'Night_Calls', 'Night_Charge', 'Intl_Mins',\n",
      "       'Intl_Calls', 'Intl_Charge', 'CustServ_Calls', 'Total_Calls',\n",
      "       'Total_Mins', 'Total_Charge'],\n",
      "      dtype='object')\n"
     ]
    }
   ],
   "source": [
    "features = churn_feat_space.columns\n",
    "print (features)"
   ]
  },
  {
   "cell_type": "code",
   "execution_count": 22,
   "id": "3d10ce57",
   "metadata": {},
   "outputs": [
    {
     "ename": "AttributeError",
     "evalue": "'DataFrame' object has no attribute 'as_matrix'",
     "output_type": "error",
     "traceback": [
      "\u001b[1;31m---------------------------------------------------------------------------\u001b[0m",
      "\u001b[1;31mAttributeError\u001b[0m                            Traceback (most recent call last)",
      "\u001b[1;32m~\\AppData\\Local\\Temp/ipykernel_13700/2565883503.py\u001b[0m in \u001b[0;36m<module>\u001b[1;34m\u001b[0m\n\u001b[1;32m----> 1\u001b[1;33m \u001b[0mX\u001b[0m \u001b[1;33m=\u001b[0m \u001b[0mchurn_feat_space\u001b[0m\u001b[1;33m.\u001b[0m\u001b[0mas_matrix\u001b[0m\u001b[1;33m(\u001b[0m\u001b[1;33m)\u001b[0m\u001b[1;33m.\u001b[0m\u001b[0mastype\u001b[0m\u001b[1;33m(\u001b[0m\u001b[0mnp\u001b[0m\u001b[1;33m.\u001b[0m\u001b[0mfloat\u001b[0m\u001b[1;33m)\u001b[0m\u001b[1;33m\u001b[0m\u001b[1;33m\u001b[0m\u001b[0m\n\u001b[0m",
      "\u001b[1;32mD:\\Users\\admin\\anaconda3\\lib\\site-packages\\pandas\\core\\generic.py\u001b[0m in \u001b[0;36m__getattr__\u001b[1;34m(self, name)\u001b[0m\n\u001b[0;32m   5485\u001b[0m         ):\n\u001b[0;32m   5486\u001b[0m             \u001b[1;32mreturn\u001b[0m \u001b[0mself\u001b[0m\u001b[1;33m[\u001b[0m\u001b[0mname\u001b[0m\u001b[1;33m]\u001b[0m\u001b[1;33m\u001b[0m\u001b[1;33m\u001b[0m\u001b[0m\n\u001b[1;32m-> 5487\u001b[1;33m         \u001b[1;32mreturn\u001b[0m \u001b[0mobject\u001b[0m\u001b[1;33m.\u001b[0m\u001b[0m__getattribute__\u001b[0m\u001b[1;33m(\u001b[0m\u001b[0mself\u001b[0m\u001b[1;33m,\u001b[0m \u001b[0mname\u001b[0m\u001b[1;33m)\u001b[0m\u001b[1;33m\u001b[0m\u001b[1;33m\u001b[0m\u001b[0m\n\u001b[0m\u001b[0;32m   5488\u001b[0m \u001b[1;33m\u001b[0m\u001b[0m\n\u001b[0;32m   5489\u001b[0m     \u001b[1;32mdef\u001b[0m \u001b[0m__setattr__\u001b[0m\u001b[1;33m(\u001b[0m\u001b[0mself\u001b[0m\u001b[1;33m,\u001b[0m \u001b[0mname\u001b[0m\u001b[1;33m:\u001b[0m \u001b[0mstr\u001b[0m\u001b[1;33m,\u001b[0m \u001b[0mvalue\u001b[0m\u001b[1;33m)\u001b[0m \u001b[1;33m->\u001b[0m \u001b[1;32mNone\u001b[0m\u001b[1;33m:\u001b[0m\u001b[1;33m\u001b[0m\u001b[1;33m\u001b[0m\u001b[0m\n",
      "\u001b[1;31mAttributeError\u001b[0m: 'DataFrame' object has no attribute 'as_matrix'"
     ]
    }
   ],
   "source": [
    "X = churn_feat_space.as_matrix().astype(np.float)"
   ]
  },
  {
   "cell_type": "code",
   "execution_count": 67,
   "id": "ced927e5",
   "metadata": {},
   "outputs": [
    {
     "name": "stdout",
     "output_type": "stream",
     "text": [
      "Feature space holds 3311 observations and 20 features\n",
      "Unique target labels: [0 1]\n"
     ]
    },
    {
     "name": "stderr",
     "output_type": "stream",
     "text": [
      "C:\\Users\\admin\\AppData\\Local\\Temp/ipykernel_13700/3268744342.py:4: DeprecationWarning: `np.float` is a deprecated alias for the builtin `float`. To silence this warning, use `float` by itself. Doing this will not modify any behavior and is safe. If you specifically wanted the numpy scalar type, use `np.float64` here.\n",
      "Deprecated in NumPy 1.20; for more details and guidance: https://numpy.org/devdocs/release/1.20.0-notes.html#deprecations\n",
      "  X = churn_feat_space.astype(np.float)\n"
     ]
    }
   ],
   "source": [
    "from sklearn.preprocessing import StandardScaler\n",
    "%matplotlib inline\n",
    "\n",
    "X = churn_feat_space.astype(np.float)\n",
    "\n",
    "scaler = StandardScaler()\n",
    "X = scaler.fit_transform(X)\n",
    "\n",
    "print (\"Feature space holds %d observations and %d features\" % X.shape)\n",
    "print (\"Unique target labels:\", np.unique(y))\n",
    "\n"
   ]
  },
  {
   "cell_type": "code",
   "execution_count": 30,
   "id": "4b1ab3a0",
   "metadata": {},
   "outputs": [
    {
     "name": "stderr",
     "output_type": "stream",
     "text": [
      "C:\\Users\\admin\\AppData\\Local\\Temp/ipykernel_13700/3296995391.py:1: DeprecationWarning: `np.float` is a deprecated alias for the builtin `float`. To silence this warning, use `float` by itself. Doing this will not modify any behavior and is safe. If you specifically wanted the numpy scalar type, use `np.float64` here.\n",
      "Deprecated in NumPy 1.20; for more details and guidance: https://numpy.org/devdocs/release/1.20.0-notes.html#deprecations\n",
      "  X = churn_feat_space.astype(np.float)\n"
     ]
    }
   ],
   "source": [
    "X = churn_feat_space.astype(np.float)"
   ]
  },
  {
   "cell_type": "code",
   "execution_count": 31,
   "id": "49000f33",
   "metadata": {},
   "outputs": [],
   "source": [
    "scaler = StandardScaler()\n",
    "X = scaler.fit_transform(X)"
   ]
  },
  {
   "cell_type": "code",
   "execution_count": 32,
   "id": "a7f2ab1d",
   "metadata": {},
   "outputs": [
    {
     "name": "stdout",
     "output_type": "stream",
     "text": [
      "Feature space holds 3311 observations and 20 features\n",
      "Unique target labels: [0 1]\n"
     ]
    }
   ],
   "source": [
    "print (\"Feature space holds %d observations and %d features\" % X.shape)\n",
    "print (\"Unique target labels:\", np.unique(y))"
   ]
  },
  {
   "cell_type": "code",
   "execution_count": 68,
   "id": "8b1f238b",
   "metadata": {},
   "outputs": [
    {
     "name": "stdout",
     "output_type": "stream",
     "text": [
      "(2648, 20) (2648,)\n",
      "(663, 20) (663,)\n"
     ]
    }
   ],
   "source": [
    "from sklearn.model_selection import train_test_split\n",
    "\n",
    "X_train, X_test, y_train, y_test = train_test_split(X, y, test_size=0.2)\n",
    "print (X_train.shape, y_train.shape)\n",
    "print (X_test.shape, y_test.shape)"
   ]
  },
  {
   "cell_type": "code",
   "execution_count": 34,
   "id": "d277c5f4",
   "metadata": {},
   "outputs": [],
   "source": [
    "X_train, X_test, y_train, y_test = train_test_split(X, y, test_size=0.2)"
   ]
  },
  {
   "cell_type": "code",
   "execution_count": 35,
   "id": "d08a7c1d",
   "metadata": {},
   "outputs": [
    {
     "name": "stdout",
     "output_type": "stream",
     "text": [
      "(2648, 20) (2648,)\n",
      "(663, 20) (663,)\n"
     ]
    }
   ],
   "source": [
    "print (X_train.shape, y_train.shape)\n",
    "print (X_test.shape, y_test.shape)"
   ]
  },
  {
   "cell_type": "code",
   "execution_count": 43,
   "id": "ead65241",
   "metadata": {},
   "outputs": [
    {
     "name": "stdout",
     "output_type": "stream",
     "text": [
      "[0 0 0 1 0]\n",
      "0.9728506787330317\n"
     ]
    }
   ],
   "source": [
    "from sklearn.ensemble import RandomForestClassifier as RF\n",
    "rf = RF()\n",
    "rf_model = rf.fit(X_train, y_train)\n",
    "predictions_rf = rf.predict(X_test)\n",
    "print(predictions_rf[0:5])\n",
    "print(rf_model.score(X_test, y_test))"
   ]
  },
  {
   "cell_type": "code",
   "execution_count": 69,
   "id": "3c63f761",
   "metadata": {},
   "outputs": [
    {
     "name": "stdout",
     "output_type": "stream",
     "text": [
      "Classification report :                precision    recall  f1-score   support\n",
      "\n",
      "           0       0.87      0.98      0.93       566\n",
      "           1       0.63      0.18      0.27        97\n",
      "\n",
      "    accuracy                           0.86       663\n",
      "   macro avg       0.75      0.58      0.60       663\n",
      "weighted avg       0.84      0.86      0.83       663\n",
      "\n",
      "Confusion Matrix :  [[556  10]\n",
      " [ 80  17]]\n",
      "Accuracy of the model on testing sample data :  0.83\n",
      "Accuracy values for 10-fold cross validation :  [0.8190099  0.85471798 0.84530147 0.82140282 0.81717447 0.83660427\n",
      " 0.83964522 0.82567662 0.84020357 0.84530147]\n",
      "Final average accuracy of the model :  0.83\n"
     ]
    }
   ],
   "source": [
    "#logistic Regression\n",
    "\n",
    "from sklearn.linear_model import LogisticRegression\n",
    "from sklearn.model_selection import cross_val_score\n",
    "\n",
    "model = LogisticRegression(C = 1, penalty = 'l2', solver = 'newton-cg')\n",
    "\n",
    "lr = model.fit(X_train, y_train)\n",
    "prediction = lr.predict(X_test)\n",
    "\n",
    "print('Classification report : ', metrics.classification_report(y_test, prediction))\n",
    "print('Confusion Matrix : ', metrics.confusion_matrix(y_test, prediction))\n",
    "\n",
    "F1_score = metrics.f1_score(y_test, prediction, average = 'weighted')\n",
    "print('Accuracy of the model on testing sample data : ', round(F1_score, 2))\n",
    "\n",
    "Acc_Value = cross_val_score(lr, X, y, cv = 10, scoring='f1_weighted')\n",
    "print('Accuracy values for 10-fold cross validation : ',Acc_Value)\n",
    "print('Final average accuracy of the model : ', round(Acc_Value.mean(), 2))\n",
    "\n"
   ]
  },
  {
   "cell_type": "code",
   "execution_count": 61,
   "id": "fb6ae877",
   "metadata": {},
   "outputs": [
    {
     "ename": "SyntaxError",
     "evalue": "invalid syntax (Temp/ipykernel_13700/1061893272.py, line 6)",
     "output_type": "error",
     "traceback": [
      "\u001b[1;36m  File \u001b[1;32m\"C:\\Users\\admin\\AppData\\Local\\Temp/ipykernel_13700/1061893272.py\"\u001b[1;36m, line \u001b[1;32m6\u001b[0m\n\u001b[1;33m    print('Prediction : 'lr.predict(X))\u001b[0m\n\u001b[1;37m                         ^\u001b[0m\n\u001b[1;31mSyntaxError\u001b[0m\u001b[1;31m:\u001b[0m invalid syntax\n"
     ]
    }
   ],
   "source": [
    "print(\"class : \", lr.classes_)\n",
    "print(\"Intercept : \", lr.intercept_)\n",
    "print('Coefficients : ', lr.coef_)\n",
    "\n",
    "print('Probability of prediction : ', lr.predict_prob(X))\n",
    "print('Prediction : 'lr.predict(X))"
   ]
  },
  {
   "cell_type": "code",
   "execution_count": 63,
   "id": "f3fe5fa9",
   "metadata": {},
   "outputs": [
    {
     "name": "stdout",
     "output_type": "stream",
     "text": [
      "Classification report :                precision    recall  f1-score   support\n",
      "\n",
      "           0       0.85      0.97      0.91       544\n",
      "           1       0.64      0.21      0.32       119\n",
      "\n",
      "    accuracy                           0.84       663\n",
      "   macro avg       0.75      0.59      0.61       663\n",
      "weighted avg       0.81      0.84      0.80       663\n",
      "\n",
      "Confusion Matrix :  [[530  14]\n",
      " [ 94  25]]\n",
      "Accuracy of the model on testing sample data :  0.8\n",
      "Accuracy values for 10-fold cross validation :  [0.8190099  0.85471798 0.84530147 0.82140282 0.81717447 0.83660427\n",
      " 0.83964522 0.82567662 0.84020357 0.84530147]\n",
      "Final average accuracy of the model :  0.83\n"
     ]
    }
   ],
   "source": [
    "print('Classification report : ', metrics.classification_report(y_test, prediction))\n",
    "print('Confusion Matrix : ', metrics.confusion_matrix(y_test, prediction))\n",
    "\n",
    "F1_score = metrics.f1_score(y_test, prediction, average = 'weighted')\n",
    "print('Accuracy of the model on testing sample data : ', round(F1_score, 2))\n",
    "\n",
    "Acc_Value = cross_val_score(lr, X, y, cv = 10, scoring='f1_weighted')\n",
    "print('Accuracy values for 10-fold cross validation : ',Acc_Value)\n",
    "print('Final average accuracy of the model : ', round(Acc_Value.mean(), 2))"
   ]
  },
  {
   "cell_type": "code",
   "execution_count": 66,
   "id": "61a595fc",
   "metadata": {},
   "outputs": [
    {
     "name": "stdout",
     "output_type": "stream",
     "text": [
      "classification Report :                precision    recall  f1-score   support\n",
      "\n",
      "           0       0.85      0.97      0.91       544\n",
      "           1       0.64      0.21      0.32       119\n",
      "\n",
      "    accuracy                           0.84       663\n",
      "   macro avg       0.75      0.59      0.61       663\n",
      "weighted avg       0.81      0.84      0.80       663\n",
      "\n",
      "confusion Matrix : \n",
      " [[530  14]\n",
      " [ 94  25]]\n",
      "Accuracy of the model on testing sample data :  0.8\n",
      "Accuracy values for 10-fold cross validation :  [0.8190099  0.85471798 0.84530147 0.82140282 0.81717447 0.83660427\n",
      " 0.83964522 0.82567662 0.84020357 0.84530147]\n",
      "Final average accuracy of the model :  0.83\n"
     ]
    }
   ],
   "source": [
    "#KNN\n",
    "\n",
    "from sklearn.neighbors import KNeighborsClassifier\n",
    "from sklearn.model_selection import cross_val_score\n",
    "\n",
    "model2 = KNeighborsClassifier(n_neighbors=3)\n",
    "\n",
    "knn = model.fit(X_train, y_train)\n",
    "prediction = knn.predict(X_test)\n",
    "\n",
    "print(\"classification Report : \", metrics.classification_report (y_test, prediction))\n",
    "print('confusion Matrix : \\n', metrics.confusion_matrix(y_test, prediction))\n",
    "\n",
    "F1_score = metrics.f1_score(y_test, prediction, average = 'weighted')\n",
    "print('Accuracy of the model on testing sample data : ', round(F1_score, 2))\n",
    "\n",
    "Acc_Value = cross_val_score(lr, X, y, cv = 10, scoring='f1_weighted')\n",
    "print('Accuracy values for 10-fold cross validation : ',Acc_Value)\n",
    "print('Final average accuracy of the model : ', round(Acc_Value.mean(), 2))"
   ]
  },
  {
   "cell_type": "code",
   "execution_count": 76,
   "id": "c9c67ff7",
   "metadata": {},
   "outputs": [
    {
     "name": "stdout",
     "output_type": "stream",
     "text": [
      "Random Forest scores: [0.97463768 0.97101449 0.97282609 0.98731884 0.97282609 0.98548094]\n",
      "0.9773506886907423\n",
      "Random Forest predictions [0 0 0 ... 0 0 0]\n"
     ]
    }
   ],
   "source": [
    "from sklearn.model_selection import cross_val_score, cross_val_predict\n",
    "scores_rf = cross_val_score(rf_model, X, y, cv=6)\n",
    "print('Random Forest scores:', scores_rf)\n",
    "\n",
    "print(scores_rf.mean())\n",
    "\n",
    "cross_val_predict_lr = cross_val_predict(rf_model, X, y, cv=6)\n",
    "print('Random Forest predictions', cross_val_predict_lr)"
   ]
  },
  {
   "cell_type": "code",
   "execution_count": null,
   "id": "22b66cd5",
   "metadata": {},
   "outputs": [],
   "source": []
  }
 ],
 "metadata": {
  "kernelspec": {
   "display_name": "Python 3 (ipykernel)",
   "language": "python",
   "name": "python3"
  },
  "language_info": {
   "codemirror_mode": {
    "name": "ipython",
    "version": 3
   },
   "file_extension": ".py",
   "mimetype": "text/x-python",
   "name": "python",
   "nbconvert_exporter": "python",
   "pygments_lexer": "ipython3",
   "version": "3.9.7"
  }
 },
 "nbformat": 4,
 "nbformat_minor": 5
}
