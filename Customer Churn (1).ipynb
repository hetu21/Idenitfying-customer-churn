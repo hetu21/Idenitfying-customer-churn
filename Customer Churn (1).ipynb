{
 "cells": [
  {
   "cell_type": "code",
   "execution_count": 1,
   "id": "b25a603f",
   "metadata": {},
   "outputs": [],
   "source": [
    "import pandas as pd\n",
    "import numpy as np"
   ]
  },
  {
   "cell_type": "code",
   "execution_count": 2,
   "id": "4aa50cc4",
   "metadata": {},
   "outputs": [],
   "source": [
    "df = pd.read_csv(\"churn.csv\", encoding_errors = 'ignore')"
   ]
  },
  {
   "cell_type": "code",
   "execution_count": 3,
   "id": "7e4c2671",
   "metadata": {},
   "outputs": [
    {
     "data": {
      "text/html": [
       "<div>\n",
       "<style scoped>\n",
       "    .dataframe tbody tr th:only-of-type {\n",
       "        vertical-align: middle;\n",
       "    }\n",
       "\n",
       "    .dataframe tbody tr th {\n",
       "        vertical-align: top;\n",
       "    }\n",
       "\n",
       "    .dataframe thead th {\n",
       "        text-align: right;\n",
       "    }\n",
       "</style>\n",
       "<table border=\"1\" class=\"dataframe\">\n",
       "  <thead>\n",
       "    <tr style=\"text-align: right;\">\n",
       "      <th></th>\n",
       "      <th>State</th>\n",
       "      <th>Account Length</th>\n",
       "      <th>Area Code</th>\n",
       "      <th>Phone</th>\n",
       "      <th>Int'l Plan</th>\n",
       "      <th>VMail Plan</th>\n",
       "      <th>VMail Message</th>\n",
       "      <th>Day Mins</th>\n",
       "      <th>Day Calls</th>\n",
       "      <th>Day Charge</th>\n",
       "      <th>...</th>\n",
       "      <th>Unnamed: 30</th>\n",
       "      <th>Unnamed: 31</th>\n",
       "      <th>Unnamed: 32</th>\n",
       "      <th>Unnamed: 33</th>\n",
       "      <th>Unnamed: 34</th>\n",
       "      <th>Unnamed: 35</th>\n",
       "      <th>Unnamed: 36</th>\n",
       "      <th>Unnamed: 37</th>\n",
       "      <th>Unnamed: 38</th>\n",
       "      <th>Unnamed: 39</th>\n",
       "    </tr>\n",
       "  </thead>\n",
       "  <tbody>\n",
       "    <tr>\n",
       "      <th>0</th>\n",
       "      <td>KS</td>\n",
       "      <td>128.0</td>\n",
       "      <td>415.0</td>\n",
       "      <td>382-4657</td>\n",
       "      <td>no</td>\n",
       "      <td>yes</td>\n",
       "      <td>25.0</td>\n",
       "      <td>265.1</td>\n",
       "      <td>110.0</td>\n",
       "      <td>45.07</td>\n",
       "      <td>...</td>\n",
       "      <td>NaN</td>\n",
       "      <td>NaN</td>\n",
       "      <td>NaN</td>\n",
       "      <td>NaN</td>\n",
       "      <td>NaN</td>\n",
       "      <td>NaN</td>\n",
       "      <td>NaN</td>\n",
       "      <td>NaN</td>\n",
       "      <td>NaN</td>\n",
       "      <td>NaN</td>\n",
       "    </tr>\n",
       "    <tr>\n",
       "      <th>1</th>\n",
       "      <td>OH</td>\n",
       "      <td>107.0</td>\n",
       "      <td>415.0</td>\n",
       "      <td>371-7191</td>\n",
       "      <td>no</td>\n",
       "      <td>yes</td>\n",
       "      <td>26.0</td>\n",
       "      <td>161.6</td>\n",
       "      <td>123.0</td>\n",
       "      <td>27.47</td>\n",
       "      <td>...</td>\n",
       "      <td>NaN</td>\n",
       "      <td>NaN</td>\n",
       "      <td>NaN</td>\n",
       "      <td>NaN</td>\n",
       "      <td>NaN</td>\n",
       "      <td>NaN</td>\n",
       "      <td>NaN</td>\n",
       "      <td>NaN</td>\n",
       "      <td>NaN</td>\n",
       "      <td>NaN</td>\n",
       "    </tr>\n",
       "    <tr>\n",
       "      <th>2</th>\n",
       "      <td>NJ</td>\n",
       "      <td>137.0</td>\n",
       "      <td>415.0</td>\n",
       "      <td>358-1921</td>\n",
       "      <td>no</td>\n",
       "      <td>no</td>\n",
       "      <td>0.0</td>\n",
       "      <td>243.4</td>\n",
       "      <td>114.0</td>\n",
       "      <td>41.38</td>\n",
       "      <td>...</td>\n",
       "      <td>NaN</td>\n",
       "      <td>NaN</td>\n",
       "      <td>NaN</td>\n",
       "      <td>NaN</td>\n",
       "      <td>NaN</td>\n",
       "      <td>NaN</td>\n",
       "      <td>NaN</td>\n",
       "      <td>NaN</td>\n",
       "      <td>NaN</td>\n",
       "      <td>NaN</td>\n",
       "    </tr>\n",
       "    <tr>\n",
       "      <th>3</th>\n",
       "      <td>OH</td>\n",
       "      <td>84.0</td>\n",
       "      <td>408.0</td>\n",
       "      <td>375-9999</td>\n",
       "      <td>yes</td>\n",
       "      <td>no</td>\n",
       "      <td>0.0</td>\n",
       "      <td>299.4</td>\n",
       "      <td>71.0</td>\n",
       "      <td>50.9</td>\n",
       "      <td>...</td>\n",
       "      <td>NaN</td>\n",
       "      <td>NaN</td>\n",
       "      <td>NaN</td>\n",
       "      <td>NaN</td>\n",
       "      <td>NaN</td>\n",
       "      <td>NaN</td>\n",
       "      <td>NaN</td>\n",
       "      <td>NaN</td>\n",
       "      <td>NaN</td>\n",
       "      <td>NaN</td>\n",
       "    </tr>\n",
       "    <tr>\n",
       "      <th>4</th>\n",
       "      <td>OK</td>\n",
       "      <td>75.0</td>\n",
       "      <td>415.0</td>\n",
       "      <td>330-6626</td>\n",
       "      <td>yes</td>\n",
       "      <td>no</td>\n",
       "      <td>0.0</td>\n",
       "      <td>166.7</td>\n",
       "      <td>113.0</td>\n",
       "      <td>28.34</td>\n",
       "      <td>...</td>\n",
       "      <td>NaN</td>\n",
       "      <td>NaN</td>\n",
       "      <td>NaN</td>\n",
       "      <td>NaN</td>\n",
       "      <td>NaN</td>\n",
       "      <td>NaN</td>\n",
       "      <td>NaN</td>\n",
       "      <td>NaN</td>\n",
       "      <td>NaN</td>\n",
       "      <td>NaN</td>\n",
       "    </tr>\n",
       "  </tbody>\n",
       "</table>\n",
       "<p>5 rows × 40 columns</p>\n",
       "</div>"
      ],
      "text/plain": [
       "  State  Account Length  Area Code     Phone Int'l Plan VMail Plan  \\\n",
       "0    KS           128.0      415.0  382-4657         no        yes   \n",
       "1    OH           107.0      415.0  371-7191         no        yes   \n",
       "2    NJ           137.0      415.0  358-1921         no         no   \n",
       "3    OH            84.0      408.0  375-9999        yes         no   \n",
       "4    OK            75.0      415.0  330-6626        yes         no   \n",
       "\n",
       "   VMail Message  Day Mins  Day Calls Day Charge  ... Unnamed: 30 Unnamed: 31  \\\n",
       "0           25.0     265.1      110.0      45.07  ...         NaN         NaN   \n",
       "1           26.0     161.6      123.0      27.47  ...         NaN         NaN   \n",
       "2            0.0     243.4      114.0      41.38  ...         NaN         NaN   \n",
       "3            0.0     299.4       71.0       50.9  ...         NaN         NaN   \n",
       "4            0.0     166.7      113.0      28.34  ...         NaN         NaN   \n",
       "\n",
       "   Unnamed: 32  Unnamed: 33 Unnamed: 34 Unnamed: 35  Unnamed: 36  Unnamed: 37  \\\n",
       "0          NaN          NaN         NaN         NaN          NaN          NaN   \n",
       "1          NaN          NaN         NaN         NaN          NaN          NaN   \n",
       "2          NaN          NaN         NaN         NaN          NaN          NaN   \n",
       "3          NaN          NaN         NaN         NaN          NaN          NaN   \n",
       "4          NaN          NaN         NaN         NaN          NaN          NaN   \n",
       "\n",
       "   Unnamed: 38 Unnamed: 39  \n",
       "0          NaN         NaN  \n",
       "1          NaN         NaN  \n",
       "2          NaN         NaN  \n",
       "3          NaN         NaN  \n",
       "4          NaN         NaN  \n",
       "\n",
       "[5 rows x 40 columns]"
      ]
     },
     "execution_count": 3,
     "metadata": {},
     "output_type": "execute_result"
    }
   ],
   "source": [
    "df.head(5)"
   ]
  },
  {
   "cell_type": "code",
   "execution_count": 4,
   "id": "872fa268",
   "metadata": {},
   "outputs": [
    {
     "name": "stdout",
     "output_type": "stream",
     "text": [
      "<class 'pandas.core.frame.DataFrame'>\n",
      "RangeIndex: 3328 entries, 0 to 3327\n",
      "Data columns (total 40 columns):\n",
      " #   Column          Non-Null Count  Dtype  \n",
      "---  ------          --------------  -----  \n",
      " 0   State           3328 non-null   object \n",
      " 1   Account Length  3325 non-null   float64\n",
      " 2   Area Code       3325 non-null   float64\n",
      " 3   Phone           3325 non-null   object \n",
      " 4   Int'l Plan      3325 non-null   object \n",
      " 5   VMail Plan      3325 non-null   object \n",
      " 6   VMail Message   3325 non-null   float64\n",
      " 7   Day Mins        3324 non-null   float64\n",
      " 8   Day Calls       3324 non-null   float64\n",
      " 9   Day Charge      3324 non-null   object \n",
      " 10  Eve Mins        3324 non-null   object \n",
      " 11  Eve Calls       3324 non-null   object \n",
      " 12  Eve Charge      3324 non-null   float64\n",
      " 13  Night Mins      3324 non-null   float64\n",
      " 14  Night Calls     3324 non-null   object \n",
      " 15  Night Charge    3323 non-null   object \n",
      " 16  Intl Mins       3323 non-null   float64\n",
      " 17  Intl Calls      3323 non-null   float64\n",
      " 18  Intl Charge     3323 non-null   float64\n",
      " 19  CustServ Calls  3323 non-null   object \n",
      " 20  Churn?          3322 non-null   object \n",
      " 21  Unnamed: 21     2 non-null      float64\n",
      " 22  Unnamed: 22     2 non-null      object \n",
      " 23  Unnamed: 23     2 non-null      object \n",
      " 24  Unnamed: 24     1 non-null      float64\n",
      " 25  Unnamed: 25     2 non-null      object \n",
      " 26  Unnamed: 26     1 non-null      float64\n",
      " 27  Unnamed: 27     1 non-null      float64\n",
      " 28  Unnamed: 28     1 non-null      float64\n",
      " 29  Unnamed: 29     1 non-null      float64\n",
      " 30  Unnamed: 30     1 non-null      float64\n",
      " 31  Unnamed: 31     1 non-null      float64\n",
      " 32  Unnamed: 32     1 non-null      float64\n",
      " 33  Unnamed: 33     1 non-null      float64\n",
      " 34  Unnamed: 34     1 non-null      float64\n",
      " 35  Unnamed: 35     1 non-null      float64\n",
      " 36  Unnamed: 36     1 non-null      float64\n",
      " 37  Unnamed: 37     1 non-null      float64\n",
      " 38  Unnamed: 38     1 non-null      float64\n",
      " 39  Unnamed: 39     1 non-null      object \n",
      "dtypes: float64(25), object(15)\n",
      "memory usage: 1.0+ MB\n"
     ]
    }
   ],
   "source": [
    "df.info()"
   ]
  },
  {
   "cell_type": "code",
   "execution_count": 5,
   "id": "7a4b6e12",
   "metadata": {},
   "outputs": [],
   "source": [
    "#Dropping unncessary columns\n",
    "df.drop(df.iloc[:,21:], inplace = True, axis = 1)"
   ]
  },
  {
   "cell_type": "code",
   "execution_count": 6,
   "id": "f0f8edf4",
   "metadata": {},
   "outputs": [
    {
     "data": {
      "text/html": [
       "<div>\n",
       "<style scoped>\n",
       "    .dataframe tbody tr th:only-of-type {\n",
       "        vertical-align: middle;\n",
       "    }\n",
       "\n",
       "    .dataframe tbody tr th {\n",
       "        vertical-align: top;\n",
       "    }\n",
       "\n",
       "    .dataframe thead th {\n",
       "        text-align: right;\n",
       "    }\n",
       "</style>\n",
       "<table border=\"1\" class=\"dataframe\">\n",
       "  <thead>\n",
       "    <tr style=\"text-align: right;\">\n",
       "      <th></th>\n",
       "      <th>State</th>\n",
       "      <th>Account Length</th>\n",
       "      <th>Area Code</th>\n",
       "      <th>Phone</th>\n",
       "      <th>Int'l Plan</th>\n",
       "      <th>VMail Plan</th>\n",
       "      <th>VMail Message</th>\n",
       "      <th>Day Mins</th>\n",
       "      <th>Day Calls</th>\n",
       "      <th>Day Charge</th>\n",
       "      <th>...</th>\n",
       "      <th>Eve Calls</th>\n",
       "      <th>Eve Charge</th>\n",
       "      <th>Night Mins</th>\n",
       "      <th>Night Calls</th>\n",
       "      <th>Night Charge</th>\n",
       "      <th>Intl Mins</th>\n",
       "      <th>Intl Calls</th>\n",
       "      <th>Intl Charge</th>\n",
       "      <th>CustServ Calls</th>\n",
       "      <th>Churn?</th>\n",
       "    </tr>\n",
       "  </thead>\n",
       "  <tbody>\n",
       "    <tr>\n",
       "      <th>0</th>\n",
       "      <td>KS</td>\n",
       "      <td>128.0</td>\n",
       "      <td>415.0</td>\n",
       "      <td>382-4657</td>\n",
       "      <td>no</td>\n",
       "      <td>yes</td>\n",
       "      <td>25.0</td>\n",
       "      <td>265.1</td>\n",
       "      <td>110.0</td>\n",
       "      <td>45.07</td>\n",
       "      <td>...</td>\n",
       "      <td>99</td>\n",
       "      <td>16.78</td>\n",
       "      <td>244.7</td>\n",
       "      <td>91</td>\n",
       "      <td>11.01</td>\n",
       "      <td>10.0</td>\n",
       "      <td>3.0</td>\n",
       "      <td>2.70</td>\n",
       "      <td>1</td>\n",
       "      <td>False.</td>\n",
       "    </tr>\n",
       "    <tr>\n",
       "      <th>1</th>\n",
       "      <td>OH</td>\n",
       "      <td>107.0</td>\n",
       "      <td>415.0</td>\n",
       "      <td>371-7191</td>\n",
       "      <td>no</td>\n",
       "      <td>yes</td>\n",
       "      <td>26.0</td>\n",
       "      <td>161.6</td>\n",
       "      <td>123.0</td>\n",
       "      <td>27.47</td>\n",
       "      <td>...</td>\n",
       "      <td>103</td>\n",
       "      <td>16.62</td>\n",
       "      <td>254.4</td>\n",
       "      <td>103</td>\n",
       "      <td>11.45</td>\n",
       "      <td>13.7</td>\n",
       "      <td>3.0</td>\n",
       "      <td>3.70</td>\n",
       "      <td>1</td>\n",
       "      <td>False.</td>\n",
       "    </tr>\n",
       "    <tr>\n",
       "      <th>2</th>\n",
       "      <td>NJ</td>\n",
       "      <td>137.0</td>\n",
       "      <td>415.0</td>\n",
       "      <td>358-1921</td>\n",
       "      <td>no</td>\n",
       "      <td>no</td>\n",
       "      <td>0.0</td>\n",
       "      <td>243.4</td>\n",
       "      <td>114.0</td>\n",
       "      <td>41.38</td>\n",
       "      <td>...</td>\n",
       "      <td>110</td>\n",
       "      <td>10.30</td>\n",
       "      <td>162.6</td>\n",
       "      <td>104</td>\n",
       "      <td>7.32</td>\n",
       "      <td>12.2</td>\n",
       "      <td>5.0</td>\n",
       "      <td>3.29</td>\n",
       "      <td>0</td>\n",
       "      <td>False.</td>\n",
       "    </tr>\n",
       "    <tr>\n",
       "      <th>3</th>\n",
       "      <td>OH</td>\n",
       "      <td>84.0</td>\n",
       "      <td>408.0</td>\n",
       "      <td>375-9999</td>\n",
       "      <td>yes</td>\n",
       "      <td>no</td>\n",
       "      <td>0.0</td>\n",
       "      <td>299.4</td>\n",
       "      <td>71.0</td>\n",
       "      <td>50.9</td>\n",
       "      <td>...</td>\n",
       "      <td>88</td>\n",
       "      <td>5.26</td>\n",
       "      <td>196.9</td>\n",
       "      <td>89</td>\n",
       "      <td>8.86</td>\n",
       "      <td>6.6</td>\n",
       "      <td>7.0</td>\n",
       "      <td>1.78</td>\n",
       "      <td>2</td>\n",
       "      <td>False.</td>\n",
       "    </tr>\n",
       "    <tr>\n",
       "      <th>4</th>\n",
       "      <td>OK</td>\n",
       "      <td>75.0</td>\n",
       "      <td>415.0</td>\n",
       "      <td>330-6626</td>\n",
       "      <td>yes</td>\n",
       "      <td>no</td>\n",
       "      <td>0.0</td>\n",
       "      <td>166.7</td>\n",
       "      <td>113.0</td>\n",
       "      <td>28.34</td>\n",
       "      <td>...</td>\n",
       "      <td>122</td>\n",
       "      <td>12.61</td>\n",
       "      <td>186.9</td>\n",
       "      <td>121</td>\n",
       "      <td>8.41</td>\n",
       "      <td>10.1</td>\n",
       "      <td>3.0</td>\n",
       "      <td>2.73</td>\n",
       "      <td>3</td>\n",
       "      <td>False.</td>\n",
       "    </tr>\n",
       "  </tbody>\n",
       "</table>\n",
       "<p>5 rows × 21 columns</p>\n",
       "</div>"
      ],
      "text/plain": [
       "  State  Account Length  Area Code     Phone Int'l Plan VMail Plan  \\\n",
       "0    KS           128.0      415.0  382-4657         no        yes   \n",
       "1    OH           107.0      415.0  371-7191         no        yes   \n",
       "2    NJ           137.0      415.0  358-1921         no         no   \n",
       "3    OH            84.0      408.0  375-9999        yes         no   \n",
       "4    OK            75.0      415.0  330-6626        yes         no   \n",
       "\n",
       "   VMail Message  Day Mins  Day Calls Day Charge  ... Eve Calls Eve Charge  \\\n",
       "0           25.0     265.1      110.0      45.07  ...        99      16.78   \n",
       "1           26.0     161.6      123.0      27.47  ...       103      16.62   \n",
       "2            0.0     243.4      114.0      41.38  ...       110      10.30   \n",
       "3            0.0     299.4       71.0       50.9  ...        88       5.26   \n",
       "4            0.0     166.7      113.0      28.34  ...       122      12.61   \n",
       "\n",
       "   Night Mins  Night Calls Night Charge Intl Mins  Intl Calls  Intl Charge  \\\n",
       "0       244.7           91        11.01      10.0         3.0         2.70   \n",
       "1       254.4          103        11.45      13.7         3.0         3.70   \n",
       "2       162.6          104         7.32      12.2         5.0         3.29   \n",
       "3       196.9           89         8.86       6.6         7.0         1.78   \n",
       "4       186.9          121         8.41      10.1         3.0         2.73   \n",
       "\n",
       "   CustServ Calls  Churn?  \n",
       "0               1  False.  \n",
       "1               1  False.  \n",
       "2               0  False.  \n",
       "3               2  False.  \n",
       "4               3  False.  \n",
       "\n",
       "[5 rows x 21 columns]"
      ]
     },
     "execution_count": 6,
     "metadata": {},
     "output_type": "execute_result"
    }
   ],
   "source": [
    "df.head(5)"
   ]
  },
  {
   "cell_type": "markdown",
   "id": "98160adb",
   "metadata": {},
   "source": [
    "# Data Cleaning"
   ]
  },
  {
   "cell_type": "markdown",
   "id": "d9215063",
   "metadata": {},
   "source": [
    "Some columns have object data type even though they should float or integer."
   ]
  },
  {
   "cell_type": "markdown",
   "id": "6087811e",
   "metadata": {},
   "source": [
    "We will convert them to numeric, and if they are non numeric they will be replaced as NaN"
   ]
  },
  {
   "cell_type": "code",
   "execution_count": 10,
   "id": "f50a7a52",
   "metadata": {},
   "outputs": [
    {
     "data": {
      "text/plain": [
       "State\n",
       "WV                                                                                                                                                                                                                                                                                                                                                                                                                                                                                         106\n",
       "NY                                                                                                                                                                                                                                                                                                                                                                                                                                                                                          83\n",
       "MN                                                                                                                                                                                                                                                                                                                                                                                                                                                                                          82\n",
       "AL                                                                                                                                                                                                                                                                                                                                                                                                                                                                                          80\n",
       "OH                                                                                                                                                                                                                                                                                                                                                                                                                                                                                          78\n",
       "OR                                                                                                                                                                                                                                                                                                                                                                                                                                                                                          78\n",
       "WY                                                                                                                                                                                                                                                                                                                                                                                                                                                                                          77\n",
       "WI                                                                                                                                                                                                                                                                                                                                                                                                                                                                                          77\n",
       "VA                                                                                                                                                                                                                                                                                                                                                                                                                                                                                          76\n",
       "CT                                                                                                                                                                                                                                                                                                                                                                                                                                                                                          74\n",
       "MI                                                                                                                                                                                                                                                                                                                                                                                                                                                                                          73\n",
       "ID                                                                                                                                                                                                                                                                                                                                                                                                                                                                                          73\n",
       "UT                                                                                                                                                                                                                                                                                                                                                                                                                                                                                          72\n",
       "VT                                                                                                                                                                                                                                                                                                                                                                                                                                                                                          72\n",
       "TX                                                                                                                                                                                                                                                                                                                                                                                                                                                                                          72\n",
       "IN                                                                                                                                                                                                                                                                                                                                                                                                                                                                                          71\n",
       "MD                                                                                                                                                                                                                                                                                                                                                                                                                                                                                          70\n",
       "KS                                                                                                                                                                                                                                                                                                                                                                                                                                                                                          70\n",
       "MT                                                                                                                                                                                                                                                                                                                                                                                                                                                                                          68\n",
       "NC                                                                                                                                                                                                                                                                                                                                                                                                                                                                                          68\n",
       "NJ                                                                                                                                                                                                                                                                                                                                                                                                                                                                                          67\n",
       "WA                                                                                                                                                                                                                                                                                                                                                                                                                                                                                          66\n",
       "NV                                                                                                                                                                                                                                                                                                                                                                                                                                                                                          66\n",
       "CO                                                                                                                                                                                                                                                                                                                                                                                                                                                                                          66\n",
       "RI                                                                                                                                                                                                                                                                                                                                                                                                                                                                                          65\n",
       "MA                                                                                                                                                                                                                                                                                                                                                                                                                                                                                          65\n",
       "MS                                                                                                                                                                                                                                                                                                                                                                                                                                                                                          65\n",
       "AZ                                                                                                                                                                                                                                                                                                                                                                                                                                                                                          64\n",
       "MO                                                                                                                                                                                                                                                                                                                                                                                                                                                                                          63\n",
       "FL                                                                                                                                                                                                                                                                                                                                                                                                                                                                                          63\n",
       "NM                                                                                                                                                                                                                                                                                                                                                                                                                                                                                          62\n",
       "ME                                                                                                                                                                                                                                                                                                                                                                                                                                                                                          62\n",
       "DE                                                                                                                                                                                                                                                                                                                                                                                                                                                                                          61\n",
       "OK                                                                                                                                                                                                                                                                                                                                                                                                                                                                                          61\n",
       "NE                                                                                                                                                                                                                                                                                                                                                                                                                                                                                          61\n",
       "ND                                                                                                                                                                                                                                                                                                                                                                                                                                                                                          60\n",
       "SD                                                                                                                                                                                                                                                                                                                                                                                                                                                                                          60\n",
       "SC                                                                                                                                                                                                                                                                                                                                                                                                                                                                                          60\n",
       "KY                                                                                                                                                                                                                                                                                                                                                                                                                                                                                          59\n",
       "IL                                                                                                                                                                                                                                                                                                                                                                                                                                                                                          58\n",
       "NH                                                                                                                                                                                                                                                                                                                                                                                                                                                                                          56\n",
       "AR                                                                                                                                                                                                                                                                                                                                                                                                                                                                                          55\n",
       "DC                                                                                                                                                                                                                                                                                                                                                                                                                                                                                          54\n",
       "GA                                                                                                                                                                                                                                                                                                                                                                                                                                                                                          54\n",
       "TN                                                                                                                                                                                                                                                                                                                                                                                                                                                                                          53\n",
       "AK                                                                                                                                                                                                                                                                                                                                                                                                                                                                                          52\n",
       "HI                                                                                                                                                                                                                                                                                                                                                                                                                                                                                          52\n",
       "LA                                                                                                                                                                                                                                                                                                                                                                                                                                                                                          51\n",
       "PA                                                                                                                                                                                                                                                                                                                                                                                                                                                                                          45\n",
       "IA                                                                                                                                                                                                                                                                                                                                                                                                                                                                                          44\n",
       "CA                                                                                                                                                                                                                                                                                                                                                                                                                                                                                          34\n",
       "Qu\u00041z[\u0002Lʡ\u0011xN\\r.,6\n",
       "MK)6rNUW*\u001a\u0011Y\u001aqOIw1u6S{i֭Ye<f\\[\u00108\u0014l+{vy\u00035/|pD\n",
       "YQ_1X\u0017\u0007\u0016V2\n",
       "Ik\u0015\by\u0010gٌ$3xqh9d*ڴs%.2\u001f2H\u001b/7*1\u0012t\n",
       " \u000167Bm\u0012$NŁ\u0004l$3\u0013\\n\\r\u0003!ᕙ\u000er\u0016B\u000f3xQ9J\u001fX/,uT\u000fS9Kt=\u0001ѷ://>p^7\\r#mN7vv~̌)шZ+-4e)\u0017\n",
       "|Y,`\u0016\\nd[#\n",
       "Bi{J\u0014\u000f8B.o_*/\u0015-ػeR;2?=if\u0016\u0003\n",
       ".lrq\n",
       "$P3U#ƧsDa氚@cY\\tH\\%L\u0013wn(c%*W;/t^<7\u0015e&@C32bQڵ\b@*M̹&#z^\bTa+G%\u0010I{+,_\n",
       "L\u0004..\u0018r\u0007\u0001y]֓ݑ=41y\u000f8&n\u0004M=q\n",
       "\u0003H}C0\u0003 \\ta\u0001%\u001b:\u0010\u0004~\u00141'̧\u0002΂D64RXב\n",
       "g\u0013?\u0005\n",
       "ӭ0ȯ|\\t\\n\u0012A\u0013Ұėd]%\u000f\u0011%`ncx-\n",
       ".ZfT\u001aN6= f0/\u0019j\u0011L-t-|\u000eKd\u001766'\\nab\n",
       "C\u0012nŊ(h\u0018=\u0001>85<\\r9ɹደ\u0019\u0005ګi\u001bO]fZ4oΗn>\u0011^\u0014\u0003\n",
       "\u000e\u001a\u00198t4N\by4\u0010%ͥwQ~&)#\bPc\u0011w      1\n",
       "@ƇވܙK9P*\u0015'?;'H7m\u0019                                                                                                                                                                                                                                                                                                                                                                                                                                                                            1\n",
       "Y\u0006v_Y\u0015uN?Ø߀Ъ!7!\u0011m{ӧHݻ41nA+9d̓#s|1[Nj\u0011\u0014{Hf                                                                                                                                                                                                                                                                                                                                                                                                                                                   1\n",
       "<n\u0015D5                                                                                                                                                                                                                                                                                                                                                                                                                                                                                        1\n",
       "Name: count, dtype: int64"
      ]
     },
     "execution_count": 10,
     "metadata": {},
     "output_type": "execute_result"
    }
   ],
   "source": [
    "df[\"State\"].value_counts()"
   ]
  },
  {
   "cell_type": "markdown",
   "id": "3d0c9f26",
   "metadata": {},
   "source": [
    "As we can see here there are some garbage values present in state column, lets locate and remove these values.\n"
   ]
  },
  {
   "cell_type": "markdown",
   "id": "99bb6ccc",
   "metadata": {},
   "source": [
    "As we can see all the state values are 2 letters, so lets remove the garbage values which are more than 2 letters"
   ]
  },
  {
   "cell_type": "code",
   "execution_count": 13,
   "id": "e83cea11",
   "metadata": {},
   "outputs": [
    {
     "data": {
      "text/html": [
       "<div>\n",
       "<style scoped>\n",
       "    .dataframe tbody tr th:only-of-type {\n",
       "        vertical-align: middle;\n",
       "    }\n",
       "\n",
       "    .dataframe tbody tr th {\n",
       "        vertical-align: top;\n",
       "    }\n",
       "\n",
       "    .dataframe thead th {\n",
       "        text-align: right;\n",
       "    }\n",
       "</style>\n",
       "<table border=\"1\" class=\"dataframe\">\n",
       "  <thead>\n",
       "    <tr style=\"text-align: right;\">\n",
       "      <th></th>\n",
       "      <th>State</th>\n",
       "      <th>Account Length</th>\n",
       "      <th>Area Code</th>\n",
       "      <th>Phone</th>\n",
       "      <th>Int'l Plan</th>\n",
       "      <th>VMail Plan</th>\n",
       "      <th>VMail Message</th>\n",
       "      <th>Day Mins</th>\n",
       "      <th>Day Calls</th>\n",
       "      <th>Day Charge</th>\n",
       "      <th>...</th>\n",
       "      <th>Eve Calls</th>\n",
       "      <th>Eve Charge</th>\n",
       "      <th>Night Mins</th>\n",
       "      <th>Night Calls</th>\n",
       "      <th>Night Charge</th>\n",
       "      <th>Intl Mins</th>\n",
       "      <th>Intl Calls</th>\n",
       "      <th>Intl Charge</th>\n",
       "      <th>CustServ Calls</th>\n",
       "      <th>Churn?</th>\n",
       "    </tr>\n",
       "  </thead>\n",
       "  <tbody>\n",
       "    <tr>\n",
       "      <th>1620</th>\n",
       "      <td>Qu\u00041z[\u0002Lʡ\u0011xN\\r.,6\u001e",
       "MK)6rNUW*\u001a\u0011Y\u001aqOIw1u6S{i֭Ye&lt;...</td>\n",
       "      <td>NaN</td>\n",
       "      <td>NaN</td>\n",
       "      <td>NaN</td>\n",
       "      <td>NaN</td>\n",
       "      <td>NaN</td>\n",
       "      <td>NaN</td>\n",
       "      <td>NaN</td>\n",
       "      <td>NaN</td>\n",
       "      <td>NaN</td>\n",
       "      <td>...</td>\n",
       "      <td>NaN</td>\n",
       "      <td>NaN</td>\n",
       "      <td>NaN</td>\n",
       "      <td>NaN</td>\n",
       "      <td>NaN</td>\n",
       "      <td>NaN</td>\n",
       "      <td>NaN</td>\n",
       "      <td>NaN</td>\n",
       "      <td>NaN</td>\n",
       "      <td>NaN</td>\n",
       "    </tr>\n",
       "    <tr>\n",
       "      <th>1621</th>\n",
       "      <td>@ƇވܙK9P*\u0015'?;'H7m\u0019</td>\n",
       "      <td>NaN</td>\n",
       "      <td>NaN</td>\n",
       "      <td>NaN</td>\n",
       "      <td>NaN</td>\n",
       "      <td>NaN</td>\n",
       "      <td>NaN</td>\n",
       "      <td>NaN</td>\n",
       "      <td>NaN</td>\n",
       "      <td>NaN</td>\n",
       "      <td>...</td>\n",
       "      <td>NaN</td>\n",
       "      <td>NaN</td>\n",
       "      <td>NaN</td>\n",
       "      <td>NaN</td>\n",
       "      <td>NaN</td>\n",
       "      <td>NaN</td>\n",
       "      <td>NaN</td>\n",
       "      <td>NaN</td>\n",
       "      <td>NaN</td>\n",
       "      <td>NaN</td>\n",
       "    </tr>\n",
       "    <tr>\n",
       "      <th>1622</th>\n",
       "      <td>Y\u0006v_Y\u0015uN?Ø߀Ъ!7!\u0011m{ӧHݻ41nA+9d̓#s|1[Nj\u0011\u0014{Hf</td>\n",
       "      <td>NaN</td>\n",
       "      <td>NaN</td>\n",
       "      <td>NaN</td>\n",
       "      <td>NaN</td>\n",
       "      <td>NaN</td>\n",
       "      <td>NaN</td>\n",
       "      <td>NaN</td>\n",
       "      <td>NaN</td>\n",
       "      <td>NaN</td>\n",
       "      <td>...</td>\n",
       "      <td>NaN</td>\n",
       "      <td>NaN</td>\n",
       "      <td>NaN</td>\n",
       "      <td>NaN</td>\n",
       "      <td>NaN</td>\n",
       "      <td>NaN</td>\n",
       "      <td>NaN</td>\n",
       "      <td>NaN</td>\n",
       "      <td>NaN</td>\n",
       "      <td>NaN</td>\n",
       "    </tr>\n",
       "    <tr>\n",
       "      <th>1623</th>\n",
       "      <td>&lt;n\u0015D5</td>\n",
       "      <td>224.0</td>\n",
       "      <td>102.0</td>\n",
       "      <td>38.08</td>\n",
       "      <td>192</td>\n",
       "      <td>99</td>\n",
       "      <td>16.32</td>\n",
       "      <td>163.1</td>\n",
       "      <td>100.0</td>\n",
       "      <td>7.34</td>\n",
       "      <td>...</td>\n",
       "      <td>2</td>\n",
       "      <td>2.59</td>\n",
       "      <td>0.0</td>\n",
       "      <td>False.</td>\n",
       "      <td>NaN</td>\n",
       "      <td>NaN</td>\n",
       "      <td>NaN</td>\n",
       "      <td>NaN</td>\n",
       "      <td>NaN</td>\n",
       "      <td>NaN</td>\n",
       "    </tr>\n",
       "  </tbody>\n",
       "</table>\n",
       "<p>4 rows × 21 columns</p>\n",
       "</div>"
      ],
      "text/plain": [
       "                                                  State  Account Length  \\\n",
       "1620  Qu\u00041z[\u0002Lʡ\u0011xN\\r.,6\n",
       "MK)6rNUW*\u001a\u0011Y\u001aqOIw1u6S{i֭Ye<...             NaN   \n",
       "1621                                  @ƇވܙK9P*\u0015'?;'H7m\u0019             NaN   \n",
       "1622         Y\u0006v_Y\u0015uN?Ø߀Ъ!7!\u0011m{ӧHݻ41nA+9d̓#s|1[Nj\u0011\u0014{Hf             NaN   \n",
       "1623                                              <n\u0015D5           224.0   \n",
       "\n",
       "      Area Code  Phone Int'l Plan VMail Plan  VMail Message  Day Mins  \\\n",
       "1620        NaN    NaN        NaN        NaN            NaN       NaN   \n",
       "1621        NaN    NaN        NaN        NaN            NaN       NaN   \n",
       "1622        NaN    NaN        NaN        NaN            NaN       NaN   \n",
       "1623      102.0  38.08        192         99          16.32     163.1   \n",
       "\n",
       "      Day Calls Day Charge  ... Eve Calls Eve Charge  Night Mins  Night Calls  \\\n",
       "1620        NaN        NaN  ...       NaN        NaN         NaN          NaN   \n",
       "1621        NaN        NaN  ...       NaN        NaN         NaN          NaN   \n",
       "1622        NaN        NaN  ...       NaN        NaN         NaN          NaN   \n",
       "1623      100.0       7.34  ...         2       2.59         0.0       False.   \n",
       "\n",
       "     Night Charge Intl Mins  Intl Calls  Intl Charge  CustServ Calls Churn?  \n",
       "1620          NaN       NaN         NaN          NaN             NaN    NaN  \n",
       "1621          NaN       NaN         NaN          NaN             NaN    NaN  \n",
       "1622          NaN       NaN         NaN          NaN             NaN    NaN  \n",
       "1623          NaN       NaN         NaN          NaN             NaN    NaN  \n",
       "\n",
       "[4 rows x 21 columns]"
      ]
     },
     "execution_count": 13,
     "metadata": {},
     "output_type": "execute_result"
    }
   ],
   "source": [
    "df[df[\"State\"].str.len() > 2]"
   ]
  },
  {
   "cell_type": "code",
   "execution_count": 14,
   "id": "9f23568b",
   "metadata": {},
   "outputs": [],
   "source": [
    "#Dropping garbage values\n",
    "df.drop(index = df.index[1620:1624], inplace = True)"
   ]
  },
  {
   "cell_type": "code",
   "execution_count": 15,
   "id": "5229149b",
   "metadata": {},
   "outputs": [
    {
     "data": {
      "text/plain": [
       "Int'l Plan\n",
       "no     3000\n",
       "yes     323\n",
       "n/        1\n",
       "Name: count, dtype: int64"
      ]
     },
     "execution_count": 15,
     "metadata": {},
     "output_type": "execute_result"
    }
   ],
   "source": [
    "df[\"Int\\'l Plan\"].value_counts()"
   ]
  },
  {
   "cell_type": "code",
   "execution_count": 16,
   "id": "6a92a9b2",
   "metadata": {},
   "outputs": [],
   "source": [
    "df[df[\"Int'l Plan\"] == \"n/\"]\n",
    "df.drop(index = 1611, inplace = True)"
   ]
  },
  {
   "cell_type": "code",
   "execution_count": 17,
   "id": "811c552b",
   "metadata": {},
   "outputs": [],
   "source": [
    "df[\"VMail Plan\"].value_counts()\n",
    "#Here yeS is same as yes so lets edit that\n",
    "df[df[\"VMail Plan\"] == \"yeS\"]\n",
    "df.loc[1610,\"VMail Plan\"] = 'yes'"
   ]
  },
  {
   "cell_type": "code",
   "execution_count": 18,
   "id": "5e8cbc92",
   "metadata": {},
   "outputs": [],
   "source": [
    "#Checking other numeric columns\n",
    "cols = df.columns.drop([\"State\",\"Churn?\",\"Int'l Plan\",\"VMail Plan\",\"Phone\"])"
   ]
  },
  {
   "cell_type": "code",
   "execution_count": 19,
   "id": "1759ac96",
   "metadata": {},
   "outputs": [
    {
     "data": {
      "text/plain": [
       "Index(['Account Length', 'Area Code', 'VMail Message', 'Day Mins', 'Day Calls',\n",
       "       'Day Charge', 'Eve Mins', 'Eve Calls', 'Eve Charge', 'Night Mins',\n",
       "       'Night Calls', 'Night Charge', 'Intl Mins', 'Intl Calls', 'Intl Charge',\n",
       "       'CustServ Calls'],\n",
       "      dtype='object')"
      ]
     },
     "execution_count": 19,
     "metadata": {},
     "output_type": "execute_result"
    }
   ],
   "source": [
    "cols"
   ]
  },
  {
   "cell_type": "code",
   "execution_count": 20,
   "id": "4232b798",
   "metadata": {},
   "outputs": [],
   "source": [
    "df[cols] = df[cols].apply(pd.to_numeric, errors = \"coerce\")"
   ]
  },
  {
   "cell_type": "code",
   "execution_count": 21,
   "id": "49fc618f",
   "metadata": {},
   "outputs": [],
   "source": [
    "df[\"Churn?\"].dropna(inplace = True)"
   ]
  },
  {
   "cell_type": "markdown",
   "id": "9e2ff0ef",
   "metadata": {},
   "source": [
    "There is some garbage values in Churn? lets solve it "
   ]
  },
  {
   "cell_type": "code",
   "execution_count": 23,
   "id": "722b6c0a",
   "metadata": {},
   "outputs": [
    {
     "data": {
      "text/plain": [
       "Churn?\n",
       "False.    2836\n",
       "True.      482\n",
       "57           1\n",
       "Falsό        1\n",
       "8.49         1\n",
       "Name: count, dtype: int64"
      ]
     },
     "execution_count": 23,
     "metadata": {},
     "output_type": "execute_result"
    }
   ],
   "source": [
    "df[\"Churn?\"].value_counts()"
   ]
  },
  {
   "cell_type": "code",
   "execution_count": 24,
   "id": "daacc48a",
   "metadata": {},
   "outputs": [
    {
     "data": {
      "text/html": [
       "<div>\n",
       "<style scoped>\n",
       "    .dataframe tbody tr th:only-of-type {\n",
       "        vertical-align: middle;\n",
       "    }\n",
       "\n",
       "    .dataframe tbody tr th {\n",
       "        vertical-align: top;\n",
       "    }\n",
       "\n",
       "    .dataframe thead th {\n",
       "        text-align: right;\n",
       "    }\n",
       "</style>\n",
       "<table border=\"1\" class=\"dataframe\">\n",
       "  <thead>\n",
       "    <tr style=\"text-align: right;\">\n",
       "      <th></th>\n",
       "      <th>State</th>\n",
       "      <th>Account Length</th>\n",
       "      <th>Area Code</th>\n",
       "      <th>Phone</th>\n",
       "      <th>Int'l Plan</th>\n",
       "      <th>VMail Plan</th>\n",
       "      <th>VMail Message</th>\n",
       "      <th>Day Mins</th>\n",
       "      <th>Day Calls</th>\n",
       "      <th>Day Charge</th>\n",
       "      <th>...</th>\n",
       "      <th>Eve Calls</th>\n",
       "      <th>Eve Charge</th>\n",
       "      <th>Night Mins</th>\n",
       "      <th>Night Calls</th>\n",
       "      <th>Night Charge</th>\n",
       "      <th>Intl Mins</th>\n",
       "      <th>Intl Calls</th>\n",
       "      <th>Intl Charge</th>\n",
       "      <th>CustServ Calls</th>\n",
       "      <th>Churn?</th>\n",
       "    </tr>\n",
       "  </thead>\n",
       "  <tbody>\n",
       "    <tr>\n",
       "      <th>1608</th>\n",
       "      <td>OR</td>\n",
       "      <td>163.0</td>\n",
       "      <td>408.0</td>\n",
       "      <td>346-3445</td>\n",
       "      <td>no</td>\n",
       "      <td>yes</td>\n",
       "      <td>25.0</td>\n",
       "      <td>219.6</td>\n",
       "      <td>99.0</td>\n",
       "      <td>37.33</td>\n",
       "      <td>...</td>\n",
       "      <td>99.0</td>\n",
       "      <td>17.88</td>\n",
       "      <td>242.7</td>\n",
       "      <td>88.00</td>\n",
       "      <td>10.92</td>\n",
       "      <td>13.8</td>\n",
       "      <td>8.00</td>\n",
       "      <td>3.73</td>\n",
       "      <td>NaN</td>\n",
       "      <td>57</td>\n",
       "    </tr>\n",
       "    <tr>\n",
       "      <th>1609</th>\n",
       "      <td>RI</td>\n",
       "      <td>104.0</td>\n",
       "      <td>408.0</td>\n",
       "      <td>382-3966</td>\n",
       "      <td>yes</td>\n",
       "      <td>no</td>\n",
       "      <td>0.0</td>\n",
       "      <td>160.4</td>\n",
       "      <td>73.0</td>\n",
       "      <td>27.27</td>\n",
       "      <td>...</td>\n",
       "      <td>103.0</td>\n",
       "      <td>24.98</td>\n",
       "      <td>306.6</td>\n",
       "      <td>90.00</td>\n",
       "      <td>13.80</td>\n",
       "      <td>12.6</td>\n",
       "      <td>5.00</td>\n",
       "      <td>3.40</td>\n",
       "      <td>4.0</td>\n",
       "      <td>Falsό</td>\n",
       "    </tr>\n",
       "    <tr>\n",
       "      <th>1740</th>\n",
       "      <td>RI</td>\n",
       "      <td>134.0</td>\n",
       "      <td>415.0</td>\n",
       "      <td>413-1789</td>\n",
       "      <td>no</td>\n",
       "      <td>no</td>\n",
       "      <td>0.0</td>\n",
       "      <td>141.7</td>\n",
       "      <td>95.0</td>\n",
       "      <td>NaN</td>\n",
       "      <td>...</td>\n",
       "      <td>0.0</td>\n",
       "      <td>226.70</td>\n",
       "      <td>94.0</td>\n",
       "      <td>38.54</td>\n",
       "      <td>168.40</td>\n",
       "      <td>129.0</td>\n",
       "      <td>14.31</td>\n",
       "      <td>188.70</td>\n",
       "      <td>117.0</td>\n",
       "      <td>8.49</td>\n",
       "    </tr>\n",
       "  </tbody>\n",
       "</table>\n",
       "<p>3 rows × 21 columns</p>\n",
       "</div>"
      ],
      "text/plain": [
       "     State  Account Length  Area Code     Phone Int'l Plan VMail Plan  \\\n",
       "1608    OR           163.0      408.0  346-3445         no        yes   \n",
       "1609    RI           104.0      408.0  382-3966        yes         no   \n",
       "1740    RI           134.0      415.0  413-1789         no         no   \n",
       "\n",
       "      VMail Message  Day Mins  Day Calls  Day Charge  ...  Eve Calls  \\\n",
       "1608           25.0     219.6       99.0       37.33  ...       99.0   \n",
       "1609            0.0     160.4       73.0       27.27  ...      103.0   \n",
       "1740            0.0     141.7       95.0         NaN  ...        0.0   \n",
       "\n",
       "      Eve Charge  Night Mins  Night Calls  Night Charge  Intl Mins  \\\n",
       "1608       17.88       242.7        88.00         10.92       13.8   \n",
       "1609       24.98       306.6        90.00         13.80       12.6   \n",
       "1740      226.70        94.0        38.54        168.40      129.0   \n",
       "\n",
       "      Intl Calls  Intl Charge  CustServ Calls  Churn?  \n",
       "1608        8.00         3.73             NaN      57  \n",
       "1609        5.00         3.40             4.0   Falsό  \n",
       "1740       14.31       188.70           117.0    8.49  \n",
       "\n",
       "[3 rows x 21 columns]"
      ]
     },
     "execution_count": 24,
     "metadata": {},
     "output_type": "execute_result"
    }
   ],
   "source": [
    "df[(df[\"Churn?\"] == \"57\") | (df[\"Churn?\"] == \"8.49\") | (df[\"Churn?\"] == \"Falsό\")]"
   ]
  },
  {
   "cell_type": "code",
   "execution_count": 25,
   "id": "e9c1396e",
   "metadata": {},
   "outputs": [],
   "source": [
    "df.drop([1608,1609,1740],inplace = True)\n"
   ]
  },
  {
   "cell_type": "code",
   "execution_count": 26,
   "id": "1de9a97f",
   "metadata": {},
   "outputs": [
    {
     "data": {
      "text/plain": [
       "Churn?\n",
       "False.    2836\n",
       "True.      482\n",
       "Name: count, dtype: int64"
      ]
     },
     "execution_count": 26,
     "metadata": {},
     "output_type": "execute_result"
    }
   ],
   "source": [
    "df[\"Churn?\"].value_counts()"
   ]
  },
  {
   "cell_type": "code",
   "execution_count": 27,
   "id": "27af7dd2",
   "metadata": {},
   "outputs": [
    {
     "data": {
      "text/plain": [
       "State             0\n",
       "Account Length    0\n",
       "Area Code         0\n",
       "Phone             0\n",
       "Int'l Plan        0\n",
       "VMail Plan        0\n",
       "VMail Message     0\n",
       "Day Mins          1\n",
       "Day Calls         1\n",
       "Day Charge        1\n",
       "Eve Mins          1\n",
       "Eve Calls         2\n",
       "Eve Charge        1\n",
       "Night Mins        1\n",
       "Night Calls       1\n",
       "Night Charge      2\n",
       "Intl Mins         1\n",
       "Intl Calls        1\n",
       "Intl Charge       1\n",
       "CustServ Calls    2\n",
       "Churn?            2\n",
       "dtype: int64"
      ]
     },
     "execution_count": 27,
     "metadata": {},
     "output_type": "execute_result"
    }
   ],
   "source": [
    "df.isnull().sum()"
   ]
  },
  {
   "cell_type": "code",
   "execution_count": 28,
   "id": "3d7aea90",
   "metadata": {},
   "outputs": [],
   "source": [
    "df.dropna(inplace = True)"
   ]
  },
  {
   "cell_type": "markdown",
   "id": "b5e465df",
   "metadata": {},
   "source": [
    "# Finding relationship between the variables"
   ]
  },
  {
   "cell_type": "markdown",
   "id": "f0d17507",
   "metadata": {},
   "source": [
    "As you can see this is an unbalanced dataset "
   ]
  },
  {
   "cell_type": "code",
   "execution_count": 31,
   "id": "7cc44145",
   "metadata": {},
   "outputs": [
    {
     "data": {
      "text/plain": [
       "Churn?\n",
       "False.    2835\n",
       "True.      482\n",
       "Name: count, dtype: int64"
      ]
     },
     "execution_count": 31,
     "metadata": {},
     "output_type": "execute_result"
    }
   ],
   "source": [
    "df['Churn?'].value_counts()"
   ]
  },
  {
   "cell_type": "markdown",
   "id": "f1ba50df",
   "metadata": {},
   "source": [
    "to find predicting power of each variable we can use weight of evidence \n"
   ]
  },
  {
   "cell_type": "code",
   "execution_count": 33,
   "id": "5fbdfbd2",
   "metadata": {},
   "outputs": [
    {
     "name": "stderr",
     "output_type": "stream",
     "text": [
      "C:\\Users\\Het\\AppData\\Local\\Temp\\ipykernel_9720\\1173306041.py:2: FutureWarning: A value is trying to be set on a copy of a DataFrame or Series through chained assignment using an inplace method.\n",
      "The behavior will change in pandas 3.0. This inplace method will never work because the intermediate object on which we are setting values always behaves as a copy.\n",
      "\n",
      "For example, when doing 'df[col].method(value, inplace=True)', try using 'df.method({col: value}, inplace=True)' or df[col] = df[col].method(value) instead, to perform the operation inplace on the original object.\n",
      "\n",
      "\n",
      "  df[\"Churn?\"].replace('True.',1, inplace = True)\n",
      "C:\\Users\\Het\\AppData\\Local\\Temp\\ipykernel_9720\\1173306041.py:3: FutureWarning: A value is trying to be set on a copy of a DataFrame or Series through chained assignment using an inplace method.\n",
      "The behavior will change in pandas 3.0. This inplace method will never work because the intermediate object on which we are setting values always behaves as a copy.\n",
      "\n",
      "For example, when doing 'df[col].method(value, inplace=True)', try using 'df.method({col: value}, inplace=True)' or df[col] = df[col].method(value) instead, to perform the operation inplace on the original object.\n",
      "\n",
      "\n",
      "  df[\"Churn?\"].replace('False.',0, inplace = True)\n",
      "C:\\Users\\Het\\AppData\\Local\\Temp\\ipykernel_9720\\1173306041.py:3: FutureWarning: Downcasting behavior in `replace` is deprecated and will be removed in a future version. To retain the old behavior, explicitly call `result.infer_objects(copy=False)`. To opt-in to the future behavior, set `pd.set_option('future.no_silent_downcasting', True)`\n",
      "  df[\"Churn?\"].replace('False.',0, inplace = True)\n"
     ]
    }
   ],
   "source": [
    "import warnings\n",
    "df[\"Churn?\"].replace('True.',1, inplace = True)\n",
    "df[\"Churn?\"].replace('False.',0, inplace = True)\n",
    "warnings.filterwarnings('ignore')"
   ]
  },
  {
   "cell_type": "code",
   "execution_count": 34,
   "id": "fa8acb59",
   "metadata": {},
   "outputs": [],
   "source": [
    "import warnings\n",
    "warnings.filterwarnings('ignore')\n",
    "df[\"Int'l Plan\"].replace('no',0, inplace = True)\n",
    "df[\"Int'l Plan\"].replace('yes',1, inplace = True)\n",
    "df[\"VMail Plan\"].replace('yes',1, inplace = True)\n",
    "df[\"VMail Plan\"].replace('no',0, inplace = True)\n",
    "\n",
    "\n"
   ]
  },
  {
   "cell_type": "markdown",
   "id": "1ba30f20",
   "metadata": {},
   "source": []
  },
  {
   "cell_type": "code",
   "execution_count": 36,
   "id": "5b149b22-304a-4b17-96a9-0d3ec168ee1b",
   "metadata": {},
   "outputs": [
    {
     "name": "stdout",
     "output_type": "stream",
     "text": [
      "Chi-Square Test Statistic: 80.61227779548527\n",
      "P-value: 0.0039274488185565915\n"
     ]
    }
   ],
   "source": [
    "from scipy.stats import chi2_contingency\n",
    "# Creating a cross-tabulation table of churn vs state\n",
    "churn_state_ct = pd.crosstab(df['State'], df['Churn?'])\n",
    "\n",
    "# Performing the chi-square test\n",
    "chi2, p, dof, expected = chi2_contingency(churn_state_ct)\n",
    "\n",
    "print(f'Chi-Square Test Statistic: {chi2}')\n",
    "print(f'P-value: {p}')\n"
   ]
  },
  {
   "cell_type": "code",
   "execution_count": 37,
   "id": "397c75bf-3472-46f4-9a28-ef32a0de8dd9",
   "metadata": {},
   "outputs": [],
   "source": [
    "#There is a relationship between state and churn therefore we will use one hot encoding for state"
   ]
  },
  {
   "cell_type": "code",
   "execution_count": 38,
   "id": "c4f28131",
   "metadata": {},
   "outputs": [],
   "source": [
    "conti_columns = df.columns.drop([\"State\",'Phone',\"Churn?\",\"Day Charge\",\"Night Charge\", \"Intl Charge\"])"
   ]
  },
  {
   "cell_type": "code",
   "execution_count": 39,
   "id": "c6528fb3",
   "metadata": {},
   "outputs": [
    {
     "data": {
      "text/plain": [
       "Index(['Account Length', 'Area Code', 'Int'l Plan', 'VMail Plan',\n",
       "       'VMail Message', 'Day Mins', 'Day Calls', 'Eve Mins', 'Eve Calls',\n",
       "       'Eve Charge', 'Night Mins', 'Night Calls', 'Intl Mins', 'Intl Calls',\n",
       "       'CustServ Calls'],\n",
       "      dtype='object')"
      ]
     },
     "execution_count": 39,
     "metadata": {},
     "output_type": "execute_result"
    }
   ],
   "source": [
    "conti_columns"
   ]
  },
  {
   "cell_type": "code",
   "execution_count": 40,
   "id": "7bc32697",
   "metadata": {},
   "outputs": [],
   "source": [
    "#Whats left to do, Graph, weight of evidence, Modelling"
   ]
  },
  {
   "cell_type": "code",
   "execution_count": 41,
   "id": "cb277a2c",
   "metadata": {},
   "outputs": [],
   "source": [
    "df_conti = pd.DataFrame(df, columns = conti_columns)"
   ]
  },
  {
   "cell_type": "code",
   "execution_count": 42,
   "id": "a9dadc16",
   "metadata": {},
   "outputs": [
    {
     "data": {
      "text/plain": [
       "<Axes: >"
      ]
     },
     "execution_count": 42,
     "metadata": {},
     "output_type": "execute_result"
    },
    {
     "data": {
      "image/png": "[encoded data removed]",
      "text/plain": [
       "<Figure size 640x480 with 2 Axes>"
      ]
     },
     "metadata": {},
     "output_type": "display_data"
    }
   ],
   "source": [
    "df_conti.corr()\n",
    "import seaborn as sns\n",
    "sns.heatmap(df_conti.corr())"
   ]
  },
  {
   "cell_type": "markdown",
   "id": "674aa92e",
   "metadata": {},
   "source": [
    "Here we can see multicolineriaty, among some terms."
   ]
  },
  {
   "cell_type": "markdown",
   "id": "36b8efe5",
   "metadata": {},
   "source": [
    "Statistical analysis "
   ]
  },
  {
   "cell_type": "code",
   "execution_count": 45,
   "id": "f480d2b8",
   "metadata": {},
   "outputs": [],
   "source": [
    "churn_group = df[df[\"Churn?\"] == 1]\n",
    "non_churn_group = df[df[\"Churn?\"] == 0]"
   ]
  },
  {
   "cell_type": "code",
   "execution_count": 46,
   "id": "de0557e0",
   "metadata": {},
   "outputs": [
    {
     "ename": "NameError",
     "evalue": "name 'y_train' is not defined",
     "output_type": "error",
     "traceback": [
      "\u001b[1;31m---------------------------------------------------------------------------\u001b[0m",
      "\u001b[1;31mNameError\u001b[0m                                 Traceback (most recent call last)",
      "Cell \u001b[1;32mIn[46], line 2\u001b[0m\n\u001b[0;32m      1\u001b[0m \u001b[38;5;28;01mimport\u001b[39;00m \u001b[38;5;21;01mstatsmodels\u001b[39;00m\u001b[38;5;21;01m.\u001b[39;00m\u001b[38;5;21;01mapi\u001b[39;00m \u001b[38;5;28;01mas\u001b[39;00m \u001b[38;5;21;01msm\u001b[39;00m \n\u001b[1;32m----> 2\u001b[0m logit_backward \u001b[38;5;241m=\u001b[39m sm\u001b[38;5;241m.\u001b[39mLogit(y_train,X_train)\n\u001b[0;32m      3\u001b[0m result \u001b[38;5;241m=\u001b[39m logit_backward\u001b[38;5;241m.\u001b[39mfit()\n\u001b[0;32m      4\u001b[0m \u001b[38;5;28mprint\u001b[39m(result\u001b[38;5;241m.\u001b[39msummary())\n",
      "\u001b[1;31mNameError\u001b[0m: name 'y_train' is not defined"
     ]
    }
   ],
   "source": [
    "import statsmodels.api as sm \n",
    "logit_backward = sm.Logit(y_train,X_train)\n",
    "result = logit_backward.fit()\n",
    "print(result.summary())\n"
   ]
  },
  {
   "cell_type": "markdown",
   "id": "5b102401-038c-4ecb-98ad-26b81d063700",
   "metadata": {},
   "source": [
    "# Baseline Models"
   ]
  },
  {
   "cell_type": "code",
   "execution_count": 67,
   "id": "49e242b8-e663-4326-baea-a487a3cb5c70",
   "metadata": {},
   "outputs": [
    {
     "data": {
      "text/plain": [
       "Index(['State', 'Account Length', 'Area Code', 'Phone', 'Int'l Plan',\n",
       "       'VMail Plan', 'VMail Message', 'Day Mins', 'Day Calls', 'Day Charge',\n",
       "       'Eve Mins', 'Eve Calls', 'Eve Charge', 'Night Mins', 'Night Calls',\n",
       "       'Night Charge', 'Intl Mins', 'Intl Calls', 'Intl Charge',\n",
       "       'CustServ Calls', 'Churn?'],\n",
       "      dtype='object')"
      ]
     },
     "execution_count": 67,
     "metadata": {},
     "output_type": "execute_result"
    }
   ],
   "source": [
    "df.columns"
   ]
  },
  {
   "cell_type": "code",
   "execution_count": 69,
   "id": "1773b216-901e-4b99-aa08-aad2602f37cc",
   "metadata": {},
   "outputs": [],
   "source": [
    "baseline_feature_cols = df.columns.drop(['State','Phone',\"Churn?\"])"
   ]
  },
  {
   "cell_type": "code",
   "execution_count": 71,
   "id": "45649440",
   "metadata": {},
   "outputs": [],
   "source": [
    "df[\"Churn?\"] = pd.to_numeric(df[\"Churn?\"])\n",
    "X = df[baseline_feature_cols]\n",
    "y = df[\"Churn?\"]"
   ]
  },
  {
   "cell_type": "code",
   "execution_count": 73,
   "id": "20f7b0f0",
   "metadata": {},
   "outputs": [],
   "source": [
    "from sklearn.model_selection import train_test_split\n",
    "from sklearn import metrics\n",
    "X_train,X_test,y_train,y_test = train_test_split(X,y,test_size=0.3,random_state = 1)"
   ]
  },
  {
   "cell_type": "code",
   "execution_count": 75,
   "id": "2a492058",
   "metadata": {},
   "outputs": [],
   "source": [
    "X_train, X_test, y_train, y_test = train_test_split(X,y,test_size =0.3, random_state = 1)"
   ]
  },
  {
   "cell_type": "markdown",
   "id": "a3d00f9c",
   "metadata": {},
   "source": [
    "## Logistic Regression"
   ]
  },
  {
   "cell_type": "code",
   "execution_count": 78,
   "id": "43cb3b3e",
   "metadata": {},
   "outputs": [],
   "source": [
    "from sklearn.linear_model import LogisticRegression\n",
    "logreg = LogisticRegression()\n",
    "logreg.fit(X_train,y_train)\n",
    "y_pred = logreg.predict(X_test)"
   ]
  },
  {
   "cell_type": "code",
   "execution_count": 80,
   "id": "eebf4bc7",
   "metadata": {},
   "outputs": [
    {
     "data": {
      "text/plain": [
       "array([[840,  12],\n",
       "       [135,   9]], dtype=int64)"
      ]
     },
     "execution_count": 80,
     "metadata": {},
     "output_type": "execute_result"
    }
   ],
   "source": [
    "from sklearn import metrics\n",
    "cnf_matrix = metrics.confusion_matrix(y_test,y_pred)\n",
    "cnf_matrix\n"
   ]
  },
  {
   "cell_type": "code",
   "execution_count": 82,
   "id": "8e43127f",
   "metadata": {},
   "outputs": [
    {
     "data": {
      "text/plain": [
       "Text(0.5, 427.9555555555555, 'Predicted label')"
      ]
     },
     "execution_count": 82,
     "metadata": {},
     "output_type": "execute_result"
    },
    {
     "data": {
      "image/png": "[encoded data removed]",
      "text/plain": [
       "<Figure size 640x480 with 2 Axes>"
      ]
     },
     "metadata": {},
     "output_type": "display_data"
    }
   ],
   "source": [
    "# import required modules\n",
    "import matplotlib.pyplot as plt\n",
    "import seaborn as sns\n",
    "\n",
    "class_names=[0,1] # name  of classes\n",
    "fig, ax = plt.subplots()\n",
    "tick_marks = np.arange(len(class_names))\n",
    "plt.xticks(tick_marks, class_names)\n",
    "plt.yticks(tick_marks, class_names)\n",
    "# create heatmap\n",
    "sns.heatmap(pd.DataFrame(cnf_matrix), annot=True, cmap=\"YlGnBu\" ,fmt='g')\n",
    "ax.xaxis.set_label_position(\"top\")\n",
    "plt.tight_layout()\n",
    "plt.title('Confusion matrix', y=1.1)\n",
    "plt.ylabel('Actual label')\n",
    "plt.xlabel('Predicted label')\n",
    "\n"
   ]
  },
  {
   "cell_type": "code",
   "execution_count": 84,
   "id": "5b03a4a1",
   "metadata": {},
   "outputs": [
    {
     "name": "stdout",
     "output_type": "stream",
     "text": [
      "Accuracy- 0.8524096385542169\n",
      "Precision- 0.0625\n",
      "Recall- 0.42857142857142855\n"
     ]
    }
   ],
   "source": [
    "print(\"Accuracy-\",metrics.accuracy_score(y_pred,y_test))\n",
    "print(\"Precision-\",metrics.precision_score(y_pred,y_test))\n",
    "print(\"Recall-\",metrics.recall_score(y_pred,y_test))"
   ]
  },
  {
   "cell_type": "markdown",
   "id": "5c5edacd",
   "metadata": {},
   "source": [
    "## Decision Tree"
   ]
  },
  {
   "cell_type": "code",
   "execution_count": 87,
   "id": "877d818a",
   "metadata": {},
   "outputs": [],
   "source": [
    "from sklearn.tree import DecisionTreeClassifier\n",
    "\n",
    "clf = DecisionTreeClassifier()\n",
    "clf = clf.fit(X_train,y_train)\n",
    "y_pred = clf.predict(X_test)\n"
   ]
  },
  {
   "cell_type": "code",
   "execution_count": 89,
   "id": "bd1728ed",
   "metadata": {},
   "outputs": [
    {
     "name": "stdout",
     "output_type": "stream",
     "text": [
      "Accuracy- 0.9176706827309237\n",
      "Precision- 0.7222222222222222\n",
      "Recall- 0.7123287671232876\n"
     ]
    }
   ],
   "source": [
    "print(\"Accuracy-\",metrics.accuracy_score(y_pred,y_test))\n",
    "print(\"Precision-\",metrics.precision_score(y_pred,y_test))\n",
    "print(\"Recall-\",metrics.recall_score(y_pred,y_test))"
   ]
  },
  {
   "cell_type": "markdown",
   "id": "b54f9bc6",
   "metadata": {},
   "source": [
    "## Random Forest"
   ]
  },
  {
   "cell_type": "code",
   "execution_count": 92,
   "id": "983379b3",
   "metadata": {},
   "outputs": [],
   "source": [
    "from sklearn.ensemble import RandomForestClassifier"
   ]
  },
  {
   "cell_type": "code",
   "execution_count": 94,
   "id": "ea0fbd4c",
   "metadata": {},
   "outputs": [
    {
     "data": {
      "text/html": [
       "<style>#sk-container-id-1 {\n",
       "  /* Definition of color scheme common for light and dark mode */\n",
       "  --sklearn-color-text: black;\n",
       "  --sklearn-color-line: gray;\n",
       "  /* Definition of color scheme for unfitted estimators */\n",
       "  --sklearn-color-unfitted-level-0: #fff5e6;\n",
       "  --sklearn-color-unfitted-level-1: #f6e4d2;\n",
       "  --sklearn-color-unfitted-level-2: #ffe0b3;\n",
       "  --sklearn-color-unfitted-level-3: chocolate;\n",
       "  /* Definition of color scheme for fitted estimators */\n",
       "  --sklearn-color-fitted-level-0: #f0f8ff;\n",
       "  --sklearn-color-fitted-level-1: #d4ebff;\n",
       "  --sklearn-color-fitted-level-2: #b3dbfd;\n",
       "  --sklearn-color-fitted-level-3: cornflowerblue;\n",
       "\n",
       "  /* Specific color for light theme */\n",
       "  --sklearn-color-text-on-default-background: var(--sg-text-color, var(--theme-code-foreground, var(--jp-content-font-color1, black)));\n",
       "  --sklearn-color-background: var(--sg-background-color, var(--theme-background, var(--jp-layout-color0, white)));\n",
       "  --sklearn-color-border-box: var(--sg-text-color, var(--theme-code-foreground, var(--jp-content-font-color1, black)));\n",
       "  --sklearn-color-icon: #696969;\n",
       "\n",
       "  @media (prefers-color-scheme: dark) {\n",
       "    /* Redefinition of color scheme for dark theme */\n",
       "    --sklearn-color-text-on-default-background: var(--sg-text-color, var(--theme-code-foreground, var(--jp-content-font-color1, white)));\n",
       "    --sklearn-color-background: var(--sg-background-color, var(--theme-background, var(--jp-layout-color0, #111)));\n",
       "    --sklearn-color-border-box: var(--sg-text-color, var(--theme-code-foreground, var(--jp-content-font-color1, white)));\n",
       "    --sklearn-color-icon: #878787;\n",
       "  }\n",
       "}\n",
       "\n",
       "#sk-container-id-1 {\n",
       "  color: var(--sklearn-color-text);\n",
       "}\n",
       "\n",
       "#sk-container-id-1 pre {\n",
       "  padding: 0;\n",
       "}\n",
       "\n",
       "#sk-container-id-1 input.sk-hidden--visually {\n",
       "  border: 0;\n",
       "  clip: rect(1px 1px 1px 1px);\n",
       "  clip: rect(1px, 1px, 1px, 1px);\n",
       "  height: 1px;\n",
       "  margin: -1px;\n",
       "  overflow: hidden;\n",
       "  padding: 0;\n",
       "  position: absolute;\n",
       "  width: 1px;\n",
       "}\n",
       "\n",
       "#sk-container-id-1 div.sk-dashed-wrapped {\n",
       "  border: 1px dashed var(--sklearn-color-line);\n",
       "  margin: 0 0.4em 0.5em 0.4em;\n",
       "  box-sizing: border-box;\n",
       "  padding-bottom: 0.4em;\n",
       "  background-color: var(--sklearn-color-background);\n",
       "}\n",
       "\n",
       "#sk-container-id-1 div.sk-container {\n",
       "  /* jupyter's `normalize.less` sets `[hidden] { display: none; }`\n",
       "     but bootstrap.min.css set `[hidden] { display: none !important; }`\n",
       "     so we also need the `!important` here to be able to override the\n",
       "     default hidden behavior on the sphinx rendered scikit-learn.org.\n",
       "     See: https://github.com/scikit-learn/scikit-learn/issues/21755 */\n",
       "  display: inline-block !important;\n",
       "  position: relative;\n",
       "}\n",
       "\n",
       "#sk-container-id-1 div.sk-text-repr-fallback {\n",
       "  display: none;\n",
       "}\n",
       "\n",
       "div.sk-parallel-item,\n",
       "div.sk-serial,\n",
       "div.sk-item {\n",
       "  /* draw centered vertical line to link estimators */\n",
       "  background-image: linear-gradient(var(--sklearn-color-text-on-default-background), var(--sklearn-color-text-on-default-background));\n",
       "  background-size: 2px 100%;\n",
       "  background-repeat: no-repeat;\n",
       "  background-position: center center;\n",
       "}\n",
       "\n",
       "/* Parallel-specific style estimator block */\n",
       "\n",
       "#sk-container-id-1 div.sk-parallel-item::after {\n",
       "  content: \"\";\n",
       "  width: 100%;\n",
       "  border-bottom: 2px solid var(--sklearn-color-text-on-default-background);\n",
       "  flex-grow: 1;\n",
       "}\n",
       "\n",
       "#sk-container-id-1 div.sk-parallel {\n",
       "  display: flex;\n",
       "  align-items: stretch;\n",
       "  justify-content: center;\n",
       "  background-color: var(--sklearn-color-background);\n",
       "  position: relative;\n",
       "}\n",
       "\n",
       "#sk-container-id-1 div.sk-parallel-item {\n",
       "  display: flex;\n",
       "  flex-direction: column;\n",
       "}\n",
       "\n",
       "#sk-container-id-1 div.sk-parallel-item:first-child::after {\n",
       "  align-self: flex-end;\n",
       "  width: 50%;\n",
       "}\n",
       "\n",
       "#sk-container-id-1 div.sk-parallel-item:last-child::after {\n",
       "  align-self: flex-start;\n",
       "  width: 50%;\n",
       "}\n",
       "\n",
       "#sk-container-id-1 div.sk-parallel-item:only-child::after {\n",
       "  width: 0;\n",
       "}\n",
       "\n",
       "/* Serial-specific style estimator block */\n",
       "\n",
       "#sk-container-id-1 div.sk-serial {\n",
       "  display: flex;\n",
       "  flex-direction: column;\n",
       "  align-items: center;\n",
       "  background-color: var(--sklearn-color-background);\n",
       "  padding-right: 1em;\n",
       "  padding-left: 1em;\n",
       "}\n",
       "\n",
       "\n",
       "/* Toggleable style: style used for estimator/Pipeline/ColumnTransformer box that is\n",
       "clickable and can be expanded/collapsed.\n",
       "- Pipeline and ColumnTransformer use this feature and define the default style\n",
       "- Estimators will overwrite some part of the style using the `sk-estimator` class\n",
       "*/\n",
       "\n",
       "/* Pipeline and ColumnTransformer style (default) */\n",
       "\n",
       "#sk-container-id-1 div.sk-toggleable {\n",
       "  /* Default theme specific background. It is overwritten whether we have a\n",
       "  specific estimator or a Pipeline/ColumnTransformer */\n",
       "  background-color: var(--sklearn-color-background);\n",
       "}\n",
       "\n",
       "/* Toggleable label */\n",
       "#sk-container-id-1 label.sk-toggleable__label {\n",
       "  cursor: pointer;\n",
       "  display: block;\n",
       "  width: 100%;\n",
       "  margin-bottom: 0;\n",
       "  padding: 0.5em;\n",
       "  box-sizing: border-box;\n",
       "  text-align: center;\n",
       "}\n",
       "\n",
       "#sk-container-id-1 label.sk-toggleable__label-arrow:before {\n",
       "  /* Arrow on the left of the label */\n",
       "  content: \"▸\";\n",
       "  float: left;\n",
       "  margin-right: 0.25em;\n",
       "  color: var(--sklearn-color-icon);\n",
       "}\n",
       "\n",
       "#sk-container-id-1 label.sk-toggleable__label-arrow:hover:before {\n",
       "  color: var(--sklearn-color-text);\n",
       "}\n",
       "\n",
       "/* Toggleable content - dropdown */\n",
       "\n",
       "#sk-container-id-1 div.sk-toggleable__content {\n",
       "  max-height: 0;\n",
       "  max-width: 0;\n",
       "  overflow: hidden;\n",
       "  text-align: left;\n",
       "  /* unfitted */\n",
       "  background-color: var(--sklearn-color-unfitted-level-0);\n",
       "}\n",
       "\n",
       "#sk-container-id-1 div.sk-toggleable__content.fitted {\n",
       "  /* fitted */\n",
       "  background-color: var(--sklearn-color-fitted-level-0);\n",
       "}\n",
       "\n",
       "#sk-container-id-1 div.sk-toggleable__content pre {\n",
       "  margin: 0.2em;\n",
       "  border-radius: 0.25em;\n",
       "  color: var(--sklearn-color-text);\n",
       "  /* unfitted */\n",
       "  background-color: var(--sklearn-color-unfitted-level-0);\n",
       "}\n",
       "\n",
       "#sk-container-id-1 div.sk-toggleable__content.fitted pre {\n",
       "  /* unfitted */\n",
       "  background-color: var(--sklearn-color-fitted-level-0);\n",
       "}\n",
       "\n",
       "#sk-container-id-1 input.sk-toggleable__control:checked~div.sk-toggleable__content {\n",
       "  /* Expand drop-down */\n",
       "  max-height: 200px;\n",
       "  max-width: 100%;\n",
       "  overflow: auto;\n",
       "}\n",
       "\n",
       "#sk-container-id-1 input.sk-toggleable__control:checked~label.sk-toggleable__label-arrow:before {\n",
       "  content: \"▾\";\n",
       "}\n",
       "\n",
       "/* Pipeline/ColumnTransformer-specific style */\n",
       "\n",
       "#sk-container-id-1 div.sk-label input.sk-toggleable__control:checked~label.sk-toggleable__label {\n",
       "  color: var(--sklearn-color-text);\n",
       "  background-color: var(--sklearn-color-unfitted-level-2);\n",
       "}\n",
       "\n",
       "#sk-container-id-1 div.sk-label.fitted input.sk-toggleable__control:checked~label.sk-toggleable__label {\n",
       "  background-color: var(--sklearn-color-fitted-level-2);\n",
       "}\n",
       "\n",
       "/* Estimator-specific style */\n",
       "\n",
       "/* Colorize estimator box */\n",
       "#sk-container-id-1 div.sk-estimator input.sk-toggleable__control:checked~label.sk-toggleable__label {\n",
       "  /* unfitted */\n",
       "  background-color: var(--sklearn-color-unfitted-level-2);\n",
       "}\n",
       "\n",
       "#sk-container-id-1 div.sk-estimator.fitted input.sk-toggleable__control:checked~label.sk-toggleable__label {\n",
       "  /* fitted */\n",
       "  background-color: var(--sklearn-color-fitted-level-2);\n",
       "}\n",
       "\n",
       "#sk-container-id-1 div.sk-label label.sk-toggleable__label,\n",
       "#sk-container-id-1 div.sk-label label {\n",
       "  /* The background is the default theme color */\n",
       "  color: var(--sklearn-color-text-on-default-background);\n",
       "}\n",
       "\n",
       "/* On hover, darken the color of the background */\n",
       "#sk-container-id-1 div.sk-label:hover label.sk-toggleable__label {\n",
       "  color: var(--sklearn-color-text);\n",
       "  background-color: var(--sklearn-color-unfitted-level-2);\n",
       "}\n",
       "\n",
       "/* Label box, darken color on hover, fitted */\n",
       "#sk-container-id-1 div.sk-label.fitted:hover label.sk-toggleable__label.fitted {\n",
       "  color: var(--sklearn-color-text);\n",
       "  background-color: var(--sklearn-color-fitted-level-2);\n",
       "}\n",
       "\n",
       "/* Estimator label */\n",
       "\n",
       "#sk-container-id-1 div.sk-label label {\n",
       "  font-family: monospace;\n",
       "  font-weight: bold;\n",
       "  display: inline-block;\n",
       "  line-height: 1.2em;\n",
       "}\n",
       "\n",
       "#sk-container-id-1 div.sk-label-container {\n",
       "  text-align: center;\n",
       "}\n",
       "\n",
       "/* Estimator-specific */\n",
       "#sk-container-id-1 div.sk-estimator {\n",
       "  font-family: monospace;\n",
       "  border: 1px dotted var(--sklearn-color-border-box);\n",
       "  border-radius: 0.25em;\n",
       "  box-sizing: border-box;\n",
       "  margin-bottom: 0.5em;\n",
       "  /* unfitted */\n",
       "  background-color: var(--sklearn-color-unfitted-level-0);\n",
       "}\n",
       "\n",
       "#sk-container-id-1 div.sk-estimator.fitted {\n",
       "  /* fitted */\n",
       "  background-color: var(--sklearn-color-fitted-level-0);\n",
       "}\n",
       "\n",
       "/* on hover */\n",
       "#sk-container-id-1 div.sk-estimator:hover {\n",
       "  /* unfitted */\n",
       "  background-color: var(--sklearn-color-unfitted-level-2);\n",
       "}\n",
       "\n",
       "#sk-container-id-1 div.sk-estimator.fitted:hover {\n",
       "  /* fitted */\n",
       "  background-color: var(--sklearn-color-fitted-level-2);\n",
       "}\n",
       "\n",
       "/* Specification for estimator info (e.g. \"i\" and \"?\") */\n",
       "\n",
       "/* Common style for \"i\" and \"?\" */\n",
       "\n",
       ".sk-estimator-doc-link,\n",
       "a:link.sk-estimator-doc-link,\n",
       "a:visited.sk-estimator-doc-link {\n",
       "  float: right;\n",
       "  font-size: smaller;\n",
       "  line-height: 1em;\n",
       "  font-family: monospace;\n",
       "  background-color: var(--sklearn-color-background);\n",
       "  border-radius: 1em;\n",
       "  height: 1em;\n",
       "  width: 1em;\n",
       "  text-decoration: none !important;\n",
       "  margin-left: 1ex;\n",
       "  /* unfitted */\n",
       "  border: var(--sklearn-color-unfitted-level-1) 1pt solid;\n",
       "  color: var(--sklearn-color-unfitted-level-1);\n",
       "}\n",
       "\n",
       ".sk-estimator-doc-link.fitted,\n",
       "a:link.sk-estimator-doc-link.fitted,\n",
       "a:visited.sk-estimator-doc-link.fitted {\n",
       "  /* fitted */\n",
       "  border: var(--sklearn-color-fitted-level-1) 1pt solid;\n",
       "  color: var(--sklearn-color-fitted-level-1);\n",
       "}\n",
       "\n",
       "/* On hover */\n",
       "div.sk-estimator:hover .sk-estimator-doc-link:hover,\n",
       ".sk-estimator-doc-link:hover,\n",
       "div.sk-label-container:hover .sk-estimator-doc-link:hover,\n",
       ".sk-estimator-doc-link:hover {\n",
       "  /* unfitted */\n",
       "  background-color: var(--sklearn-color-unfitted-level-3);\n",
       "  color: var(--sklearn-color-background);\n",
       "  text-decoration: none;\n",
       "}\n",
       "\n",
       "div.sk-estimator.fitted:hover .sk-estimator-doc-link.fitted:hover,\n",
       ".sk-estimator-doc-link.fitted:hover,\n",
       "div.sk-label-container:hover .sk-estimator-doc-link.fitted:hover,\n",
       ".sk-estimator-doc-link.fitted:hover {\n",
       "  /* fitted */\n",
       "  background-color: var(--sklearn-color-fitted-level-3);\n",
       "  color: var(--sklearn-color-background);\n",
       "  text-decoration: none;\n",
       "}\n",
       "\n",
       "/* Span, style for the box shown on hovering the info icon */\n",
       ".sk-estimator-doc-link span {\n",
       "  display: none;\n",
       "  z-index: 9999;\n",
       "  position: relative;\n",
       "  font-weight: normal;\n",
       "  right: .2ex;\n",
       "  padding: .5ex;\n",
       "  margin: .5ex;\n",
       "  width: min-content;\n",
       "  min-width: 20ex;\n",
       "  max-width: 50ex;\n",
       "  color: var(--sklearn-color-text);\n",
       "  box-shadow: 2pt 2pt 4pt #999;\n",
       "  /* unfitted */\n",
       "  background: var(--sklearn-color-unfitted-level-0);\n",
       "  border: .5pt solid var(--sklearn-color-unfitted-level-3);\n",
       "}\n",
       "\n",
       ".sk-estimator-doc-link.fitted span {\n",
       "  /* fitted */\n",
       "  background: var(--sklearn-color-fitted-level-0);\n",
       "  border: var(--sklearn-color-fitted-level-3);\n",
       "}\n",
       "\n",
       ".sk-estimator-doc-link:hover span {\n",
       "  display: block;\n",
       "}\n",
       "\n",
       "/* \"?\"-specific style due to the `<a>` HTML tag */\n",
       "\n",
       "#sk-container-id-1 a.estimator_doc_link {\n",
       "  float: right;\n",
       "  font-size: 1rem;\n",
       "  line-height: 1em;\n",
       "  font-family: monospace;\n",
       "  background-color: var(--sklearn-color-background);\n",
       "  border-radius: 1rem;\n",
       "  height: 1rem;\n",
       "  width: 1rem;\n",
       "  text-decoration: none;\n",
       "  /* unfitted */\n",
       "  color: var(--sklearn-color-unfitted-level-1);\n",
       "  border: var(--sklearn-color-unfitted-level-1) 1pt solid;\n",
       "}\n",
       "\n",
       "#sk-container-id-1 a.estimator_doc_link.fitted {\n",
       "  /* fitted */\n",
       "  border: var(--sklearn-color-fitted-level-1) 1pt solid;\n",
       "  color: var(--sklearn-color-fitted-level-1);\n",
       "}\n",
       "\n",
       "/* On hover */\n",
       "#sk-container-id-1 a.estimator_doc_link:hover {\n",
       "  /* unfitted */\n",
       "  background-color: var(--sklearn-color-unfitted-level-3);\n",
       "  color: var(--sklearn-color-background);\n",
       "  text-decoration: none;\n",
       "}\n",
       "\n",
       "#sk-container-id-1 a.estimator_doc_link.fitted:hover {\n",
       "  /* fitted */\n",
       "  background-color: var(--sklearn-color-fitted-level-3);\n",
       "}\n",
       "</style><div id=\"sk-container-id-1\" class=\"sk-top-container\"><div class=\"sk-text-repr-fallback\"><pre>RandomForestClassifier()</pre><b>In a Jupyter environment, please rerun this cell to show the HTML representation or trust the notebook. <br />On GitHub, the HTML representation is unable to render, please try loading this page with nbviewer.org.</b></div><div class=\"sk-container\" hidden><div class=\"sk-item\"><div class=\"sk-estimator fitted sk-toggleable\"><input class=\"sk-toggleable__control sk-hidden--visually\" id=\"sk-estimator-id-1\" type=\"checkbox\" checked><label for=\"sk-estimator-id-1\" class=\"sk-toggleable__label fitted sk-toggleable__label-arrow fitted\">&nbsp;&nbsp;RandomForestClassifier<a class=\"sk-estimator-doc-link fitted\" rel=\"noreferrer\" target=\"_blank\" href=\"https://scikit-learn.org/1.4/modules/generated/sklearn.ensemble.RandomForestClassifier.html\">?<span>Documentation for RandomForestClassifier</span></a><span class=\"sk-estimator-doc-link fitted\">i<span>Fitted</span></span></label><div class=\"sk-toggleable__content fitted\"><pre>RandomForestClassifier()</pre></div> </div></div></div></div>"
      ],
      "text/plain": [
       "RandomForestClassifier()"
      ]
     },
     "execution_count": 94,
     "metadata": {},
     "output_type": "execute_result"
    }
   ],
   "source": [
    "rf = RandomForestClassifier()\n",
    "rf.fit(X_train, y_train)"
   ]
  },
  {
   "cell_type": "code",
   "execution_count": 95,
   "id": "a7d54344",
   "metadata": {},
   "outputs": [],
   "source": [
    "y_pred = rf.predict(X_test)"
   ]
  },
  {
   "cell_type": "code",
   "execution_count": 96,
   "id": "eeb00eda",
   "metadata": {},
   "outputs": [
    {
     "name": "stdout",
     "output_type": "stream",
     "text": [
      "Accuracy- 0.9558232931726908\n",
      "Precision- 0.7430555555555556\n",
      "Recall- 0.9385964912280702\n"
     ]
    }
   ],
   "source": [
    "print(\"Accuracy-\",metrics.accuracy_score(y_pred,y_test))\n",
    "print(\"Precision-\",metrics.precision_score(y_pred,y_test))\n",
    "print(\"Recall-\",metrics.recall_score(y_pred,y_test))"
   ]
  },
  {
   "cell_type": "code",
   "execution_count": 100,
   "id": "8d506e55",
   "metadata": {},
   "outputs": [
    {
     "data": {
      "text/plain": [
       "array([[845,  37],\n",
       "       [  7, 107]], dtype=int64)"
      ]
     },
     "execution_count": 100,
     "metadata": {},
     "output_type": "execute_result"
    }
   ],
   "source": [
    "cnf_matrix = metrics.confusion_matrix(y_pred,y_test)\n",
    "cnf_matrix"
   ]
  },
  {
   "cell_type": "markdown",
   "id": "acedff90",
   "metadata": {},
   "source": [
    "#I want to make new features such as Day Mins per call, NIght Mins per call , Int'l mins per call"
   ]
  },
  {
   "cell_type": "markdown",
   "id": "539e06cd-1f73-4fa8-8454-48b63b0b7ae7",
   "metadata": {},
   "source": [
    "# Processing "
   ]
  },
  {
   "cell_type": "markdown",
   "id": "586c0962-6e80-4029-802a-29c39be48ef3",
   "metadata": {},
   "source": [
    "As charge is derieved from mins(ex. day mins * rate = day_charge), we should remove charges column"
   ]
  },
  {
   "cell_type": "code",
   "execution_count": 149,
   "id": "a420e161-9c9d-44f1-a6c4-fe1cb25db870",
   "metadata": {},
   "outputs": [
    {
     "data": {
      "text/plain": [
       "Index(['State', 'Account Length', 'Area Code', 'Phone', 'Int'l Plan',\n",
       "       'VMail Plan', 'VMail Message', 'Day Mins', 'Day Calls', 'Day Charge',\n",
       "       'Eve Mins', 'Eve Calls', 'Eve Charge', 'Night Mins', 'Night Calls',\n",
       "       'Night Charge', 'Intl Mins', 'Intl Calls', 'Intl Charge',\n",
       "       'CustServ Calls', 'Churn?'],\n",
       "      dtype='object')"
      ]
     },
     "execution_count": 149,
     "metadata": {},
     "output_type": "execute_result"
    }
   ],
   "source": [
    "df.columns"
   ]
  },
  {
   "cell_type": "code",
   "execution_count": 151,
   "id": "0cf55aa4-8aa0-4198-b71b-53012e018763",
   "metadata": {},
   "outputs": [],
   "source": [
    "df_improved = df.drop([\"Day Charge\",\"Eve Charge\",\"Night Charge\",\"Intl Charge\"],axis = 1)"
   ]
  },
  {
   "cell_type": "code",
   "execution_count": 153,
   "id": "fa8d5815-616b-49b6-921e-80b8e347ac25",
   "metadata": {},
   "outputs": [
    {
     "data": {
      "text/html": [
       "<div>\n",
       "<style scoped>\n",
       "    .dataframe tbody tr th:only-of-type {\n",
       "        vertical-align: middle;\n",
       "    }\n",
       "\n",
       "    .dataframe tbody tr th {\n",
       "        vertical-align: top;\n",
       "    }\n",
       "\n",
       "    .dataframe thead th {\n",
       "        text-align: right;\n",
       "    }\n",
       "</style>\n",
       "<table border=\"1\" class=\"dataframe\">\n",
       "  <thead>\n",
       "    <tr style=\"text-align: right;\">\n",
       "      <th></th>\n",
       "      <th>State</th>\n",
       "      <th>Account Length</th>\n",
       "      <th>Area Code</th>\n",
       "      <th>Phone</th>\n",
       "      <th>Int'l Plan</th>\n",
       "      <th>VMail Plan</th>\n",
       "      <th>VMail Message</th>\n",
       "      <th>Day Mins</th>\n",
       "      <th>Day Calls</th>\n",
       "      <th>Eve Mins</th>\n",
       "      <th>Eve Calls</th>\n",
       "      <th>Night Mins</th>\n",
       "      <th>Night Calls</th>\n",
       "      <th>Intl Mins</th>\n",
       "      <th>Intl Calls</th>\n",
       "      <th>CustServ Calls</th>\n",
       "      <th>Churn?</th>\n",
       "    </tr>\n",
       "  </thead>\n",
       "  <tbody>\n",
       "    <tr>\n",
       "      <th>0</th>\n",
       "      <td>KS</td>\n",
       "      <td>128.00</td>\n",
       "      <td>415.00</td>\n",
       "      <td>382-4657</td>\n",
       "      <td>0</td>\n",
       "      <td>1</td>\n",
       "      <td>25.00</td>\n",
       "      <td>265.10</td>\n",
       "      <td>110.00</td>\n",
       "      <td>197.40</td>\n",
       "      <td>99.00</td>\n",
       "      <td>244.70</td>\n",
       "      <td>91.00</td>\n",
       "      <td>10.00</td>\n",
       "      <td>3.00</td>\n",
       "      <td>1.00</td>\n",
       "      <td>0</td>\n",
       "    </tr>\n",
       "    <tr>\n",
       "      <th>1</th>\n",
       "      <td>OH</td>\n",
       "      <td>107.00</td>\n",
       "      <td>415.00</td>\n",
       "      <td>371-7191</td>\n",
       "      <td>0</td>\n",
       "      <td>1</td>\n",
       "      <td>26.00</td>\n",
       "      <td>161.60</td>\n",
       "      <td>123.00</td>\n",
       "      <td>195.50</td>\n",
       "      <td>103.00</td>\n",
       "      <td>254.40</td>\n",
       "      <td>103.00</td>\n",
       "      <td>13.70</td>\n",
       "      <td>3.00</td>\n",
       "      <td>1.00</td>\n",
       "      <td>0</td>\n",
       "    </tr>\n",
       "    <tr>\n",
       "      <th>2</th>\n",
       "      <td>NJ</td>\n",
       "      <td>137.00</td>\n",
       "      <td>415.00</td>\n",
       "      <td>358-1921</td>\n",
       "      <td>0</td>\n",
       "      <td>0</td>\n",
       "      <td>0.00</td>\n",
       "      <td>243.40</td>\n",
       "      <td>114.00</td>\n",
       "      <td>121.20</td>\n",
       "      <td>110.00</td>\n",
       "      <td>162.60</td>\n",
       "      <td>104.00</td>\n",
       "      <td>12.20</td>\n",
       "      <td>5.00</td>\n",
       "      <td>0.00</td>\n",
       "      <td>0</td>\n",
       "    </tr>\n",
       "    <tr>\n",
       "      <th>3</th>\n",
       "      <td>OH</td>\n",
       "      <td>84.00</td>\n",
       "      <td>408.00</td>\n",
       "      <td>375-9999</td>\n",
       "      <td>1</td>\n",
       "      <td>0</td>\n",
       "      <td>0.00</td>\n",
       "      <td>299.40</td>\n",
       "      <td>71.00</td>\n",
       "      <td>61.90</td>\n",
       "      <td>88.00</td>\n",
       "      <td>196.90</td>\n",
       "      <td>89.00</td>\n",
       "      <td>6.60</td>\n",
       "      <td>7.00</td>\n",
       "      <td>2.00</td>\n",
       "      <td>0</td>\n",
       "    </tr>\n",
       "    <tr>\n",
       "      <th>4</th>\n",
       "      <td>OK</td>\n",
       "      <td>75.00</td>\n",
       "      <td>415.00</td>\n",
       "      <td>330-6626</td>\n",
       "      <td>1</td>\n",
       "      <td>0</td>\n",
       "      <td>0.00</td>\n",
       "      <td>166.70</td>\n",
       "      <td>113.00</td>\n",
       "      <td>148.30</td>\n",
       "      <td>122.00</td>\n",
       "      <td>186.90</td>\n",
       "      <td>121.00</td>\n",
       "      <td>10.10</td>\n",
       "      <td>3.00</td>\n",
       "      <td>3.00</td>\n",
       "      <td>0</td>\n",
       "    </tr>\n",
       "  </tbody>\n",
       "</table>\n",
       "</div>"
      ],
      "text/plain": [
       "  State  Account Length  Area Code     Phone  Int'l Plan  VMail Plan  \\\n",
       "0    KS          128.00     415.00  382-4657           0           1   \n",
       "1    OH          107.00     415.00  371-7191           0           1   \n",
       "2    NJ          137.00     415.00  358-1921           0           0   \n",
       "3    OH           84.00     408.00  375-9999           1           0   \n",
       "4    OK           75.00     415.00  330-6626           1           0   \n",
       "\n",
       "   VMail Message  Day Mins  Day Calls  Eve Mins  Eve Calls  Night Mins  \\\n",
       "0          25.00    265.10     110.00    197.40      99.00      244.70   \n",
       "1          26.00    161.60     123.00    195.50     103.00      254.40   \n",
       "2           0.00    243.40     114.00    121.20     110.00      162.60   \n",
       "3           0.00    299.40      71.00     61.90      88.00      196.90   \n",
       "4           0.00    166.70     113.00    148.30     122.00      186.90   \n",
       "\n",
       "   Night Calls  Intl Mins  Intl Calls  CustServ Calls  Churn?  \n",
       "0        91.00      10.00        3.00            1.00       0  \n",
       "1       103.00      13.70        3.00            1.00       0  \n",
       "2       104.00      12.20        5.00            0.00       0  \n",
       "3        89.00       6.60        7.00            2.00       0  \n",
       "4       121.00      10.10        3.00            3.00       0  "
      ]
     },
     "execution_count": 153,
     "metadata": {},
     "output_type": "execute_result"
    }
   ],
   "source": [
    "df_improved.head(5)"
   ]
  },
  {
   "cell_type": "code",
   "execution_count": 155,
   "id": "88c0df91-5dee-40df-8645-415d6cfb7446",
   "metadata": {},
   "outputs": [
    {
     "name": "stdout",
     "output_type": "stream",
     "text": [
      "           feature   VIF\n",
      "0   Account Length  7.19\n",
      "1         Day Mins 11.16\n",
      "2        Day Calls 21.74\n",
      "3         Eve Mins 14.69\n",
      "4        Eve Calls 21.93\n",
      "5       Night Mins 15.03\n",
      "6      Night Calls 22.29\n",
      "7        Intl Mins 13.19\n",
      "8       Intl Calls  4.25\n",
      "9   CustServ Calls  2.38\n",
      "10      Int'l Plan  1.12\n",
      "11      VMail Plan 16.39\n",
      "12   VMail Message 16.01\n"
     ]
    }
   ],
   "source": [
    "#We can see that the understand columns are highly correlated, so we will calculate VIF\n",
    "from statsmodels.stats.outliers_influence import variance_inflation_factor\n",
    "pd.set_option('display.float_format', '{:.2f}'.format)\n",
    "\n",
    "X = df_improved[[\"Account Length\",\"Day Mins\", 'Day Calls', 'Eve Mins','Eve Calls','Night Mins','Night Calls','Intl Mins', 'Intl Calls',\n",
    "       'CustServ Calls',\"Int'l Plan\",'VMail Plan','VMail Message']]  \n",
    "vif_data = pd.DataFrame()\n",
    "vif_data['feature'] = X.columns\n",
    "vif_data['VIF'] = [variance_inflation_factor(X.values, i) for i in range(X.shape[1])]\n",
    "print(vif_data)\n"
   ]
  },
  {
   "cell_type": "markdown",
   "id": "0bdfaff6-f1c9-421f-86c8-b91c036bb294",
   "metadata": {},
   "source": [
    "As we see that the day mins and day calls are highly correlated columns and similarly, night, eve, and Intl we have to only keep one column. We have to check IV of each and then we can decide what to drop "
   ]
  },
  {
   "cell_type": "code",
   "execution_count": 158,
   "id": "76875242-ba0a-4545-bef3-92c692df0345",
   "metadata": {},
   "outputs": [
    {
     "data": {
      "text/plain": [
       "Index(['State', 'Account Length', 'Area Code', 'Phone', 'Int'l Plan',\n",
       "       'VMail Plan', 'VMail Message', 'Day Mins', 'Day Calls', 'Eve Mins',\n",
       "       'Eve Calls', 'Night Mins', 'Night Calls', 'Intl Mins', 'Intl Calls',\n",
       "       'CustServ Calls', 'Churn?'],\n",
       "      dtype='object')"
      ]
     },
     "execution_count": 158,
     "metadata": {},
     "output_type": "execute_result"
    }
   ],
   "source": [
    "df_improved.columns"
   ]
  },
  {
   "cell_type": "code",
   "execution_count": 160,
   "id": "9e18ac09-1b39-4c65-b589-0daea5c77089",
   "metadata": {},
   "outputs": [
    {
     "name": "stdout",
     "output_type": "stream",
     "text": [
      "Optimization terminated successfully.\n",
      "         Current function value: 0.398174\n",
      "         Iterations 6\n",
      "                           Logit Regression Results                           \n",
      "==============================================================================\n",
      "Dep. Variable:                 Churn?   No. Observations:                 2321\n",
      "Model:                          Logit   Df Residuals:                     2312\n",
      "Method:                           MLE   Df Model:                            8\n",
      "Date:                Tue, 24 Sep 2024   Pseudo R-squ.:                 0.04065\n",
      "Time:                        14:31:06   Log-Likelihood:                -924.16\n",
      "converged:                       True   LL-Null:                       -963.33\n",
      "Covariance Type:            nonrobust   LLR p-value:                 1.061e-13\n",
      "==================================================================================\n",
      "                     coef    std err          z      P>|z|      [0.025      0.975]\n",
      "----------------------------------------------------------------------------------\n",
      "Day Mins           0.0088      0.001      7.910      0.000       0.007       0.011\n",
      "Day Calls         -0.0104      0.003     -3.879      0.000      -0.016      -0.005\n",
      "Eve Mins           0.0016      0.001      1.474      0.140      -0.001       0.004\n",
      "Eve Calls         -0.0098      0.003     -3.577      0.000      -0.015      -0.004\n",
      "Night Mins        -0.0011      0.001     -1.043      0.297      -0.003       0.001\n",
      "Night Calls       -0.0120      0.003     -4.315      0.000      -0.018      -0.007\n",
      "Intl Mins          0.0294      0.020      1.438      0.151      -0.011       0.069\n",
      "Intl Calls        -0.1355      0.028     -4.842      0.000      -0.190      -0.081\n",
      "Account Length    -0.0003      0.001     -0.203      0.839      -0.003       0.003\n",
      "==================================================================================\n"
     ]
    }
   ],
   "source": [
    "import statsmodels.api as sm \n",
    "from sklearn.model_selection import train_test_split\n",
    "feature_cols = [\"Day Mins\",'Day Calls',\"Eve Mins\",\"Eve Calls\",\"Night Mins\",\"Night Calls\",\"Intl Mins\",\"Intl Calls\",\"Account Length\"]\n",
    "X = df_improved[feature_cols]\n",
    "y = df_improved[\"Churn?\"]\n",
    "X_train,X_test,y_train,y_test = train_test_split(X,y, test_size = 0.3, random_state = 1)\n",
    "logit_backward = sm.Logit(y_train,X_train)\n",
    "result = logit_backward.fit()\n",
    "print(result.summary())\n"
   ]
  },
  {
   "cell_type": "markdown",
   "id": "7d93c952-4977-47f6-a594-b4a2dbaebdb6",
   "metadata": {},
   "source": [
    "From this result eve mins, night_mins, Intl mins have p-value larger than 0.05 so we would remove that columns"
   ]
  },
  {
   "cell_type": "code",
   "execution_count": 119,
   "id": "2209b18b-c50a-407c-8536-446702828e64",
   "metadata": {},
   "outputs": [
    {
     "data": {
      "text/plain": [
       "Index(['State', 'Account Length', 'Area Code', 'Phone', 'Int'l Plan',\n",
       "       'VMail Plan', 'VMail Message', 'Day Mins', 'Day Calls', 'Eve Mins',\n",
       "       'Eve Calls', 'Night Mins', 'Night Calls', 'Intl Mins', 'Intl Calls',\n",
       "       'CustServ Calls', 'Churn?'],\n",
       "      dtype='object')"
      ]
     },
     "execution_count": 119,
     "metadata": {},
     "output_type": "execute_result"
    }
   ],
   "source": [
    "df_improved.columns"
   ]
  },
  {
   "cell_type": "code",
   "execution_count": 121,
   "id": "48817b16-029f-4444-bd23-5ad94563d9c9",
   "metadata": {},
   "outputs": [],
   "source": [
    "cat_cols = df_improved.columns.drop(['Account Length', 'Phone', 'VMail Message', 'Day Mins', 'Day Calls', 'Eve Calls',\n",
    "       'Night Calls', 'Intl Calls', 'CustServ Calls', 'Churn?',\"Eve Mins\",\"Night Mins\",\"Intl Mins\"])"
   ]
  },
  {
   "cell_type": "code",
   "execution_count": 123,
   "id": "12ed74b9-21ba-4767-b989-470588d3a213",
   "metadata": {},
   "outputs": [],
   "source": [
    "conti_cols = df_improved.columns.drop(['State', 'Area Code', \"Int'l Plan\", 'VMail Plan','Phone',\"Churn?\"])"
   ]
  },
  {
   "cell_type": "markdown",
   "id": "e0bd8e5f-3a7b-4e16-8dee-d2910fb92753",
   "metadata": {},
   "source": [
    "### Weight of Evidence"
   ]
  },
  {
   "cell_type": "code",
   "execution_count": 165,
   "id": "010476bc-d5bc-4921-93b9-8f6b8d75af85",
   "metadata": {},
   "outputs": [],
   "source": [
    "import numpy as np\n",
    "import pandas as pd\n",
    "\n",
    "# Function to calculate WoE and IV for a given feature (continuous or categorical)\n",
    "def calculate_woe_iv(data, feature, target, bins=10, method='quantile', is_continuous=True):\n",
    "    if is_continuous:\n",
    "        # Binning the continuous variable\n",
    "        if method == 'quantile':\n",
    "            data['binned'] = pd.qcut(data[feature], bins, duplicates='drop')\n",
    "        else:\n",
    "            data['binned'] = pd.cut(data[feature], bins)\n",
    "    else:\n",
    "        # For categorical variables, use the feature directly\n",
    "        data['binned'] = data[feature]\n",
    "\n",
    "    # Creating a summary table\n",
    "    summary = data.groupby('binned').agg({target: ['count', 'sum']})\n",
    "    summary.columns = ['total', 'events']\n",
    "    summary['non_events'] = summary['total'] - summary['events']\n",
    "    \n",
    "    # Calculate WoE and IV\n",
    "    summary['event_rate'] = summary['events'] / summary['events'].sum()\n",
    "    summary['non_event_rate'] = summary['non_events'] / summary['non_events'].sum()\n",
    "    \n",
    "    # Avoid division by zero issues\n",
    "    summary['woe'] = np.log((summary['event_rate'] + 0.0001) / (summary['non_event_rate'] + 0.0001))\n",
    "    summary['iv'] = (summary['event_rate'] - summary['non_event_rate']) * summary['woe']\n",
    "    \n",
    "    # Information Value for the feature\n",
    "    iv = summary['iv'].sum()\n",
    "    \n",
    "    return summary, iv\n",
    "\n",
    "# Categorical: 'VMail Plan' (Yes/No)\n",
    "#woe_summary_vmail_plan, iv_vmail_plan = calculate_woe_iv(df, 'VMail Plan', 'Churn?', is_continuous=False)\n",
    "#print(f\"Information Value (IV) for VMail Plan: {iv_vmail_plan}\")\n"
   ]
  },
  {
   "cell_type": "code",
   "execution_count": 167,
   "id": "10f963b4-1983-4447-b857-709f6a2cd0d2",
   "metadata": {},
   "outputs": [
    {
     "name": "stdout",
     "output_type": "stream",
     "text": [
      "Information Value (IV) for State: 0.20025402525973238\n",
      "Information Value (IV) for Area Code: 0.00045672289642484506\n",
      "Information Value (IV) for Int'l Plan: 0.38040256810757445\n",
      "Information Value (IV) for VMail Plan: 0.09617966841107672\n"
     ]
    }
   ],
   "source": [
    "for col in cat_cols:\n",
    "    woe_summary_col, iv_col = calculate_woe_iv(df_improved,col, 'Churn?', is_continuous=False)\n",
    "    print(f\"Information Value (IV) for {col}: {iv_col}\")\n",
    "\n"
   ]
  },
  {
   "cell_type": "code",
   "execution_count": 169,
   "id": "bbde16ec-2d2f-4bde-ac0b-c1be90dca924",
   "metadata": {},
   "outputs": [
    {
     "name": "stdout",
     "output_type": "stream",
     "text": [
      "IV for Account Length is 0.017275533497357897\n",
      "IV for VMail Message is 0.027112799233474885\n",
      "IV for Day Mins is 0.7000567385535761\n",
      "IV for Day Calls is 0.02626455387997179\n",
      "IV for Eve Mins is 0.09140338354340079\n",
      "IV for Eve Calls is 0.006010717814418344\n",
      "IV for Night Mins is 0.029260201755706632\n",
      "IV for Night Calls is 0.022742945344018037\n",
      "IV for Intl Mins is 0.06263827914251463\n",
      "IV for Intl Calls is 0.06768194775196987\n",
      "IV for CustServ Calls is 0.516489267935963\n"
     ]
    }
   ],
   "source": [
    "for col in conti_cols:\n",
    "    woe_summary_col, iv_col = calculate_woe_iv(df_improved,col, 'Churn?', is_continuous=True)\n",
    "    print(f\"IV for {col} is {iv_col}\")\n"
   ]
  },
  {
   "cell_type": "markdown",
   "id": "2eaff163-2669-44e2-b771-e2fffb256699",
   "metadata": {},
   "source": [
    "from above IV and p-value from logistic regression we decide to drop Eve mins, night mins and intl mins"
   ]
  },
  {
   "cell_type": "code",
   "execution_count": 171,
   "id": "bc7ba683-d028-42cc-8d7f-a8434961e8d7",
   "metadata": {},
   "outputs": [],
   "source": [
    "df_improved = df_improved.drop([\"Eve Mins\",\"Night Mins\",\"Intl Mins\",\"binned\",\"Account Length\"],axis = 1)\n"
   ]
  },
  {
   "cell_type": "code",
   "execution_count": 173,
   "id": "ffbcc35d-13ac-4ca9-b0bf-c2ed0554ffa8",
   "metadata": {},
   "outputs": [
    {
     "data": {
      "text/plain": [
       "Index(['State', 'Area Code', 'Phone', 'Int'l Plan', 'VMail Plan',\n",
       "       'VMail Message', 'Day Mins', 'Day Calls', 'Eve Calls', 'Night Calls',\n",
       "       'Intl Calls', 'CustServ Calls', 'Churn?'],\n",
       "      dtype='object')"
      ]
     },
     "execution_count": 173,
     "metadata": {},
     "output_type": "execute_result"
    }
   ],
   "source": [
    "df_improved.columns"
   ]
  },
  {
   "cell_type": "markdown",
   "id": "3bdf70ce-8c66-4e8b-80d7-6924a6acacd6",
   "metadata": {},
   "source": [
    "### Logistic Regression on Improved df"
   ]
  },
  {
   "cell_type": "code",
   "execution_count": 206,
   "id": "00bdbb1b-f9ba-431e-abd8-b4edbbdd81c4",
   "metadata": {},
   "outputs": [
    {
     "name": "stdout",
     "output_type": "stream",
     "text": [
      "Optimization terminated successfully.\n",
      "         Current function value: 0.341247\n",
      "         Iterations 7\n",
      "                           Logit Regression Results                           \n",
      "==============================================================================\n",
      "Dep. Variable:                 Churn?   No. Observations:                 2653\n",
      "Model:                          Logit   Df Residuals:                     2645\n",
      "Method:                           MLE   Df Model:                            7\n",
      "Date:                Tue, 24 Sep 2024   Pseudo R-squ.:                  0.1679\n",
      "Time:                        15:24:20   Log-Likelihood:                -905.33\n",
      "converged:                       True   LL-Null:                       -1088.0\n",
      "Covariance Type:            nonrobust   LLR p-value:                 6.150e-75\n",
      "==================================================================================\n",
      "                     coef    std err          z      P>|z|      [0.025      0.975]\n",
      "----------------------------------------------------------------------------------\n",
      "Area Code         -0.0068      0.006     -1.155      0.248      -0.018       0.005\n",
      "Int'l Plan         2.0447      0.274      7.470      0.000       1.508       2.581\n",
      "Day Calls         -0.0024        nan        nan        nan         nan         nan\n",
      "Eve Calls         -0.0029   3.23e+13  -9.11e-17      1.000   -6.32e+13    6.32e+13\n",
      "Day Mins           0.0108      0.002      6.880      0.000       0.008       0.014\n",
      "Day Calls         -0.0024        nan        nan        nan         nan         nan\n",
      "Eve Calls         -0.0029   3.23e+13  -8.95e-17      1.000   -6.32e+13    6.32e+13\n",
      "Night Calls       -0.0046        nan        nan        nan         nan         nan\n",
      "Intl Calls        -0.1220      0.026     -4.668      0.000      -0.173      -0.071\n",
      "CustServ Calls     0.4670          0        inf      0.000       0.467       0.467\n",
      "==================================================================================\n",
      "Precision 0.20388349514563106\n",
      "Recall 0.5833333333333334\n",
      "Accuracy 0.8539156626506024\n"
     ]
    }
   ],
   "source": [
    "from sklearn.linear_model import LogisticRegression\n",
    "from sklearn.model_selection import train_test_split\n",
    "from sklearn import metrics\n",
    "improved_feature_cols = [\"Area Code\",\"Int'l Plan\",\"Day Calls\",\"Eve Calls\",\"Day Mins\",\"Day Calls\",'Eve Calls', 'Night Calls',\n",
    "       'Intl Calls', 'CustServ Calls']\n",
    "X = df_improved[improved_feature_cols]\n",
    "y = df_improved[\"Churn?\"]\n",
    "X_train, X_test, y_train, y_test = train_test_split(X,y,test_size = 0.2, random_state = 1)\n",
    "model = sm.Logit(y_train,X_train)\n",
    "result = model.fit()\n",
    "print(result.summary())\n",
    "print(f\"Precision {metrics.precision_score(y_pred,y_test)}\")\n",
    "print(f\"Recall {metrics.recall_score(y_pred,y_test)}\")\n",
    "print(f\"Accuracy {metrics.accuracy_score(y_pred,y_test)}\")\n"
   ]
  },
  {
   "cell_type": "markdown",
   "id": "5d241683-7ef1-426c-99ed-db541e240118",
   "metadata": {},
   "source": [
    "### Random Forest "
   ]
  },
  {
   "cell_type": "code",
   "execution_count": 208,
   "id": "981aa5a3-2691-4b0f-ba09-26b28157ebf9",
   "metadata": {},
   "outputs": [
    {
     "name": "stdout",
     "output_type": "stream",
     "text": [
      "Precision 0.47572815533980584\n",
      "Recall 0.7777777777777778\n",
      "Accuracy 0.8975903614457831\n"
     ]
    }
   ],
   "source": [
    "from sklearn.ensemble import RandomForestClassifier\n",
    "rdforest = RandomForestClassifier()\n",
    "rdforest.fit(X_train,y_train)\n",
    "y_pred = rdforest.predict(X_test)\n",
    "print(f\"Precision {metrics.precision_score(y_pred,y_test)}\")\n",
    "print(f\"Recall {metrics.recall_score(y_pred,y_test)}\")\n",
    "print(f\"Accuracy {metrics.accuracy_score(y_pred,y_test)}\")\n"
   ]
  },
  {
   "cell_type": "code",
   "execution_count": 216,
   "id": "2ffec08d-aa1b-48a7-9d63-10d8080ebe35",
   "metadata": {},
   "outputs": [
    {
     "name": "stdout",
     "output_type": "stream",
     "text": [
      "          Feature  Importance\n",
      "4        Day Mins        0.26\n",
      "9  CustServ Calls        0.15\n",
      "8      Intl Calls        0.09\n",
      "7     Night Calls        0.09\n",
      "1      Int'l Plan        0.09\n",
      "5       Day Calls        0.08\n",
      "2       Day Calls        0.08\n",
      "6       Eve Calls        0.07\n",
      "3       Eve Calls        0.07\n",
      "0       Area Code        0.03\n"
     ]
    }
   ],
   "source": [
    "importances = rdforest.feature_importances_\n",
    "\n",
    "# Create a DataFrame to display feature importance with corresponding feature names\n",
    "feature_importance_df = pd.DataFrame({\n",
    "    'Feature': improved_feature_cols,\n",
    "    'Importance': importances\n",
    "}).sort_values(by='Importance', ascending=False)\n",
    "\n",
    "# Display feature importance\n",
    "print(feature_importance_df)\n"
   ]
  },
  {
   "cell_type": "code",
   "execution_count": null,
   "id": "263d643b-587a-462c-8ff0-9cbeb70cdafb",
   "metadata": {},
   "outputs": [],
   "source": []
  }
 ],
 "metadata": {
  "kernelspec": {
   "display_name": "Python 3 (ipykernel)",
   "language": "python",
   "name": "python3"
  },
  "language_info": {
   "codemirror_mode": {
    "name": "ipython",
    "version": 3
   },
   "file_extension": ".py",
   "mimetype": "text/x-python",
   "name": "python",
   "nbconvert_exporter": "python",
   "pygments_lexer": "ipython3",
   "version": "3.12.4"
  }
 },
 "nbformat": 4,
 "nbformat_minor": 5
}
